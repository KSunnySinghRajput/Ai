{
 "cells": [
  {
   "cell_type": "markdown",
   "metadata": {},
   "source": [
    "# Metedata"
   ]
  },
  {
   "cell_type": "code",
   "execution_count": 1,
   "metadata": {},
   "outputs": [
    {
     "name": "stdout",
     "output_type": "stream",
     "text": [
      "[{'Error': 'Filenotfound-SampleSong/KGF.mp3'}]\n"
     ]
    }
   ],
   "source": [
    "import subprocess\n",
    "exe = \"exiftool(metadata)/exiftool.exe\"\n",
    "file = \"Sample Song/KGF.mp3\"\n",
    "process = subprocess.Popen([exe,file],stdout=subprocess.PIPE,stderr=subprocess.STDOUT)\n",
    "metatag=list()\n",
    "for output in process.stdout:\n",
    "    output =bytes(output).decode(\"utf-8\")\n",
    "    info ={}\n",
    "    line=output.strip().split(':')\n",
    "    if len(line[1:]) == 1:\n",
    "        a=line[1]\n",
    "        a=a.replace(\" \", \"\")\n",
    "    else:\n",
    "        a=\":\".join(line[1:]).strip()  \n",
    "    \n",
    "    info[line[0].strip()]=a\n",
    "    metatag.append(info)\n",
    "print(metatag)"
   ]
  },
  {
   "cell_type": "markdown",
   "metadata": {},
   "source": [
    "## Pydub\n",
    "pip install pydub\n",
    "- Manipulate audio with a simple and easy high level interface"
   ]
  },
  {
   "cell_type": "code",
   "execution_count": 32,
   "metadata": {},
   "outputs": [],
   "source": [
    "import os\n",
    "os.environ[\"PATH\"]=os.environ[\"PATH\"]+\";\"+os.getcwd()+\"\\\\ffmpeg\\\\bin\""
   ]
  },
  {
   "cell_type": "code",
   "execution_count": 33,
   "metadata": {},
   "outputs": [
    {
     "data": {
      "text/plain": [
       "'e:\\\\bitnami\\\\djangostack\\\\python\\\\lib\\\\site-packages\\\\pywin32_system32;C:\\\\ProgramData\\\\chocolatey\\\\bin;C:\\\\Windows;C:\\\\Windows\\\\system32;C:\\\\Windows\\\\System32\\\\Wbem;C:\\\\Windows\\\\System32\\\\OpenSSH\\\\;C:\\\\Windows\\\\System32\\\\WindowsPowerShell\\\\v1.0\\\\;C:\\\\Program Files (x86)\\\\NVIDIA Corporation\\\\PhysX\\\\Common;C:\\\\Program Files (x86)\\\\Common Files\\\\Oracle\\\\Java\\\\javapath;C:\\\\Program Files\\\\NVIDIA GPU Computing Toolkit\\\\CUDA\\\\v11.0\\\\bin;C:\\\\Program Files\\\\NVIDIA GPU Computing Toolkit\\\\CUDA\\\\v11.0\\\\libnvvp;C:\\\\Program Files\\\\NVIDIA Corporation\\\\NVIDIA NvDLISR;C:\\\\Program Files\\\\NVIDIA Corporation\\\\Nsight Compute 2020.1.0\\\\;C:\\\\Users\\\\Sunny Singh\\\\ProgramFile\\\\VStudio\\\\2019\\\\Community\\\\VC\\\\Tools\\\\MSVC\\\\14.26.28801\\\\bin\\\\;;C:\\\\Users\\\\Sunny Singh\\\\ProgramFile\\\\VSCode\\\\bin;C:\\\\Users\\\\Sunny Singh\\\\AppData\\\\Local\\\\Microsoft\\\\WindowsApps;C:\\\\Users\\\\Sunny Singh\\\\AppData\\\\Local\\\\GitHubDesktop;C:\\\\Users\\\\Sunny Singh\\\\AppData\\\\Roaming\\\\npm;C:\\\\Users\\\\Sunny Singh\\\\Microsoft\\\\VS Code\\\\bin;C:\\\\Users\\\\Sunny Singh\\\\Microsoft\\\\VS Code;C:\\\\Users\\\\Sunny Singh\\\\Oracle\\\\Java\\\\jdk1.8.0_251\\\\bin;C:\\\\Users\\\\Sunny Singh\\\\Oracle\\\\Java\\\\jre1.8.0_251\\\\bin;E:\\\\Bitnami\\\\djangostack\\\\nodejs\\\\;E:\\\\Bitnami\\\\djangostack\\\\nodejs\\\\node_modules\\\\npm\\\\bin;E:\\\\Bitnami\\\\djangostack\\\\python;E:\\\\Bitnami\\\\djangostack\\\\python\\\\Scripts;E:\\\\Cygwin\\\\Install\\\\bin;C:\\\\Users\\\\Sunny Singh\\\\ProgramFile\\\\VStudio\\\\2019\\\\Community\\\\VC\\\\Tools\\\\MSVC\\\\14.26.28801\\\\bin;C:\\\\Users\\\\Sunny Singh\\\\AppData\\\\Local\\\\GitHubDesktop\\\\bin;;E:\\\\Python\\\\Artificial_Intelligence\\\\Proceesing\\\\Audio&Video\\\\ffmpeg\\\\bin;E:\\\\Python\\\\Artificial_Intelligence\\\\Proceesing\\\\Audio&Video\\\\ffmpeg\\\\bin'"
      ]
     },
     "execution_count": 33,
     "metadata": {},
     "output_type": "execute_result"
    }
   ],
   "source": [
    "os.environ[\"PATH\"]"
   ]
  },
  {
   "cell_type": "code",
   "execution_count": 6,
   "metadata": {
    "scrolled": true
   },
   "outputs": [
    {
     "ename": "ModuleNotFoundError",
     "evalue": "No module named 'pydub'",
     "output_type": "error",
     "traceback": [
      "\u001b[1;31m---------------------------------------------------------------------------\u001b[0m",
      "\u001b[1;31mModuleNotFoundError\u001b[0m                       Traceback (most recent call last)",
      "\u001b[1;32m<ipython-input-6-1b3fb7bab9ab>\u001b[0m in \u001b[0;36m<module>\u001b[1;34m\u001b[0m\n\u001b[1;32m----> 1\u001b[1;33m \u001b[1;32mfrom\u001b[0m \u001b[0mpydub\u001b[0m\u001b[1;33m.\u001b[0m\u001b[0mplayback\u001b[0m \u001b[1;32mimport\u001b[0m \u001b[0mplay\u001b[0m\u001b[1;33m\u001b[0m\u001b[1;33m\u001b[0m\u001b[0m\n\u001b[0m\u001b[0;32m      2\u001b[0m \u001b[1;32mfrom\u001b[0m \u001b[0mpydub\u001b[0m \u001b[1;32mimport\u001b[0m \u001b[0mAudioSegment\u001b[0m\u001b[1;33m\u001b[0m\u001b[1;33m\u001b[0m\u001b[0m\n",
      "\u001b[1;31mModuleNotFoundError\u001b[0m: No module named 'pydub'"
     ]
    }
   ],
   "source": [
    "from pydub.playback import play\n",
    "from pydub import AudioSegment"
   ]
  },
  {
   "cell_type": "markdown",
   "metadata": {},
   "source": [
    "# File & load"
   ]
  },
  {
   "cell_type": "code",
   "execution_count": 35,
   "metadata": {},
   "outputs": [],
   "source": [
    "song_name = \"Sample Song/around_the_world.wav\"\n",
    "split=song_name.split('.')\n",
    "song = AudioSegment.from_file(song_name, format=split[-1])\n",
    "#song = AudioSegment.from_wav(\"never_gonna_give_you_up.wav\")\n"
   ]
  },
  {
   "cell_type": "code",
   "execution_count": 36,
   "metadata": {},
   "outputs": [],
   "source": [
    "#song = AudioSegment.from_mp3(song_name)\n",
    "#ogg_version = AudioSegment.from_ogg(\"never_gonna_give_you_up.ogg\")\n",
    "#flv_version = AudioSegment.from_flv(\"never_gonna_give_you_up.flv\")\n",
    "\n",
    "#mp4_version = AudioSegment.from_file(\"never_gonna_give_you_up.mp4\", \"mp4\")\n",
    "#wma_version = AudioSegment.from_file(\"never_gonna_give_you_up.wma\", \"wma\")\n",
    "#aac_version = AudioSegment.from_file(\"never_gonna_give_you_up.aiff\", \"aac\")"
   ]
  },
  {
   "cell_type": "code",
   "execution_count": 37,
   "metadata": {},
   "outputs": [
    {
     "data": {
      "text/plain": [
       "218.35755102040815"
      ]
     },
     "execution_count": 37,
     "metadata": {},
     "output_type": "execute_result"
    }
   ],
   "source": [
    "song.duration_seconds"
   ]
  },
  {
   "cell_type": "code",
   "execution_count": 38,
   "metadata": {},
   "outputs": [
    {
     "data": {
      "text/plain": [
       "218358"
      ]
     },
     "execution_count": 38,
     "metadata": {},
     "output_type": "execute_result"
    }
   ],
   "source": [
    "len(song)"
   ]
  },
  {
   "cell_type": "code",
   "execution_count": 39,
   "metadata": {},
   "outputs": [
    {
     "data": {
      "text/plain": [
       "2"
      ]
     },
     "execution_count": 39,
     "metadata": {},
     "output_type": "execute_result"
    }
   ],
   "source": [
    "song.sample_width"
   ]
  },
  {
   "cell_type": "code",
   "execution_count": 40,
   "metadata": {},
   "outputs": [
    {
     "data": {
      "text/plain": [
       "22050"
      ]
     },
     "execution_count": 40,
     "metadata": {},
     "output_type": "execute_result"
    }
   ],
   "source": [
    "song.frame_rate"
   ]
  },
  {
   "cell_type": "code",
   "execution_count": 41,
   "metadata": {},
   "outputs": [
    {
     "data": {
      "text/plain": [
       "-8.095184753719272"
      ]
     },
     "execution_count": 41,
     "metadata": {},
     "output_type": "execute_result"
    }
   ],
   "source": [
    "song.dBFS"
   ]
  },
  {
   "cell_type": "code",
   "execution_count": 42,
   "metadata": {},
   "outputs": [
    {
     "data": {
      "text/plain": [
       "2"
      ]
     },
     "execution_count": 42,
     "metadata": {},
     "output_type": "execute_result"
    }
   ],
   "source": [
    "song.frame_width"
   ]
  },
  {
   "cell_type": "markdown",
   "metadata": {},
   "source": [
    "## Play"
   ]
  },
  {
   "cell_type": "code",
   "execution_count": 2,
   "metadata": {},
   "outputs": [],
   "source": [
    "try:\n",
    "     play(song)\n",
    "except:\n",
    "       pass"
   ]
  },
  {
   "cell_type": "code",
   "execution_count": 8,
   "metadata": {},
   "outputs": [
    {
     "ename": "ModuleNotFoundError",
     "evalue": "No module named 'playsound'",
     "output_type": "error",
     "traceback": [
      "\u001b[1;31m---------------------------------------------------------------------------\u001b[0m",
      "\u001b[1;31mModuleNotFoundError\u001b[0m                       Traceback (most recent call last)",
      "\u001b[1;32m<ipython-input-8-cd68c31f22cf>\u001b[0m in \u001b[0;36m<module>\u001b[1;34m\u001b[0m\n\u001b[1;32m----> 1\u001b[1;33m \u001b[1;32mfrom\u001b[0m \u001b[0mplaysound\u001b[0m \u001b[1;32mimport\u001b[0m \u001b[0mplaysound\u001b[0m\u001b[1;33m\u001b[0m\u001b[1;33m\u001b[0m\u001b[0m\n\u001b[0m\u001b[0;32m      2\u001b[0m \u001b[0mplay\u001b[0m\u001b[1;33m(\u001b[0m\u001b[1;34m'_dataset/SampleSong/Chhapaak.mp3'\u001b[0m\u001b[1;33m)\u001b[0m\u001b[1;33m\u001b[0m\u001b[1;33m\u001b[0m\u001b[0m\n",
      "\u001b[1;31mModuleNotFoundError\u001b[0m: No module named 'playsound'"
     ]
    }
   ],
   "source": [
    "from playsound import playsound\n",
    "play('_dataset/SampleSong/Chhapaak.mp3')"
   ]
  },
  {
   "cell_type": "markdown",
   "metadata": {},
   "source": [
    "# Slice audio:"
   ]
  },
  {
   "cell_type": "code",
   "execution_count": null,
   "metadata": {},
   "outputs": [],
   "source": [
    "# pydub does things in milliseconds\n",
    "ten_seconds = 10 * 1000\n",
    "first_10_seconds = song[:ten_seconds]\n",
    "try:\n",
    "     play(first_10_seconds)\n",
    "except:\n",
    "       pass\n"
   ]
  },
  {
   "cell_type": "code",
   "execution_count": null,
   "metadata": {},
   "outputs": [],
   "source": [
    "last_5_seconds = song[-5000:]\n",
    "try:\n",
    "     play(last_5_seconds)\n",
    "except:\n",
    "       pass"
   ]
  },
  {
   "cell_type": "markdown",
   "metadata": {},
   "source": [
    "### Louder and the end quieter\n"
   ]
  },
  {
   "cell_type": "code",
   "execution_count": null,
   "metadata": {},
   "outputs": [],
   "source": [
    "# boost volume by 6dB\n",
    "beginning = first_10_seconds + 6\n",
    "try:\n",
    "     play(beginning)\n",
    "except:\n",
    "       pass"
   ]
  },
  {
   "cell_type": "code",
   "execution_count": null,
   "metadata": {},
   "outputs": [],
   "source": [
    "# reduce volume by 3dB\n",
    "end = last_5_seconds - 3\n",
    "try:\n",
    "     play(end)\n",
    "except:\n",
    "       pass"
   ]
  },
  {
   "cell_type": "markdown",
   "metadata": {},
   "source": [
    "### Concatenate audio (add one file to the end of another)"
   ]
  },
  {
   "cell_type": "code",
   "execution_count": null,
   "metadata": {},
   "outputs": [],
   "source": [
    "without_the_middle = beginning + end\n",
    "try:\n",
    "     play(without_the_middle)\n",
    "except:\n",
    "       pass"
   ]
  },
  {
   "cell_type": "markdown",
   "metadata": {},
   "source": [
    "### AudioSegments are immutable"
   ]
  },
  {
   "cell_type": "code",
   "execution_count": null,
   "metadata": {},
   "outputs": [],
   "source": [
    "# song is not modified\n",
    "backwards = song.reverse()\n",
    "try:\n",
    "     play(backwards)\n",
    "except:\n",
    "       pass"
   ]
  },
  {
   "cell_type": "markdown",
   "metadata": {},
   "source": [
    "### Crossfade (again, beginning and end are not modified)"
   ]
  },
  {
   "cell_type": "code",
   "execution_count": null,
   "metadata": {},
   "outputs": [],
   "source": [
    "# 1.5 second crossfade\n",
    "with_style = beginning.append(end, crossfade=1500)\n",
    "try:\n",
    "     play(with_style)\n",
    "except:\n",
    "       pass"
   ]
  },
  {
   "cell_type": "markdown",
   "metadata": {},
   "source": [
    "### Repeat"
   ]
  },
  {
   "cell_type": "code",
   "execution_count": null,
   "metadata": {},
   "outputs": [],
   "source": [
    "# repeat the clip twice\n",
    "do_it_over = with_style * 2\n",
    "try:\n",
    "     play(do_it_over)\n",
    "except:\n",
    "       pass"
   ]
  },
  {
   "cell_type": "markdown",
   "metadata": {},
   "source": [
    "### Fade (note that you can chain operations because everything returns an AudioSegment)"
   ]
  },
  {
   "cell_type": "code",
   "execution_count": null,
   "metadata": {},
   "outputs": [],
   "source": [
    "# 2 sec fade in, 3 sec fade out\n",
    "awesome = do_it_over.fade_in(2000).fade_out(3000)\n",
    "try:\n",
    "     play(awesome)\n",
    "except:\n",
    "       pass"
   ]
  },
  {
   "cell_type": "markdown",
   "metadata": {},
   "source": [
    "# ffmpeg used to command line video convert \n",
    "- https://ffmpeg.zeranoe.com/builds/\n",
    "- pip install ffmpeg-python\n",
    "- https://github.com/kkroening/ffmpeg-python"
   ]
  },
  {
   "cell_type": "code",
   "execution_count": null,
   "metadata": {},
   "outputs": [],
   "source": [
    "# 2 sec fade in, 3 sec fade out\n",
    "awesome = do_it_over.fade_in(2000).fade_out(3000)"
   ]
  },
  {
   "cell_type": "code",
   "execution_count": null,
   "metadata": {},
   "outputs": [],
   "source": [
    "song_name=\"Sample Song/around_the_world.wav\"\n",
    "split=song_name.split('.')\n",
    "song = AudioSegment.from_file(song_name, format=split[-1])\n",
    "song.export(\"Sample Song/mashup.wav\", format=\"mp3\",bitrate='128')\n"
   ]
  },
  {
   "cell_type": "markdown",
   "metadata": {},
   "source": [
    "# Save the results (again whatever ffmpeg supports)"
   ]
  },
  {
   "cell_type": "code",
   "execution_count": null,
   "metadata": {},
   "outputs": [],
   "source": [
    "awesome.ffmpeg\n",
    "awesome.export(\"Sample Song/mashup.wav\", format=\"mp3\",bitrate='128')"
   ]
  },
  {
   "cell_type": "code",
   "execution_count": null,
   "metadata": {},
   "outputs": [],
   "source": [
    "dst_convert = \"Sample Song/around_the_world1.wav\"\n",
    "song.export(dst_convert, format=\"mp3\")"
   ]
  },
  {
   "cell_type": "code",
   "execution_count": null,
   "metadata": {},
   "outputs": [],
   "source": [
    "\n",
    "sound.export('new.mp3', format='mp3', codec='mp3') "
   ]
  },
  {
   "cell_type": "code",
   "execution_count": null,
   "metadata": {},
   "outputs": [],
   "source": [
    "def prepro_audio(source_path, target_path, format=None, sr=None, db=None):\n",
    "    \"\"\"\n",
    "    Read a wav, change sample rate, format, and average decibel and write to target path.\n",
    "    :param source_path: source wav file path\n",
    "    :param target_path: target wav file path\n",
    "    :param sr: sample rate.\n",
    "    :param format: output audio format.\n",
    "    :param db: decibel.\n",
    "    \"\"\"\n",
    "    sound = AudioSegment.from_file(source_path, format)\n",
    "    if sr:\n",
    "        sound = sound.set_frame_rate(sr)\n",
    "    if db:\n",
    "        change_dBFS = db - sound.dBFS\n",
    "        sound = sound.apply_gain(change_dBFS)\n",
    "    sound.export(target_path, 'wav') \n",
    "prepro_audio(source_path, target_path)"
   ]
  },
  {
   "cell_type": "code",
   "execution_count": null,
   "metadata": {},
   "outputs": [],
   "source": []
  }
 ],
 "metadata": {
  "kernelspec": {
   "display_name": "Python 3",
   "language": "python",
   "name": "python3"
  },
  "language_info": {
   "codemirror_mode": {
    "name": "ipython",
    "version": 3
   },
   "file_extension": ".py",
   "mimetype": "text/x-python",
   "name": "python",
   "nbconvert_exporter": "python",
   "pygments_lexer": "ipython3",
   "version": "3.7.8"
  }
 },
 "nbformat": 4,
 "nbformat_minor": 4
}
