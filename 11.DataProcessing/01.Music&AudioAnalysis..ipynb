{
 "cells": [
  {
   "cell_type": "markdown",
   "id": "yellow-plain",
   "metadata": {},
   "source": [
    "## [librosa](https://librosa.org/doc/latest/index.html)\n",
    "- librosa is a python package for music and audio analysis. It provides the building blocks necessary to create music information retrieval systems.\n",
    "\n",
    "## [ffmpeg](https://www.ffmpeg.org/)\n",
    "\n",
    "## [pydub]()\n",
    "[pydub](https://github.com/jiaaro/pydub/)\n",
    "- Manipulate audio with an simple and easy high level interface.\n",
    "\n",
    "## [pyaudio]()\n",
    "- PyAudio v0.2.11: Python Bindings for PortAudio."
   ]
  },
  {
   "cell_type": "code",
   "execution_count": null,
   "id": "animal-hungary",
   "metadata": {},
   "outputs": [],
   "source": [
    "#pip install librosa\n",
    "#\n",
    "#https://gstreamer.freedesktop.org/download/\n"
   ]
  }
 ],
 "metadata": {
  "kernelspec": {
   "display_name": "Python 3",
   "language": "python",
   "name": "python3"
  },
  "language_info": {
   "codemirror_mode": {
    "name": "ipython",
    "version": 3
   },
   "file_extension": ".py",
   "mimetype": "text/x-python",
   "name": "python",
   "nbconvert_exporter": "python",
   "pygments_lexer": "ipython3",
   "version": "3.7.8"
  }
 },
 "nbformat": 4,
 "nbformat_minor": 5
}
