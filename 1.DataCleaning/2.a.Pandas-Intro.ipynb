{
 "cells": [
  {
   "cell_type": "markdown",
   "id": "derived-result",
   "metadata": {},
   "source": [
    "# <center><u>Pandas</u></center> "
   ]
  },
  {
   "cell_type": "markdown",
   "id": "satisfactory-ethernet",
   "metadata": {},
   "source": [
    "- it is an open source library/package for python programming to work with structured,labeled data.\n",
    "- it provides many objects like :\n",
    "\t- DataFrame\n",
    "\t- Series\n",
    "\t- Panel\n",
    "    \n",
    "**DataFrame:**\n",
    "- Object of this type represents structured,labeled data.\n",
    "- We may create dataframe from csv,excel,json,html,database,hadoop, etc.\n",
    "- Provides ready made function/methods for data preprocessing/cleaning.\n",
    "\n",
    "**Reqierment:**<br>\n",
    "    <center>pip install pandas</center> "
   ]
  },
  {
   "cell_type": "code",
   "execution_count": null,
   "id": "arbitrary-pressing",
   "metadata": {},
   "outputs": [],
   "source": []
  }
 ],
 "metadata": {
  "kernelspec": {
   "display_name": "Python 3",
   "language": "python",
   "name": "python3"
  },
  "language_info": {
   "codemirror_mode": {
    "name": "ipython",
    "version": 3
   },
   "file_extension": ".py",
   "mimetype": "text/x-python",
   "name": "python",
   "nbconvert_exporter": "python",
   "pygments_lexer": "ipython3",
   "version": "3.7.8"
  }
 },
 "nbformat": 4,
 "nbformat_minor": 5
}
