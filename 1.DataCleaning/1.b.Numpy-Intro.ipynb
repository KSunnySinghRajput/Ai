{
 "cells": [
  {
   "cell_type": "code",
   "execution_count": 1,
   "metadata": {},
   "outputs": [],
   "source": [
    "Numpy:\n",
    "------\n",
    ">it is a package for python programming language and \n",
    "simplify operations on multi-dimensional arrays.\n",
    "\n",
    ">it was introduced(by Travis Oliphant) in 2005 and distributed as open\n",
    "source library.\n",
    "\n",
    ">it is not the part of default python and we need to \n",
    "download it by using pip utility\n",
    "\n",
    "\tcmd>pip install numpy\n",
    "\n",
    "\t\tor\n",
    "it is also bundled with anaconda software.\n",
    "\n",
    "\n",
    "\t\t\n",
    "\n",
    "\n",
    "\n"
   ]
  }
 ],
 "metadata": {
  "kernelspec": {
   "display_name": "Python 3",
   "language": "python",
   "name": "python3"
  },
  "language_info": {
   "codemirror_mode": {
    "name": "ipython",
    "version": 3
   },
   "file_extension": ".py",
   "mimetype": "text/x-python",
   "name": "python",
   "nbconvert_exporter": "python",
   "pygments_lexer": "ipython3",
   "version": "3.7.8"
  }
 },
 "nbformat": 4,
 "nbformat_minor": 2
}
