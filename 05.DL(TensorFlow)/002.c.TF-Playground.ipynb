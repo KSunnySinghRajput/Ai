{
 "cells": [
  {
   "cell_type": "code",
   "execution_count": 20,
   "id": "social-botswana",
   "metadata": {
    "scrolled": true
   },
   "outputs": [
    {
     "data": {
      "text/html": [
       "<iframe src=http://playground.tensorflow.org width=980px height=500px></iframe>"
      ],
      "text/plain": [
       "<IPython.core.display.HTML object>"
      ]
     },
     "execution_count": 20,
     "metadata": {},
     "output_type": "execute_result"
    }
   ],
   "source": [
    "from IPython.display import HTML\n",
    "HTML('<iframe src=http://playground.tensorflow.org width=980px height=500px></iframe>')"
   ]
  },
  {
   "cell_type": "markdown",
   "id": "fossil-concrete",
   "metadata": {},
   "source": [
    "## link\n",
    "http://playground.tensorflow.org."
   ]
  },
  {
   "cell_type": "markdown",
   "id": "agreed-olympus",
   "metadata": {},
   "source": [
    "## Scr Code\n",
    "https://github.com/tensorflow/playground"
   ]
  },
  {
   "cell_type": "code",
   "execution_count": null,
   "id": "aggregate-certificate",
   "metadata": {},
   "outputs": [],
   "source": []
  }
 ],
 "metadata": {
  "kernelspec": {
   "display_name": "Python 3",
   "language": "python",
   "name": "python3"
  },
  "language_info": {
   "codemirror_mode": {
    "name": "ipython",
    "version": 3
   },
   "file_extension": ".py",
   "mimetype": "text/x-python",
   "name": "python",
   "nbconvert_exporter": "python",
   "pygments_lexer": "ipython3",
   "version": "3.7.8"
  }
 },
 "nbformat": 4,
 "nbformat_minor": 5
}
