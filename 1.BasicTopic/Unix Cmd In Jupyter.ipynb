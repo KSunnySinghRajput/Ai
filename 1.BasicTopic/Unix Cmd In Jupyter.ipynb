{
 "cells": [
  {
   "cell_type": "code",
   "execution_count": 1,
   "id": "fundamental-harassment",
   "metadata": {},
   "outputs": [
    {
     "name": "stdout",
     "output_type": "stream",
     "text": [
      " Volume in drive E is WorkSpace\n",
      " Volume Serial Number is ACF8-467B\n",
      "\n",
      " Directory of E:\\AI_ML_DL\\0.BasicTopic\n",
      "\n",
      "28-01-2021  14:25    <DIR>           DigitalForensics\n",
      "31-01-2021  13:31    <DIR>          .\n",
      "31-01-2021  13:31    <DIR>          ..\n",
      "31-01-2021  13:31    <DIR>          .ipynb_checkpoints\n",
      "15-01-2021  13:26    <DIR>          _pic\n",
      "15-01-2021  13:27    <DIR>          _temp\n",
      "27-01-2021  00:31               586 Converter.ipynb\n",
      "28-01-2021  14:01    <DIR>          DataStructure\n",
      "23-01-2021  16:04             4,521 IPython.ipynb\n",
      "29-01-2021  12:18    <DIR>          Jupyter\n",
      "15-01-2021  12:23    <DIR>          math\n",
      "27-01-2021  00:27            18,809 Math.ipynb\n",
      "27-01-2021  00:47               659 mathworld.ipynb\n",
      "27-01-2021  00:30               585 Matrics.ipynb\n",
      "15-01-2021  13:31           527,676 pillow.ipynb\n",
      "28-01-2021  16:11    <DIR>          Scipy\n",
      "11-07-2020  18:43             6,377 Snippets_ Importing libraries.ipynb\n",
      "28-01-2021  14:35             6,692 Sympy.ipynb\n",
      "31-01-2021  13:31                72 Unix Cmd In Jupyter.ipynb\n",
      "28-01-2021  15:46    <DIR>          Untitled Folder\n",
      "29-01-2021  14:08             4,649 Untitled.ipynb\n",
      "              10 File(s)        570,626 bytes\n",
      "              11 Dir(s)  342,239,985,664 bytes free\n"
     ]
    }
   ],
   "source": [
    "ls"
   ]
  },
  {
   "cell_type": "code",
   "execution_count": 2,
   "id": "chicken-remainder",
   "metadata": {},
   "outputs": [],
   "source": [
    "mkdir Unix_dir"
   ]
  },
  {
   "cell_type": "code",
   "execution_count": 3,
   "id": "painted-export",
   "metadata": {},
   "outputs": [
    {
     "name": "stdout",
     "output_type": "stream",
     "text": [
      "E:\\AI_ML_DL\\0.BasicTopic\\Unix_dir\n"
     ]
    }
   ],
   "source": [
    "cd Unix_dir"
   ]
  },
  {
   "cell_type": "code",
   "execution_count": 4,
   "id": "sexual-prize",
   "metadata": {},
   "outputs": [
    {
     "name": "stdout",
     "output_type": "stream",
     "text": [
      "C:\\Users\\MasterSuPc\n"
     ]
    }
   ],
   "source": [
    "cd"
   ]
  },
  {
   "cell_type": "code",
   "execution_count": 7,
   "id": "statistical-minneapolis",
   "metadata": {},
   "outputs": [
    {
     "name": "stdout",
     "output_type": "stream",
     "text": [
      "E:\\AI_ML_DL\\0.BasicTopic\\Unix_dir\n"
     ]
    }
   ],
   "source": [
    "cd E:\\AI_ML_DL\\0.BasicTopic\\Unix_dir"
   ]
  },
  {
   "cell_type": "code",
   "execution_count": 8,
   "id": "violent-library",
   "metadata": {},
   "outputs": [
    {
     "name": "stdout",
     "output_type": "stream",
     "text": [
      " Volume in drive E is WorkSpace\n",
      " Volume Serial Number is ACF8-467B\n",
      "\n",
      " Directory of E:\\AI_ML_DL\\0.BasicTopic\\Unix_dir\n",
      "\n",
      "31-01-2021  13:33    <DIR>          .\n",
      "31-01-2021  13:33    <DIR>          ..\n",
      "               0 File(s)              0 bytes\n",
      "               2 Dir(s)  342,239,981,568 bytes free\n"
     ]
    }
   ],
   "source": [
    "ls"
   ]
  },
  {
   "cell_type": "code",
   "execution_count": 9,
   "id": "numeric-monkey",
   "metadata": {},
   "outputs": [
    {
     "data": {
      "text/plain": [
       "'E:\\\\AI_ML_DL\\\\0.BasicTopic\\\\Unix_dir'"
      ]
     },
     "execution_count": 9,
     "metadata": {},
     "output_type": "execute_result"
    }
   ],
   "source": [
    "pwd"
   ]
  },
  {
   "cell_type": "code",
   "execution_count": 10,
   "id": "understood-bobby",
   "metadata": {},
   "outputs": [
    {
     "name": "stdout",
     "output_type": "stream",
     "text": [
      "hello\n"
     ]
    }
   ],
   "source": [
    "echo hello"
   ]
  },
  {
   "cell_type": "code",
   "execution_count": 11,
   "id": "saved-divorce",
   "metadata": {},
   "outputs": [],
   "source": [
    "echo hello>>hello.txt"
   ]
  },
  {
   "cell_type": "code",
   "execution_count": 15,
   "id": "rural-bronze",
   "metadata": {},
   "outputs": [
    {
     "name": "stdout",
     "output_type": "stream",
     "text": [
      " Volume in drive E is WorkSpace\n",
      " Volume Serial Number is ACF8-467B\n",
      "\n",
      " Directory of E:\\AI_ML_DL\\0.BasicTopic\\Unix_dir\n",
      "\n",
      "31-01-2021  13:36    <DIR>          .\n",
      "31-01-2021  13:36    <DIR>          ..\n",
      "31-01-2021  13:36                 7 hello.txt\n",
      "               1 File(s)              7 bytes\n",
      "               2 Dir(s)  342,239,977,472 bytes free\n"
     ]
    }
   ],
   "source": [
    "ls"
   ]
  },
  {
   "cell_type": "code",
   "execution_count": null,
   "id": "rural-quantity",
   "metadata": {},
   "outputs": [],
   "source": []
  }
 ],
 "metadata": {
  "kernelspec": {
   "display_name": "Python 3",
   "language": "python",
   "name": "python3"
  },
  "language_info": {
   "codemirror_mode": {
    "name": "ipython",
    "version": 3
   },
   "file_extension": ".py",
   "mimetype": "text/x-python",
   "name": "python",
   "nbconvert_exporter": "python",
   "pygments_lexer": "ipython3",
   "version": "3.7.8"
  }
 },
 "nbformat": 4,
 "nbformat_minor": 5
}
