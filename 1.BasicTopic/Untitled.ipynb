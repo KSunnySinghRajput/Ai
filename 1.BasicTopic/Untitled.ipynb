{
 "cells": [
  {
   "cell_type": "code",
   "execution_count": 1,
   "id": "circular-politics",
   "metadata": {},
   "outputs": [],
   "source": [
    "from __future__ import print_function\n",
    "from ipywidgets import interact, interactive, fixed, interact_manual\n",
    "import ipywidgets as widgets"
   ]
  },
  {
   "cell_type": "code",
   "execution_count": 8,
   "id": "relevant-korean",
   "metadata": {},
   "outputs": [],
   "source": [
    "from matplotlib import pyplot as plt\n",
    "import pandas as df\n",
    "import numpy as np\n",
    "import seaborn as sb"
   ]
  },
  {
   "cell_type": "code",
   "execution_count": 50,
   "id": "other-table",
   "metadata": {},
   "outputs": [
    {
     "data": {
      "application/vnd.jupyter.widget-view+json": {
       "model_id": "35d517aeefc74472ba0aaa5641d85748",
       "version_major": 2,
       "version_minor": 0
      },
      "text/plain": [
       "interactive(children=(Dropdown(description='Dataset', options=('anagrams', 'anscombe', 'attention', 'brain_net…"
      ]
     },
     "metadata": {},
     "output_type": "display_data"
    }
   ],
   "source": [
    "df=None\n",
    "Dataset=sb.get_dataset_names()\n",
    "@interact(Dataset=Dataset)\n",
    "def output(Dataset):\n",
    "    df=sb.load_dataset(Dataset)\n",
    "    return (df.head())\n",
    "\n",
    "#interact(output, Dataset=sb.get_dataset_names());"
   ]
  },
  {
   "cell_type": "code",
   "execution_count": 104,
   "id": "decreased-principal",
   "metadata": {},
   "outputs": [],
   "source": [
    "from IPython.display import display\n",
    "\n",
    "def f(c, d):\n",
    "    return c+d\n",
    "\n",
    "def output(Dataset,a):   \n",
    "   \n",
    "    df=sb.load_dataset(Dataset)\n",
    "    display(df.head(a))\n",
    "\n",
    "o = interactive(output, Dataset=sb.get_dataset_names(),a=widgets.IntSlider(min=0, max=50, step=1, value=0))\n",
    "w = interactive(f, c=10, d=20)"
   ]
  },
  {
   "cell_type": "code",
   "execution_count": 105,
   "id": "checked-accounting",
   "metadata": {},
   "outputs": [
    {
     "data": {
      "application/vnd.jupyter.widget-view+json": {
       "model_id": "80dc4a4828e247c9837ee1df21eb5b35",
       "version_major": 2,
       "version_minor": 0
      },
      "text/plain": [
       "Tab(children=(Accordion(children=(interactive(children=(Dropdown(description='Dataset', options=('anagrams', '…"
      ]
     },
     "metadata": {},
     "output_type": "display_data"
    }
   ],
   "source": [
    "import datetime\n",
    "dates = [datetime.date(2015,i,1) for i in range(1,13)]\n",
    "options = [(i.strftime('%b'), i) for i in dates]\n",
    "\n",
    "widgets.SelectionRangeSlider(\n",
    "    options=options,\n",
    "    index=(0,11),\n",
    "    description='Months (2015)',\n",
    "    disabled=False\n",
    ")\n",
    "\n",
    "Data = widgets.Accordion([o,w])\n",
    "Data.set_title(0, 'Dataset')\n",
    "Data.set_title(1, 'f')\n",
    "tab = widgets.Tab()\n",
    "tab.children = [Data]\n",
    "tab.set_title(0, 'Dataset')\n",
    "tab\n"
   ]
  },
  {
   "cell_type": "code",
   "execution_count": 49,
   "id": "clear-reform",
   "metadata": {},
   "outputs": [
    {
     "data": {
      "application/vnd.jupyter.widget-view+json": {
       "model_id": "0b18fee1d7594af6b03553a4d2758a6d",
       "version_major": 2,
       "version_minor": 0
      },
      "text/plain": [
       "Tab(children=(Accordion(children=(IntSlider(value=0),)), Accordion(children=(IntSlider(value=0), Text(value=''…"
      ]
     },
     "metadata": {},
     "output_type": "display_data"
    }
   ],
   "source": [
    "Data = widgets.Accordion(children=[widgets.IntSlider()])\n",
    "Data.set_title(0, 'Dataset')\n",
    "\n",
    "style = widgets.Accordion(children=[widgets.IntSlider(), widgets.Text()])\n",
    "style.set_title(0, 'plotType')\n",
    "style.set_title(1, 'PlotType')\n",
    "\n",
    "tab = widgets.Tab()\n",
    "tab.children = [Data, style]\n",
    "tab.set_title(0, 'Dataset')\n",
    "tab.set_title(1, 'Style')\n",
    "tab"
   ]
  },
  {
   "cell_type": "code",
   "execution_count": null,
   "id": "specific-falls",
   "metadata": {},
   "outputs": [],
   "source": []
  }
 ],
 "metadata": {
  "kernelspec": {
   "display_name": "Python 3",
   "language": "python",
   "name": "python3"
  },
  "language_info": {
   "codemirror_mode": {
    "name": "ipython",
    "version": 3
   },
   "file_extension": ".py",
   "mimetype": "text/x-python",
   "name": "python",
   "nbconvert_exporter": "python",
   "pygments_lexer": "ipython3",
   "version": "3.7.8"
  }
 },
 "nbformat": 4,
 "nbformat_minor": 5
}
