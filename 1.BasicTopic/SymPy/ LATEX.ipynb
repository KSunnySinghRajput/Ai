{
 "cells": [
  {
   "cell_type": "markdown",
   "metadata": {},
   "source": [
    "# Maths symbols"
   ]
  },
  {
   "cell_type": "markdown",
   "metadata": {},
   "source": [
    "## Greek letters"
   ]
  },
  {
   "cell_type": "raw",
   "metadata": {},
   "source": [
    "\\alpha \\beta \\gamma \\rho \\sigma \\delta \\epsilon"
   ]
  },
  {
   "cell_type": "markdown",
   "metadata": {},
   "source": [
    "$$\\alpha \\beta \\gamma \\rho \\sigma \\delta \\epsilon$$"
   ]
  },
  {
   "cell_type": "markdown",
   "metadata": {},
   "source": [
    "## Binary operators"
   ]
  },
  {
   "cell_type": "raw",
   "metadata": {},
   "source": [
    "$$\\times \\otimes \\oplus \\cup \\cap$$"
   ]
  },
  {
   "cell_type": "markdown",
   "metadata": {},
   "source": [
    "$$\\times \\otimes \\oplus \\cup \\cap$$"
   ]
  },
  {
   "cell_type": "markdown",
   "metadata": {},
   "source": [
    "## Relation operators"
   ]
  },
  {
   "cell_type": "markdown",
   "metadata": {},
   "source": [
    "< > $$\\subset \\supset \\subseteq \\supseteq$$"
   ]
  },
  {
   "cell_type": "markdown",
   "metadata": {},
   "source": [
    "## Others"
   ]
  },
  {
   "cell_type": "markdown",
   "metadata": {},
   "source": [
    "$$\\int \\oint \\sum \\prod$$"
   ]
  },
  {
   "cell_type": "markdown",
   "metadata": {},
   "source": [
    "# Integrals"
   ]
  },
  {
   "cell_type": "raw",
   "metadata": {},
   "source": [
    "\\int_{lower}^{upper} "
   ]
  },
  {
   "cell_type": "raw",
   "metadata": {},
   "source": [
    "1.Integral $\\int_{a}^{b} x^2 dx$ inside text"
   ]
  },
  {
   "cell_type": "markdown",
   "metadata": {},
   "source": [
    "Integral $\\int_{a}^{b} x^2 dx$ inside text"
   ]
  },
  {
   "cell_type": "raw",
   "metadata": {},
   "source": [
    "$$\\int_{a}^{b} x^2 dx$$"
   ]
  },
  {
   "cell_type": "markdown",
   "metadata": {},
   "source": [
    "$$\\int_{a}^{b} x^2 dx$$"
   ]
  },
  {
   "cell_type": "markdown",
   "metadata": {},
   "source": [
    "# Multiple integrals"
   ]
  },
  {
   "cell_type": "raw",
   "metadata": {},
   "source": [
    "$\\iint_V \\mu(u,v) \\,du\\,dv$$"
   ]
  },
  {
   "cell_type": "markdown",
   "metadata": {},
   "source": [
    "$\\iint_V \\mu(u,v) \\,du\\,dv$$"
   ]
  },
  {
   "cell_type": "raw",
   "metadata": {},
   "source": [
    "$$\\iiint_V \\mu(u,v,w) \\,du\\,dv\\,dw$$"
   ]
  },
  {
   "cell_type": "markdown",
   "metadata": {},
   "source": [
    "$$\\iiint_V \\mu(u,v,w) \\,du\\,dv\\,dw$$"
   ]
  },
  {
   "cell_type": "raw",
   "metadata": {},
   "source": [
    "$$\\iiiint_V \\mu(t,u,v,w) \\,dt\\,du\\,dv\\,dw$$"
   ]
  },
  {
   "cell_type": "markdown",
   "metadata": {},
   "source": [
    "$$\\iiiint_V \\mu(t,u,v,w) \\,dt\\,du\\,dv\\,dw$$"
   ]
  },
  {
   "cell_type": "raw",
   "metadata": {},
   "source": [
    "$$\\idotsint_V \\mu(u_1,\\dots,u_k) \\,du_1 \\dots du_k$$"
   ]
  },
  {
   "cell_type": "markdown",
   "metadata": {},
   "source": [
    "$$\\idotsint_V \\mu(u_1,\\dots,u_k) \\,du_1 \\dots du_k$$"
   ]
  },
  {
   "cell_type": "raw",
   "metadata": {},
   "source": [
    "$$\\oint_V f(s) \\,ds$$"
   ]
  },
  {
   "cell_type": "markdown",
   "metadata": {},
   "source": [
    "$$\\oint_V f(s) \\,ds$$"
   ]
  },
  {
   "cell_type": "raw",
   "metadata": {},
   "source": [
    "$$\\oint_V f(s,t) \\,ds\\,dt$$"
   ]
  },
  {
   "cell_type": "markdown",
   "metadata": {},
   "source": [
    "$$\\oiint_V f(s,t) \\,ds\\,dt$$"
   ]
  },
  {
   "cell_type": "markdown",
   "metadata": {},
   "source": [
    "# Sums"
   ]
  },
  {
   "cell_type": "raw",
   "metadata": {},
   "source": [
    "\\sum_{lower}^{upper} "
   ]
  },
  {
   "cell_type": "raw",
   "metadata": {},
   "source": [
    "Sum $\\sum_{n=1}^{\\infty} 2^{-n} = 1$ inside text"
   ]
  },
  {
   "cell_type": "markdown",
   "metadata": {},
   "source": [
    "Sum $\\sum_{n=1}^{\\infty} 2^{-n} = 1$ inside text"
   ]
  },
  {
   "cell_type": "raw",
   "metadata": {},
   "source": [
    "$$\\sum_{n=1}^{\\infty} 2^{-n} = 1$$"
   ]
  },
  {
   "cell_type": "markdown",
   "metadata": {},
   "source": [
    "$$\\sum_{n=1}^{\\infty} 2^{-n} = 1$$"
   ]
  },
  {
   "cell_type": "markdown",
   "metadata": {},
   "source": [
    "# Products"
   ]
  },
  {
   "cell_type": "raw",
   "metadata": {},
   "source": [
    "\\prod_{lower}^{upper} "
   ]
  },
  {
   "cell_type": "raw",
   "metadata": {},
   "source": [
    "Product $\\prod_{i=a}^{b} f(i)$ inside text"
   ]
  },
  {
   "cell_type": "markdown",
   "metadata": {},
   "source": [
    "Product $\\prod_{i=a}^{b} f(i)$ inside text\t"
   ]
  },
  {
   "cell_type": "raw",
   "metadata": {},
   "source": [
    "$$\\prod_{i=a}^{b} f(i)$$"
   ]
  },
  {
   "cell_type": "markdown",
   "metadata": {},
   "source": [
    "$$\\prod_{i=a}^{b} f(i)$$"
   ]
  },
  {
   "cell_type": "markdown",
   "metadata": {},
   "source": [
    "# Limits"
   ]
  },
  {
   "cell_type": "raw",
   "metadata": {},
   "source": [
    "\\lim_{lower}"
   ]
  },
  {
   "cell_type": "raw",
   "metadata": {},
   "source": [
    "Limit $\\lim_{x\\to\\infty} f(x)$ inside text"
   ]
  },
  {
   "cell_type": "markdown",
   "metadata": {},
   "source": [
    "Limit $\\lim_{x\\to\\infty} f(x)$ inside text"
   ]
  },
  {
   "cell_type": "raw",
   "metadata": {},
   "source": [
    "$$\\lim_{x\\to\\infty} f(x)$$"
   ]
  },
  {
   "cell_type": "markdown",
   "metadata": {},
   "source": [
    "$$\\lim_{x\\to\\infty} f(x)$$"
   ]
  },
  {
   "cell_type": "markdown",
   "metadata": {},
   "source": [
    "# Integer and sum limits improvement"
   ]
  },
  {
   "cell_type": "markdown",
   "metadata": {},
   "source": [
    "Integral $\\int_{a}^{b} x^2 dx$ inside text"
   ]
  },
  {
   "cell_type": "markdown",
   "metadata": {},
   "source": [
    "Improved integral $\\int\\limits_{a}^{b} x^2 dx$ inside text"
   ]
  },
  {
   "cell_type": "markdown",
   "metadata": {},
   "source": [
    "Sum $\\sum_{n=1}^{\\infty} 2^{-n} = 1$ inside text"
   ]
  },
  {
   "cell_type": "markdown",
   "metadata": {},
   "source": [
    "Improved sum $\\sum\\limits_{n=1}^{\\infty} 2^{-n} = 1$ inside text"
   ]
  },
  {
   "cell_type": "markdown",
   "metadata": {},
   "source": [
    "$\\int\\frac{1}{2}dx - \\mathlarger{ \\int\\frac{1}{2}dx}$"
   ]
  },
  {
   "cell_type": "code",
   "execution_count": null,
   "metadata": {},
   "outputs": [],
   "source": []
  }
 ],
 "metadata": {
  "kernelspec": {
   "display_name": "Python 3",
   "language": "python",
   "name": "python3"
  },
  "language_info": {
   "codemirror_mode": {
    "name": "ipython",
    "version": 3
   },
   "file_extension": ".py",
   "mimetype": "text/x-python",
   "name": "python",
   "nbconvert_exporter": "python",
   "pygments_lexer": "ipython3",
   "version": "3.7.3"
  }
 },
 "nbformat": 4,
 "nbformat_minor": 4
}
