{
 "cells": [
  {
   "cell_type": "code",
   "execution_count": null,
   "id": "color-guidance",
   "metadata": {},
   "outputs": [],
   "source": [
    "# pip install iplotter\n",
    "#https://github.com/niloch/iplotter#:~:text=iplotter%20is%20a%20simple%20package,dictionaries%2C%20lists%2C%20etc.)"
   ]
  },
  {
   "cell_type": "code",
   "execution_count": null,
   "id": "twelve-recycling",
   "metadata": {},
   "outputs": [],
   "source": []
  },
  {
   "cell_type": "code",
   "execution_count": 1,
   "id": "political-blake",
   "metadata": {},
   "outputs": [],
   "source": [
    "from iplotter import C3Plotter\n",
    "\n",
    "plotter = C3Plotter()\n",
    "\n",
    "chart = {\n",
    "    \"data\": {\n",
    "        \"columns\": [\n",
    "            ['data1', 300, 350, 300, 0, 0, 120],\n",
    "            ['data2', 130, 100, 140, 200, 150, 50],\n",
    "            ['data3', 180, 75, 265, 100, 50, 100]\n",
    "        ],\n",
    "        \"types\": {\n",
    "            \"data1\": 'area-spline',\n",
    "            \"data2\": 'area-spline',\n",
    "            \"data3\": 'area-spline'\n",
    "        },\n",
    "        \"groups\": [['data1', 'data2', 'data3']]\n",
    "    }\n",
    "}"
   ]
  },
  {
   "cell_type": "code",
   "execution_count": 2,
   "id": "direct-berry",
   "metadata": {},
   "outputs": [
    {
     "name": "stderr",
     "output_type": "stream",
     "text": [
      "d:\\pythonenv\\base3.7\\lib\\site-packages\\IPython\\core\\display.py:717: UserWarning: Consider using IPython.display.IFrame instead\n",
      "  warnings.warn(\"Consider using IPython.display.IFrame instead\")\n"
     ]
    },
    {
     "data": {
      "text/html": [
       "<iframe srcdoc=\"\n",
       "        <!-- Load c3.css -->\n",
       "        <link href='https://cdnjs.cloudflare.com/ajax/libs/c3/0.4.10/c3.min.css' rel='stylesheet' type='text/css'/>\n",
       "\n",
       "        <!-- Load d3.js and c3.js -->\n",
       "        <script src='http://d3js.org/d3.v3.min.js' charset='utf-8'></script>\n",
       "        <script src='http://cdnjs.cloudflare.com/ajax/libs/c3/0.4.10/c3.min.js'></script>\n",
       "\n",
       "    \n",
       "        <div id=chart style='width: 100%; height: 100%'></div>\n",
       "        <script>\n",
       "            var chart = document.getElementById('chart');\n",
       "            var data = {\n",
       "    'data': {\n",
       "        'columns': [\n",
       "            [\n",
       "                'data1',\n",
       "                300,\n",
       "                350,\n",
       "                300,\n",
       "                0,\n",
       "                0,\n",
       "                120\n",
       "            ],\n",
       "            [\n",
       "                'data2',\n",
       "                130,\n",
       "                100,\n",
       "                140,\n",
       "                200,\n",
       "                150,\n",
       "                50\n",
       "            ],\n",
       "            [\n",
       "                'data3',\n",
       "                180,\n",
       "                75,\n",
       "                265,\n",
       "                100,\n",
       "                50,\n",
       "                100\n",
       "            ]\n",
       "        ],\n",
       "        'types': {\n",
       "            'data1': 'area-spline',\n",
       "            'data2': 'area-spline',\n",
       "            'data3': 'area-spline'\n",
       "        },\n",
       "        'groups': [\n",
       "            [\n",
       "                'data1',\n",
       "                'data2',\n",
       "                'data3'\n",
       "            ]\n",
       "        ]\n",
       "    }\n",
       "};\n",
       "            data['bindto']='#chart'\n",
       "            c3.generate(data);\n",
       "        </script>\n",
       "    \" src=\"\" width=\"800\" height=\"420\" frameborder=0 sandbox=\"allow-scripts\"></iframe>"
      ],
      "text/plain": [
       "<IPython.core.display.HTML object>"
      ]
     },
     "execution_count": 2,
     "metadata": {},
     "output_type": "execute_result"
    }
   ],
   "source": [
    "plotter.plot(chart)"
   ]
  },
  {
   "cell_type": "markdown",
   "id": "ready-sewing",
   "metadata": {},
   "source": [
    "## plotly.js HeatMap"
   ]
  },
  {
   "cell_type": "code",
   "execution_count": 3,
   "id": "worldwide-percentage",
   "metadata": {},
   "outputs": [],
   "source": [
    "from iplotter import PlotlyPlotter\n",
    "\n",
    "plotter = PlotlyPlotter()\n",
    "\n",
    "data = [\n",
    "    {\n",
    "        'colorscale': 'YIGnBu',\n",
    "        'reversescale': True,\n",
    "        'type': 'heatmap',\n",
    "        'x': ['class1', 'class2', 'class3'],\n",
    "        'y': ['class1', 'class2', 'class3'],\n",
    "        'z': [[0.7,  0.2,  0.1],\n",
    "              [0.2,  0.7,  0.1],\n",
    "              [0.15,  0.27,  0.56]]\n",
    "    }\n",
    "]\n",
    "\n",
    "layout = {\n",
    "    \"title\": 'Title',\n",
    "    \"xaxis\": {\n",
    "        \"tickangle\": -45\n",
    "    },\n",
    "}"
   ]
  },
  {
   "cell_type": "code",
   "execution_count": 4,
   "id": "fatty-tobago",
   "metadata": {},
   "outputs": [
    {
     "data": {
      "text/html": [
       "\n",
       "        <iframe\n",
       "            width=\"600\"\n",
       "            height=\"600\"\n",
       "            src=\"heatmap1.html\"\n",
       "            frameborder=\"0\"\n",
       "            allowfullscreen\n",
       "        ></iframe>\n",
       "        "
      ],
      "text/plain": [
       "<IPython.lib.display.IFrame at 0x1ce8aa489c8>"
      ]
     },
     "execution_count": 4,
     "metadata": {},
     "output_type": "execute_result"
    }
   ],
   "source": [
    "plotter.plot_and_save(data, layout=layout, w=600, h=600, filename='heatmap1', overwrite=True)"
   ]
  },
  {
   "cell_type": "markdown",
   "id": "falling-enhancement",
   "metadata": {},
   "source": [
    "## Chart.js Radar Chart"
   ]
  },
  {
   "cell_type": "code",
   "execution_count": 5,
   "id": "extreme-employee",
   "metadata": {},
   "outputs": [
    {
     "data": {
      "text/html": [
       "\n",
       "        <iframe\n",
       "            width=\"800\"\n",
       "            height=\"420\"\n",
       "            src=\"chart.html\"\n",
       "            frameborder=\"0\"\n",
       "            allowfullscreen\n",
       "        ></iframe>\n",
       "        "
      ],
      "text/plain": [
       "<IPython.lib.display.IFrame at 0x1ce8aa6bb08>"
      ]
     },
     "execution_count": 5,
     "metadata": {},
     "output_type": "execute_result"
    }
   ],
   "source": [
    "from iplotter import ChartJSPlotter\n",
    "\n",
    "plotter = ChartJSPlotter()\n",
    "\n",
    "data = {\n",
    "    \"labels\": [\"Eating\", \"Drinking\", \"Sleeping\", \"Designing\", \"Coding\",\n",
    "               \"Cycling\", \"Running\"],\n",
    "    \"datasets\": [\n",
    "        {\n",
    "            \"label\": \"Trace 1\",\n",
    "            \"backgroundColor\": \"rgba(179,181,198,0.2)\",\n",
    "            \"borderColor\": \"rgba(179,181,198,1)\",\n",
    "            \"pointBackgroundColor\": \"rgba(179,181,198,1)\",\n",
    "            \"pointBorderColor\": \"#fff\",\n",
    "            \"pointHoverBackgroundColor\": \"#fff\",\n",
    "            \"pointHoverBorderColor\": \"rgba(179,181,198,1)\",\n",
    "            \"data\": [65, 59, 30, 81, 56, 55, 40]\n",
    "        }, {\n",
    "            \"label\": \"Trace 2\",\n",
    "            \"backgroundColor\": \"rgba(255,99,132,0.2)\",\n",
    "            \"borderColor\": \"rgba(255,99,132,1)\",\n",
    "            \"pointBackgroundColor\": \"rgba(255,99,132,1)\",\n",
    "            \"pointBorderColor\": \"#fff\",\n",
    "            \"pointHoverBackgroundColor\": \"#fff\",\n",
    "            \"pointHoverBorderColor\": \"rgba(255,99,132,1)\",\n",
    "            \"data\": [28, 48, 40, 19, 96, 27, 100]\n",
    "        }\n",
    "    ]\n",
    "}\n",
    "\n",
    "plotter.plot_and_save(data, 'radar', options=None)"
   ]
  },
  {
   "cell_type": "markdown",
   "id": "blocked-regular",
   "metadata": {},
   "source": [
    "## Chartist.js Bipolar Area Chart"
   ]
  },
  {
   "cell_type": "code",
   "execution_count": 7,
   "id": "characteristic-scroll",
   "metadata": {},
   "outputs": [],
   "source": [
    "from iplotter import ChartistPlotter\n",
    "\n",
    "plotter = ChartistPlotter()\n",
    "\n",
    "data = {\n",
    "    \"labels\": [1, 2, 3, 4, 5, 6, 7, 8],\n",
    "    \"series\": [\n",
    "        [1, 2, 3, 1, -2, 0, 1, 0], [-2, -1, -2, -1, -2.5, -1, -2, -1],\n",
    "        [0, 0, 0, 1, 2, 2.5, 2, 1], [2.5, 2, 1, 0.5, 1, 0.5, -1, -2.5]\n",
    "    ]\n",
    "}\n",
    "options = {\n",
    "    \"high\": 4,\n",
    "    \"low\": -3,\n",
    "    \"showArea\": True,\n",
    "    \"showLine\": False,\n",
    "    \"showPoint\": False,\n",
    "    \"height\": 420,\n",
    "    \"width\": 700\n",
    "}\n",
    "\n",
    "plotter.save(data, chart_type=\"Line\", options=options)"
   ]
  },
  {
   "cell_type": "code",
   "execution_count": null,
   "id": "favorite-giant",
   "metadata": {},
   "outputs": [],
   "source": []
  }
 ],
 "metadata": {
  "kernelspec": {
   "display_name": "Python 3",
   "language": "python",
   "name": "python3"
  },
  "language_info": {
   "codemirror_mode": {
    "name": "ipython",
    "version": 3
   },
   "file_extension": ".py",
   "mimetype": "text/x-python",
   "name": "python",
   "nbconvert_exporter": "python",
   "pygments_lexer": "ipython3",
   "version": "3.7.8"
  }
 },
 "nbformat": 4,
 "nbformat_minor": 5
}
