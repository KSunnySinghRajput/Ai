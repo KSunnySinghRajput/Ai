{
 "cells": [
  {
   "cell_type": "code",
   "execution_count": 4,
   "id": "listed-forward",
   "metadata": {},
   "outputs": [
    {
     "name": "stdout",
     "output_type": "stream",
     "text": [
      "{'__header__': b'MATLAB 5.0 MAT-file Platform: nt, Created on: Thu Jan 28 16:03:35 2021', '__version__': '1.0', '__globals__': [], 'vect': array([[0, 1, 2, 3, 4, 5, 6, 7, 8, 9]])}\n"
     ]
    }
   ],
   "source": [
    "import scipy.io as sio\n",
    "import numpy as np\n",
    "\n",
    "#Save a mat file\n",
    "vect = np.arange(10)\n",
    "sio.savemat('array.mat', {'vect':vect})\n",
    "\n",
    "#Now Load the File\n",
    "mat_file_content = sio.loadmat('array.mat')\n",
    "print (mat_file_content)"
   ]
  },
  {
   "cell_type": "code",
   "execution_count": 6,
   "id": "royal-exercise",
   "metadata": {},
   "outputs": [
    {
     "name": "stdout",
     "output_type": "stream",
     "text": [
      "[('vect', (1, 10), 'int32')]\n"
     ]
    }
   ],
   "source": [
    "import scipy.io as sio\n",
    "mat_file_content = sio.whosmat('array.mat')\n",
    "print (mat_file_content)"
   ]
  },
  {
   "cell_type": "markdown",
   "id": "blond-republican",
   "metadata": {},
   "source": [
    "# Linalg"
   ]
  },
  {
   "cell_type": "code",
   "execution_count": 9,
   "id": "functional-chapel",
   "metadata": {},
   "outputs": [],
   "source": [
    "#importing the scipy and numpy packages\n",
    "from scipy import linalg\n",
    "import numpy as np"
   ]
  },
  {
   "cell_type": "code",
   "execution_count": 10,
   "id": "experimental-implement",
   "metadata": {},
   "outputs": [
    {
     "name": "stdout",
     "output_type": "stream",
     "text": [
      "[ 2. -2.  9.]\n"
     ]
    }
   ],
   "source": [
    "#Declaring the numpy arrays\n",
    "a = np.array([[3, 2, 0], [1, -1, 0], [0, 5, 1]])\n",
    "b = np.array([2, 4, -1])\n",
    "\n",
    "#Passing the values to the solve function\n",
    "x = linalg.solve(a, b)\n",
    "\n",
    "#printing the result array\n",
    "print (x)"
   ]
  },
  {
   "cell_type": "markdown",
   "id": "great-neutral",
   "metadata": {},
   "source": [
    "### Finding a Determinant"
   ]
  },
  {
   "cell_type": "code",
   "execution_count": 11,
   "id": "opposite-breakdown",
   "metadata": {},
   "outputs": [
    {
     "name": "stdout",
     "output_type": "stream",
     "text": [
      "-2.0\n"
     ]
    }
   ],
   "source": [
    "#Declaring the numpy array\n",
    "A = np.array([[1,2],[3,4]])\n",
    "\n",
    "#Passing the values to the det function\n",
    "x = linalg.det(A)\n",
    "\n",
    "#printing the result\n",
    "print (x)"
   ]
  },
  {
   "cell_type": "markdown",
   "id": "parental-cleveland",
   "metadata": {},
   "source": [
    "### Eigenvalues and Eigenvectors"
   ]
  },
  {
   "cell_type": "code",
   "execution_count": null,
   "id": "moving-strengthening",
   "metadata": {},
   "outputs": [],
   "source": [
    "#Av = λv"
   ]
  },
  {
   "cell_type": "code",
   "execution_count": 14,
   "id": "deluxe-puppy",
   "metadata": {},
   "outputs": [
    {
     "name": "stdout",
     "output_type": "stream",
     "text": [
      "[-0.37228132+0.j  5.37228132+0.j]\n",
      "[[-0.82456484 -0.41597356]\n",
      " [ 0.56576746 -0.90937671]]\n"
     ]
    }
   ],
   "source": [
    "#importing the scipy and numpy packages\n",
    "from scipy import linalg\n",
    "import numpy as np\n",
    "\n",
    "#Declaring the numpy array\n",
    "A = np.array([[1,2],[3,4]])\n",
    "\n",
    "#Passing the values to the eig function\n",
    "l, v = linalg.eig(A)\n",
    "\n",
    "#printing the result for eigen values\n",
    "print (l)\n",
    "\n",
    "#printing the result for eigen vectors\n",
    "print (v)"
   ]
  },
  {
   "cell_type": "code",
   "execution_count": null,
   "id": "global-saturday",
   "metadata": {},
   "outputs": [],
   "source": []
  }
 ],
 "metadata": {
  "kernelspec": {
   "display_name": "Python 3",
   "language": "python",
   "name": "python3"
  },
  "language_info": {
   "codemirror_mode": {
    "name": "ipython",
    "version": 3
   },
   "file_extension": ".py",
   "mimetype": "text/x-python",
   "name": "python",
   "nbconvert_exporter": "python",
   "pygments_lexer": "ipython3",
   "version": "3.7.8"
  }
 },
 "nbformat": 4,
 "nbformat_minor": 5
}
