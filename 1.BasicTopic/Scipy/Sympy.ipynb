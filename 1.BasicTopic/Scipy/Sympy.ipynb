{
 "cells": [
  {
   "cell_type": "code",
   "execution_count": 1,
   "id": "novel-fitness",
   "metadata": {},
   "outputs": [],
   "source": [
    "from sympy import *"
   ]
  },
  {
   "cell_type": "code",
   "execution_count": null,
   "id": "necessary-arrangement",
   "metadata": {},
   "outputs": [],
   "source": []
  },
  {
   "cell_type": "code",
   "execution_count": 32,
   "id": "velvet-conjunction",
   "metadata": {},
   "outputs": [
    {
     "name": "stdout",
     "output_type": "stream",
     "text": [
      "Integral(sqrt(1/x), x)\n"
     ]
    },
    {
     "data": {
      "text/plain": [
       "'\\\\int \\\\sqrt{\\\\frac{1}{x}}\\\\, dx'"
      ]
     },
     "execution_count": 32,
     "metadata": {},
     "output_type": "execute_result"
    }
   ],
   "source": [
    "x, y, z = symbols('x y z')\n",
    "print(Integral(sqrt(1/x), x))\n",
    "\n",
    "Integral(sqrt(1/x), x)\n",
    "latex(Integral(sqrt(1/x), x))"
   ]
  },
  {
   "cell_type": "code",
   "execution_count": 17,
   "id": "necessary-noise",
   "metadata": {},
   "outputs": [
    {
     "data": {
      "text/plain": [
       "{3/2 - sqrt(17)/2: 1, 3/2 + sqrt(17)/2: 1}"
      ]
     },
     "execution_count": 17,
     "metadata": {},
     "output_type": "execute_result"
    }
   ],
   "source": [
    "a=Matrix([[1, 2], [2, 2]]).eigenvals()\n",
    "a"
   ]
  },
  {
   "cell_type": "markdown",
   "id": "distant-calcium",
   "metadata": {},
   "source": [
    "## Printers\n",
    "- str\n",
    "- srepr\n",
    "- ASCII pretty printer\n",
    "- Unicode pretty printer\n",
    "- LaTeX\n",
    "- MathML\n",
    "- Dot"
   ]
  },
  {
   "cell_type": "code",
   "execution_count": 18,
   "id": "stretch-testing",
   "metadata": {},
   "outputs": [
    {
     "data": {
      "text/plain": [
       "'{3/2 - sqrt(17)/2: 1, 3/2 + sqrt(17)/2: 1}'"
      ]
     },
     "execution_count": 18,
     "metadata": {},
     "output_type": "execute_result"
    }
   ],
   "source": [
    "#Str\n",
    "str(a)"
   ]
  },
  {
   "cell_type": "code",
   "execution_count": 19,
   "id": "residential-resource",
   "metadata": {},
   "outputs": [
    {
     "data": {
      "text/plain": [
       "'{Add(Rational(3, 2), Mul(Integer(-1), Rational(1, 2), Pow(Integer(17), Rational(1, 2)))): 1, Add(Rational(3, 2), Mul(Rational(1, 2), Pow(Integer(17), Rational(1, 2)))): 1}'"
      ]
     },
     "execution_count": 19,
     "metadata": {},
     "output_type": "execute_result"
    }
   ],
   "source": [
    "#srepr\n",
    "srepr(a)"
   ]
  },
  {
   "cell_type": "code",
   "execution_count": 20,
   "id": "handy-antarctica",
   "metadata": {},
   "outputs": [
    {
     "name": "stdout",
     "output_type": "stream",
     "text": [
      "       ____           ____    \n",
      " 3   \\/ 17      3   \\/ 17     \n",
      "{- - ------: 1, - + ------: 1}\n",
      " 2     2        2     2       \n"
     ]
    }
   ],
   "source": [
    "#ASCII Pretty Printer\n",
    "pprint(a, use_unicode=False)"
   ]
  },
  {
   "cell_type": "code",
   "execution_count": 21,
   "id": "peaceful-sender",
   "metadata": {},
   "outputs": [
    {
     "name": "stdout",
     "output_type": "stream",
     "text": [
      "⎧3   √17     3   √17   ⎫\n",
      "⎨─ - ───: 1, ─ + ───: 1⎬\n",
      "⎩2    2      2    2    ⎭\n"
     ]
    }
   ],
   "source": [
    "#Unicode Pretty Printer\n",
    "pprint(a, use_unicode=True)"
   ]
  },
  {
   "cell_type": "code",
   "execution_count": 27,
   "id": "radio-valuable",
   "metadata": {},
   "outputs": [
    {
     "data": {
      "text/plain": [
       "'\\\\int \\\\sqrt{\\\\frac{1}{x}}\\\\, dx'"
      ]
     },
     "execution_count": 27,
     "metadata": {},
     "output_type": "execute_result"
    }
   ],
   "source": [
    "#LATEX\n",
    "latex(a)\n",
    "latex(Integral(sqrt(1/x), x))"
   ]
  },
  {
   "cell_type": "code",
   "execution_count": 23,
   "id": "august-aurora",
   "metadata": {},
   "outputs": [
    {
     "name": "stdout",
     "output_type": "stream",
     "text": [
      "<dict>\n",
      "\t<tuple>\n",
      "\t\t<apply>\n",
      "\t\t\t<minus/>\n",
      "\t\t\t<apply>\n",
      "\t\t\t\t<divide/>\n",
      "\t\t\t\t<cn>3</cn>\n",
      "\t\t\t\t<cn>2</cn>\n",
      "\t\t\t</apply>\n",
      "\t\t\t<apply>\n",
      "\t\t\t\t<divide/>\n",
      "\t\t\t\t<apply>\n",
      "\t\t\t\t\t<root/>\n",
      "\t\t\t\t\t<cn>17</cn>\n",
      "\t\t\t\t</apply>\n",
      "\t\t\t\t<cn>2</cn>\n",
      "\t\t\t</apply>\n",
      "\t\t</apply>\n",
      "\t\t<cn>1</cn>\n",
      "\t</tuple>\n",
      "\t<tuple>\n",
      "\t\t<apply>\n",
      "\t\t\t<plus/>\n",
      "\t\t\t<apply>\n",
      "\t\t\t\t<divide/>\n",
      "\t\t\t\t<cn>3</cn>\n",
      "\t\t\t\t<cn>2</cn>\n",
      "\t\t\t</apply>\n",
      "\t\t\t<apply>\n",
      "\t\t\t\t<divide/>\n",
      "\t\t\t\t<apply>\n",
      "\t\t\t\t\t<root/>\n",
      "\t\t\t\t\t<cn>17</cn>\n",
      "\t\t\t\t</apply>\n",
      "\t\t\t\t<cn>2</cn>\n",
      "\t\t\t</apply>\n",
      "\t\t</apply>\n",
      "\t\t<cn>1</cn>\n",
      "\t</tuple>\n",
      "</dict>\n",
      "\n"
     ]
    }
   ],
   "source": [
    "#MathML\n",
    "print_mathml(a)"
   ]
  },
  {
   "cell_type": "code",
   "execution_count": 14,
   "id": "synthetic-giant",
   "metadata": {},
   "outputs": [
    {
     "data": {
      "text/plain": [
       "'digraph{\\n\\n# Graph style\\n\"ordering\"=\"out\"\\n\"rankdir\"=\"TD\"\\n\\n#########\\n# Nodes #\\n#########\\n\\n\"Add(Integer(2), Symbol(\\'x\\'))_()\" [\"color\"=\"black\", \"label\"=\"Add\", \"shape\"=\"ellipse\"];\\n\"Integer(2)_(0,)\" [\"color\"=\"black\", \"label\"=\"2\", \"shape\"=\"ellipse\"];\\n\"Symbol(\\'x\\')_(1,)\" [\"color\"=\"black\", \"label\"=\"x\", \"shape\"=\"ellipse\"];\\n\\n#########\\n# Edges #\\n#########\\n\\n\"Add(Integer(2), Symbol(\\'x\\'))_()\" -> \"Integer(2)_(0,)\";\\n\"Add(Integer(2), Symbol(\\'x\\'))_()\" -> \"Symbol(\\'x\\')_(1,)\";\\n}'"
      ]
     },
     "execution_count": 14,
     "metadata": {},
     "output_type": "execute_result"
    }
   ],
   "source": [
    "#dot\n",
    "dotprint(x+2)"
   ]
  },
  {
   "cell_type": "code",
   "execution_count": null,
   "id": "robust-content",
   "metadata": {},
   "outputs": [],
   "source": []
  }
 ],
 "metadata": {
  "kernelspec": {
   "display_name": "Python 3",
   "language": "python",
   "name": "python3"
  },
  "language_info": {
   "codemirror_mode": {
    "name": "ipython",
    "version": 3
   },
   "file_extension": ".py",
   "mimetype": "text/x-python",
   "name": "python",
   "nbconvert_exporter": "python",
   "pygments_lexer": "ipython3",
   "version": "3.7.8"
  }
 },
 "nbformat": 4,
 "nbformat_minor": 5
}
