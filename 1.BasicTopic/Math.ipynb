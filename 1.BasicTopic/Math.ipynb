{
 "cells": [
  {
   "cell_type": "code",
   "execution_count": 10,
   "id": "hazardous-sharing",
   "metadata": {},
   "outputs": [],
   "source": [
    "from math import *"
   ]
  },
  {
   "cell_type": "code",
   "execution_count": 11,
   "id": "declared-accessory",
   "metadata": {},
   "outputs": [],
   "source": [
    "#help(math)"
   ]
  },
  {
   "cell_type": "raw",
   "id": "criminal-oklahoma",
   "metadata": {},
   "source": [
    "e = 2.718281828459045\n",
    "inf = inf\n",
    "nan = nan\n",
    "pi = 3.141592653589793\n",
    "tau = 6.283185307179586"
   ]
  },
  {
   "cell_type": "code",
   "execution_count": 13,
   "id": "virgin-motor",
   "metadata": {},
   "outputs": [
    {
     "data": {
      "text/plain": [
       "2.718281828459045"
      ]
     },
     "execution_count": 13,
     "metadata": {},
     "output_type": "execute_result"
    }
   ],
   "source": [
    "e"
   ]
  },
  {
   "cell_type": "code",
   "execution_count": 14,
   "id": "composed-cotton",
   "metadata": {},
   "outputs": [
    {
     "data": {
      "text/plain": [
       "inf"
      ]
     },
     "execution_count": 14,
     "metadata": {},
     "output_type": "execute_result"
    }
   ],
   "source": [
    "inf"
   ]
  },
  {
   "cell_type": "code",
   "execution_count": null,
   "id": "paperback-niagara",
   "metadata": {},
   "outputs": [],
   "source": [
    "\n",
    "isfinite(x, /) : Return True if x is neither an infinity nor a NaN, and False otherwise.\n",
    "\n",
    "isinf(x, /) : Return True if x is a positive or negative infinity, and False otherwise.\n",
    "\n",
    "isnan(x, /) : Return True if x is a NaN (not a number), and False otherwise.\n"
   ]
  },
  {
   "cell_type": "code",
   "execution_count": null,
   "id": "choice-mobile",
   "metadata": {},
   "outputs": [],
   "source": []
  },
  {
   "cell_type": "markdown",
   "id": "express-synthetic",
   "metadata": {},
   "source": [
    "# Basic"
   ]
  },
  {
   "cell_type": "code",
   "execution_count": null,
   "id": "listed-century",
   "metadata": {},
   "outputs": [],
   "source": [
    "#floor(x, /):Return the floor of x as an Integral.\n",
    "#This is the largest integer <= x.\n",
    "    "
   ]
  },
  {
   "cell_type": "code",
   "execution_count": null,
   "id": "variable-plain",
   "metadata": {},
   "outputs": [],
   "source": [
    "#fmod(x, y, /):Return fmod(x, y), according to platform C.\n",
    "#x % y may differ."
   ]
  },
  {
   "cell_type": "code",
   "execution_count": null,
   "id": "fantastic-research",
   "metadata": {},
   "outputs": [],
   "source": [
    "#exp(x, /):Return e raised to the power of x."
   ]
  },
  {
   "cell_type": "code",
   "execution_count": null,
   "id": "systematic-jenny",
   "metadata": {},
   "outputs": [],
   "source": [
    "#sqrt(x, /): Return the square root of x.\n",
    "    "
   ]
  },
  {
   "cell_type": "code",
   "execution_count": null,
   "id": "altered-springer",
   "metadata": {},
   "outputs": [],
   "source": [
    "#modf(x, /) : Return the fractional and integer parts of x.\n",
    "        \n",
    "        Both results carry the sign of x and are floats."
   ]
  },
  {
   "cell_type": "code",
   "execution_count": null,
   "id": "mental-lawyer",
   "metadata": {},
   "outputs": [],
   "source": []
  },
  {
   "cell_type": "code",
   "execution_count": 15,
   "id": "occupational-notice",
   "metadata": {},
   "outputs": [
    {
     "data": {
      "text/plain": [
       "120"
      ]
     },
     "execution_count": 15,
     "metadata": {},
     "output_type": "execute_result"
    }
   ],
   "source": [
    "#factorial(x, /):Find x!.\n",
    "factorial(5)"
   ]
  },
  {
   "cell_type": "code",
   "execution_count": null,
   "id": "elect-advance",
   "metadata": {},
   "outputs": [],
   "source": []
  },
  {
   "cell_type": "code",
   "execution_count": 29,
   "id": "brazilian-bacteria",
   "metadata": {},
   "outputs": [
    {
     "ename": "NameError",
     "evalue": "name 'comb' is not defined",
     "output_type": "error",
     "traceback": [
      "\u001b[1;31m---------------------------------------------------------------------------\u001b[0m",
      "\u001b[1;31mNameError\u001b[0m                                 Traceback (most recent call last)",
      "\u001b[1;32m<ipython-input-29-ae461b1da4df>\u001b[0m in \u001b[0;36m<module>\u001b[1;34m\u001b[0m\n\u001b[0;32m      1\u001b[0m \u001b[1;31m# math.comb(n, k)\u001b[0m\u001b[1;33m\u001b[0m\u001b[1;33m\u001b[0m\u001b[1;33m\u001b[0m\u001b[0m\n\u001b[1;32m----> 2\u001b[1;33m \u001b[0mcomb\u001b[0m\u001b[1;33m(\u001b[0m\u001b[1;36m6\u001b[0m\u001b[1;33m,\u001b[0m \u001b[1;36m2\u001b[0m\u001b[1;33m)\u001b[0m\u001b[1;33m\u001b[0m\u001b[1;33m\u001b[0m\u001b[0m\n\u001b[0m",
      "\u001b[1;31mNameError\u001b[0m: name 'comb' is not defined"
     ]
    }
   ],
   "source": []
  },
  {
   "cell_type": "code",
   "execution_count": null,
   "id": "registered-square",
   "metadata": {},
   "outputs": [],
   "source": []
  },
  {
   "cell_type": "markdown",
   "id": "protective-light",
   "metadata": {},
   "source": [
    "# Trignomatric"
   ]
  },
  {
   "cell_type": "markdown",
   "id": "editorial-findings",
   "metadata": {},
   "source": [
    "π rad = 180°\n",
    "\n",
    "1Rad × 180/π = 57.296Deg\n",
    "\n",
    "α(degrees) = α(radians) × 180° / π\n",
    "\n",
    "degrees = radians × 180° / π"
   ]
  },
  {
   "cell_type": "markdown",
   "id": "expressed-horse",
   "metadata": {},
   "source": [
    "<table class=\"ntable\">\n",
    "<tbody><tr>\n",
    "<th>Radians (rad)</th>\n",
    "<th>Radians (rad)</th>\n",
    "<th>Degrees (°)</th>\n",
    "</tr>\n",
    "<tr>\n",
    "<td>0 rad</td>\n",
    "<td>0 rad</td>\n",
    "<td>0°</td>\n",
    "</tr>\n",
    "<tr>\n",
    "<td>π/6 rad</td>\n",
    "<td>0.5235987756 rad</td>\n",
    "<td>30°</td>\n",
    "</tr>\n",
    "<tr>\n",
    "<td>π/4 rad</td>\n",
    "<td>0.7853981634 rad</td>\n",
    "<td>45°</td>\n",
    "</tr>\n",
    "<tr>\n",
    "<td>π/3 rad</td>\n",
    "<td>1.0471975512 rad</td>\n",
    "<td>60°</td>\n",
    "</tr>\n",
    "<tr>\n",
    "<td>π/2 rad</td>\n",
    "<td>1.5707963268 rad</td>\n",
    "<td>90°</td>\n",
    "</tr>\n",
    "<tr>\n",
    "<td>2π/3 rad</td>\n",
    "<td>2.0943951024 rad</td>\n",
    "<td>120°</td>\n",
    "</tr>\n",
    "<tr>\n",
    "<td>3π/4 rad</td>\n",
    "<td>2.3561944902 rad</td>\n",
    "<td>135°</td>\n",
    "</tr>\n",
    "<tr>\n",
    "<td>5π/6 rad</td>\n",
    "<td>2.6179938780 rad</td>\n",
    "<td>150°</td>\n",
    "</tr>\n",
    "<tr>\n",
    "<td>π rad</td>\n",
    "<td>3.1415926536 rad</td>\n",
    "<td>180°</td>\n",
    "</tr>\n",
    "<tr>\n",
    "<td>3π/2 rad</td>\n",
    "<td>4.7123889804 rad</td>\n",
    "<td>270°</td>\n",
    "</tr>\n",
    "<tr>\n",
    "<td>2π rad</td>\n",
    "<td>6.2831853072 rad</td>\n",
    "<td>360°</td>\n",
    "</tr>\n",
    "</tbody></table>"
   ]
  },
  {
   "cell_type": "code",
   "execution_count": 20,
   "id": "published-lincoln",
   "metadata": {},
   "outputs": [
    {
     "data": {
      "text/plain": [
       "90.0"
      ]
     },
     "execution_count": 20,
     "metadata": {},
     "output_type": "execute_result"
    }
   ],
   "source": [
    "#degrees(x, /):Convert angle x from radians to degrees.\n",
    "degrees(1.5707963267948966)"
   ]
  },
  {
   "cell_type": "code",
   "execution_count": 19,
   "id": "entitled-architecture",
   "metadata": {},
   "outputs": [
    {
     "data": {
      "text/plain": [
       "1.5707963267948966"
      ]
     },
     "execution_count": 19,
     "metadata": {},
     "output_type": "execute_result"
    }
   ],
   "source": [
    "#radians(x, /):Convert angle x from degrees to radians.\n",
    "radians(90)"
   ]
  },
  {
   "cell_type": "markdown",
   "id": "legal-triangle",
   "metadata": {},
   "source": [
    "## rad"
   ]
  },
  {
   "cell_type": "code",
   "execution_count": 23,
   "id": "handed-flexibility",
   "metadata": {},
   "outputs": [
    {
     "data": {
      "text/plain": [
       "1.0"
      ]
     },
     "execution_count": 23,
     "metadata": {},
     "output_type": "execute_result"
    }
   ],
   "source": [
    "#sin(x, /) : Return the sine of x (measured in radians).   \n",
    "sin(1.5707963267948966)"
   ]
  },
  {
   "cell_type": "code",
   "execution_count": 25,
   "id": "broken-exhibition",
   "metadata": {},
   "outputs": [
    {
     "data": {
      "text/plain": [
       "0.0"
      ]
     },
     "execution_count": 25,
     "metadata": {},
     "output_type": "execute_result"
    }
   ],
   "source": [
    "sin(0)"
   ]
  },
  {
   "cell_type": "code",
   "execution_count": 24,
   "id": "connected-destruction",
   "metadata": {},
   "outputs": [
    {
     "data": {
      "text/plain": [
       "1.0"
      ]
     },
     "execution_count": 24,
     "metadata": {},
     "output_type": "execute_result"
    }
   ],
   "source": [
    "#cos(x, /) : Return the cosine of x (measured in radians).\n",
    "cos(0)"
   ]
  },
  {
   "cell_type": "code",
   "execution_count": 26,
   "id": "roman-internship",
   "metadata": {},
   "outputs": [
    {
     "data": {
      "text/plain": [
       "0.5403023058681398"
      ]
     },
     "execution_count": 26,
     "metadata": {},
     "output_type": "execute_result"
    }
   ],
   "source": [
    "cos(1)"
   ]
  },
  {
   "cell_type": "code",
   "execution_count": null,
   "id": "curious-indianapolis",
   "metadata": {},
   "outputs": [],
   "source": [
    "#tan(x, /) : Return the tangent of x (measured in radians)."
   ]
  },
  {
   "cell_type": "code",
   "execution_count": null,
   "id": "equal-affairs",
   "metadata": {},
   "outputs": [],
   "source": [
    "#asin(x, /) : Return the arc sine (measured in radians) of x.  "
   ]
  },
  {
   "cell_type": "code",
   "execution_count": null,
   "id": "renewable-agreement",
   "metadata": {},
   "outputs": [],
   "source": [
    "#acos(x, /) : Return the arc cosine (measured in radians) of x.    "
   ]
  },
  {
   "cell_type": "code",
   "execution_count": null,
   "id": "sustainable-shield",
   "metadata": {},
   "outputs": [],
   "source": [
    "#atan(x, /) : Return the arc tangent (measured in radians) of x."
   ]
  },
  {
   "cell_type": "code",
   "execution_count": null,
   "id": "modified-phase",
   "metadata": {},
   "outputs": [],
   "source": [
    "#atan2(y, x, /) : Return the arc tangent (measured in radians) of y/x.\n",
    "        \n",
    "        Unlike atan(y/x), the signs of both x and y are considered.\n",
    "    "
   ]
  },
  {
   "cell_type": "markdown",
   "id": "natural-round",
   "metadata": {},
   "source": [
    "##  hyperbolic"
   ]
  },
  {
   "cell_type": "code",
   "execution_count": null,
   "id": "duplicate-negotiation",
   "metadata": {},
   "outputs": [],
   "source": [
    "#sinh(x, /) : Return the hyperbolic sine of x."
   ]
  },
  {
   "cell_type": "code",
   "execution_count": null,
   "id": "sealed-canyon",
   "metadata": {},
   "outputs": [],
   "source": [
    "#cosh(x, /) : Return the hyperbolic cosine of x."
   ]
  },
  {
   "cell_type": "code",
   "execution_count": null,
   "id": "facial-station",
   "metadata": {},
   "outputs": [],
   "source": [
    "#tanh(x, /):Return the hyperbolic tangent of x."
   ]
  },
  {
   "cell_type": "code",
   "execution_count": null,
   "id": "dated-victoria",
   "metadata": {},
   "outputs": [],
   "source": [
    "#asinh(x, /) : Return the inverse hyperbolic sine of x."
   ]
  },
  {
   "cell_type": "code",
   "execution_count": null,
   "id": "realistic-toner",
   "metadata": {},
   "outputs": [],
   "source": [
    "#acosh(x, /) : Return the inverse hyperbolic cosine of x."
   ]
  },
  {
   "cell_type": "code",
   "execution_count": null,
   "id": "victorian-moses",
   "metadata": {},
   "outputs": [],
   "source": [
    "#atanh(x, /) : Return the inverse hyperbolic tangent of x.\n",
    "    "
   ]
  },
  {
   "cell_type": "markdown",
   "id": "sufficient-might",
   "metadata": {},
   "source": [
    "# log(...)"
   ]
  },
  {
   "cell_type": "code",
   "execution_count": null,
   "id": "confused-spray",
   "metadata": {},
   "outputs": [],
   "source": [
    " : log(x, [base=math.e])\n",
    "        Return the logarithm of x to the given base.\n",
    "        \n",
    "        If the base not specified, returns the natural logarithm (base e) of x.\n",
    "    \n",
    "    log10(x, /)\n",
    "        Return the base 10 logarithm of x.\n",
    "    \n",
    "    log1p(x, /)\n",
    "        Return the natural logarithm of 1+x (base e).\n",
    "        \n",
    "        The result is computed in a way which is accurate for x near zero.\n",
    "    \n",
    "    log2(x, /)\n",
    "        Return the base 2 logarithm of x.\n",
    "    "
   ]
  },
  {
   "cell_type": "markdown",
   "id": "killing-rover",
   "metadata": {},
   "source": [
    "# Function"
   ]
  },
  {
   "cell_type": "code",
   "execution_count": null,
   "id": "acute-milan",
   "metadata": {},
   "outputs": [],
   "source": [
    "#ceil(x, /):Return the ceiling of x as an Integral.\n",
    "#his is the smallest integer >= x.\n",
    "    "
   ]
  },
  {
   "cell_type": "code",
   "execution_count": null,
   "id": "weighted-romantic",
   "metadata": {},
   "outputs": [],
   "source": [
    "copysign(x, y, /):Return a float with the magnitude (absolute value) of x but the sign of y.\n",
    "\n",
    "    On platforms that support signed zeros, copysign(1.0, -0.0)\n",
    "    returns -1.0.\n"
   ]
  },
  {
   "cell_type": "code",
   "execution_count": null,
   "id": "hydraulic-astronomy",
   "metadata": {},
   "outputs": [],
   "source": [
    "#lgamma(x, /):Natural logarithm of absolute value of Gamma function at x."
   ]
  },
  {
   "cell_type": "code",
   "execution_count": null,
   "id": "bigger-switch",
   "metadata": {},
   "outputs": [],
   "source": [
    "#erf(x, /):Error function at x.\n",
    "#erfc(x, /):Complementary error function at x.\n",
    "#expm1(x, /):Return exp(x)-1.\n",
    "This function avoids the loss of precision involved in the direct evaluation of exp(x)-1 for small x.\n",
    "    "
   ]
  },
  {
   "cell_type": "code",
   "execution_count": null,
   "id": "ignored-czech",
   "metadata": {},
   "outputs": [],
   "source": [
    "#fabs(x, /):Return the absolute value of the float x.\n",
    "   "
   ]
  },
  {
   "cell_type": "code",
   "execution_count": null,
   "id": "bulgarian-locator",
   "metadata": {},
   "outputs": [],
   "source": [
    "frexp(x, /):Return the mantissa and exponent of x, as pair (m, e).\n",
    "        m is a float and e is an int, such that x = m * 2.**e.\n",
    "        If x is 0, m and e are both 0.  Else 0.5 <= abs(m) < 1.0.\n",
    "    \n",
    "    fsum(seq, /):Return an accurate floating point sum of values in the iterable seq.\n",
    "        \n",
    "        Assumes IEEE-754 floating point arithmetic.\n",
    "    \n",
    "    gamma(x, /):Gamma function at x.\n",
    "    \n",
    "    gcd(x, y, /):greatest common divisor of x and y\n",
    "    \n",
    "    hypot(x, y, /)\n",
    "        Return the Euclidean distance, sqrt(x*x + y*y).\n",
    "    \n",
    "    isclose(a, b, *, rel_tol=1e-09, abs_tol=0.0)\n",
    "        Determine whether two floating point numbers are close in value.\n",
    "        \n",
    "          rel_tol\n",
    "            maximum difference for being considered \"close\", relative to the\n",
    "            magnitude of the input values\n",
    "          abs_tol\n",
    "            maximum difference for being considered \"close\", regardless of the\n",
    "            magnitude of the input values\n",
    "        \n",
    "        Return True if a is close in value to b, and False otherwise.\n",
    "        \n",
    "        For the values to be considered close, the difference between them\n",
    "        must be smaller than at least one of the tolerances.\n",
    "        \n",
    "        -inf, inf and NaN behave similarly to the IEEE 754 Standard.  That\n",
    "        is, NaN is not close to anything, even itself.  inf and -inf are\n",
    "        only close to themselves.\n",
    "\n",
    "    ldexp(x, i, /)\n",
    "        Return x * (2**i).\n",
    "        \n",
    "        This is essentially the inverse of frexp().\n",
    "    \n",
    "        pow(x, y, /)\n",
    "        Return x**y (x to the power of y).\n",
    "        \n",
    "\n",
    "    \n",
    "\n",
    "    \n",
    "\n",
    "    \n",
    "\n",
    "    \n",
    "    remainder(x, y, /)\n",
    "        Difference between x and the closest integer multiple of y.\n",
    "        \n",
    "        Return x - n*y where n*y is the closest integer multiple of y.\n",
    "        In the case where x is exactly halfway between two multiples of\n",
    "        y, the nearest even value of n is used. The result is always exact.\n",
    "\n",
    "\n",
    "\n",
    "    \n",
    "    trunc(x, /)\n",
    "        Truncates the Real x to the nearest Integral toward 0.\n",
    "        \n",
    "        Uses the __trunc__ magic method.\n",
    "\n",
    "\n",
    "FILE\n",
    "    (built-in)"
   ]
  },
  {
   "cell_type": "markdown",
   "id": "about-courtesy",
   "metadata": {},
   "source": [
    "# own"
   ]
  },
  {
   "cell_type": "code",
   "execution_count": 32,
   "id": "attached-optimum",
   "metadata": {},
   "outputs": [],
   "source": []
  },
  {
   "cell_type": "code",
   "execution_count": null,
   "id": "competitive-quebec",
   "metadata": {},
   "outputs": [],
   "source": [
    "com"
   ]
  },
  {
   "cell_type": "code",
   "execution_count": null,
   "id": "dried-monster",
   "metadata": {},
   "outputs": [],
   "source": []
  },
  {
   "cell_type": "code",
   "execution_count": null,
   "id": "complete-pointer",
   "metadata": {},
   "outputs": [],
   "source": []
  },
  {
   "cell_type": "code",
   "execution_count": null,
   "id": "alpha-shakespeare",
   "metadata": {},
   "outputs": [],
   "source": []
  },
  {
   "cell_type": "code",
   "execution_count": null,
   "id": "confused-senior",
   "metadata": {},
   "outputs": [],
   "source": []
  }
 ],
 "metadata": {
  "kernelspec": {
   "display_name": "Python 3",
   "language": "python",
   "name": "python3"
  },
  "language_info": {
   "codemirror_mode": {
    "name": "ipython",
    "version": 3
   },
   "file_extension": ".py",
   "mimetype": "text/x-python",
   "name": "python",
   "nbconvert_exporter": "python",
   "pygments_lexer": "ipython3",
   "version": "3.7.8"
  }
 },
 "nbformat": 4,
 "nbformat_minor": 5
}
