{
 "cells": [
  {
   "cell_type": "markdown",
   "id": "attempted-mason",
   "metadata": {},
   "source": [
    "##  Headings: "
   ]
  },
  {
   "cell_type": "raw",
   "id": "signal-organic",
   "metadata": {},
   "source": [
    "# title\n",
    "## major headings\n",
    "### subheadings\n",
    "#### 4th level subheadings"
   ]
  },
  {
   "cell_type": "markdown",
   "id": "quality-lottery",
   "metadata": {},
   "source": [
    "## Emphasis: "
   ]
  },
  {
   "cell_type": "raw",
   "id": "spanish-relations",
   "metadata": {},
   "source": [
    "Bold: __string__ or **string** \n",
    "Italic: _string_ or *string*"
   ]
  },
  {
   "cell_type": "markdown",
   "id": "naval-material",
   "metadata": {},
   "source": [
    "## Mathematical symbols: "
   ]
  },
  {
   "cell_type": "raw",
   "id": "disabled-lodging",
   "metadata": {},
   "source": [
    "$ mathematical symbols $"
   ]
  },
  {
   "cell_type": "markdown",
   "id": "automatic-original",
   "metadata": {},
   "source": [
    "## Line breaks: "
   ]
  },
  {
   "cell_type": "raw",
   "id": "cardiac-liberal",
   "metadata": {},
   "source": [
    "<br>"
   ]
  },
  {
   "cell_type": "markdown",
   "id": "fancy-wrong",
   "metadata": {},
   "source": [
    "## Colors:"
   ]
  },
  {
   "cell_type": "raw",
   "id": "expected-mining",
   "metadata": {},
   "source": [
    "<font color=blue|red|green|pink|yellow>Text</font>"
   ]
  },
  {
   "cell_type": "markdown",
   "id": "daily-helena",
   "metadata": {},
   "source": [
    "## link"
   ]
  },
  {
   "cell_type": "raw",
   "id": "pediatric-coaching",
   "metadata": {},
   "source": [
    "in: <a id=\"section_ID\"></a>\n",
    "ex: [link text](http://url)"
   ]
  },
  {
   "cell_type": "markdown",
   "id": "combined-backup",
   "metadata": {},
   "source": [
    "## Img"
   ]
  },
  {
   "cell_type": "raw",
   "id": "premier-picnic",
   "metadata": {},
   "source": [
    "<img src=\"url.gif\" alt=\"Alt text that describes the graphic\" title=\"Title text\" />"
   ]
  },
  {
   "cell_type": "markdown",
   "id": "infinite-assault",
   "metadata": {},
   "source": [
    "## Numbered lists: "
   ]
  },
  {
   "cell_type": "markdown",
   "id": "signal-rotation",
   "metadata": {},
   "source": [
    "1. a"
   ]
  },
  {
   "cell_type": "markdown",
   "id": "physical-dancing",
   "metadata": {},
   "source": [
    "## Bullets  "
   ]
  },
  {
   "cell_type": "markdown",
   "id": "acoustic-forge",
   "metadata": {},
   "source": [
    "- a"
   ]
  },
  {
   "cell_type": "markdown",
   "id": "attractive-ceremony",
   "metadata": {},
   "source": [
    "## UTF-8 Geometric Shapes\n",
    "[UTF-8 Geometric Shapes](https://www.w3schools.com/charsets/ref_utf_geometric.asp)\n"
   ]
  },
  {
   "cell_type": "markdown",
   "id": "demanding-demonstration",
   "metadata": {},
   "source": [
    "## LaTeX Math expression\n",
    "\n",
    "[LaTeX Math](https://artofproblemsolving.com/wiki/index.php/LaTeX:LaTeX_on_AoPS#Superscripts_.26_Subscripts)\n"
   ]
  },
  {
   "cell_type": "markdown",
   "id": "theoretical-charter",
   "metadata": {},
   "source": [
    "\\begin{align*}\n",
    "ax + by &= 1 \\\\\n",
    "cx + dy &= 2 \\\\\n",
    "ex + fy &= 3.\n",
    "\\end{align*}"
   ]
  },
  {
   "cell_type": "code",
   "execution_count": null,
   "id": "determined-release",
   "metadata": {},
   "outputs": [],
   "source": []
  }
 ],
 "metadata": {
  "kernelspec": {
   "display_name": "Python 3",
   "language": "python",
   "name": "python3"
  },
  "language_info": {
   "codemirror_mode": {
    "name": "ipython",
    "version": 3
   },
   "file_extension": ".py",
   "mimetype": "text/x-python",
   "name": "python",
   "nbconvert_exporter": "python",
   "pygments_lexer": "ipython3",
   "version": "3.7.8"
  }
 },
 "nbformat": 4,
 "nbformat_minor": 5
}
