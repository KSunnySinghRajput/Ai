{
 "cells": [
  {
   "cell_type": "markdown",
   "metadata": {
    "colab_type": "text",
    "id": "view-in-github"
   },
   "source": [
    "<a href=\"https://colab.research.google.com/github/ScriptShef/AI_ML_DL/blob/master/Colaboratory/MailTransfer.ipynb\" target=\"_parent\"><img src=\"https://colab.research.google.com/assets/colab-badge.svg\" alt=\"Open In Colab\"/></a>"
   ]
  },
  {
   "cell_type": "code",
   "execution_count": 38,
   "metadata": {
    "id": "8jFGyPXYrIFE"
   },
   "outputs": [],
   "source": [
    "import smtplib\n",
    "import getpass"
   ]
  },
  {
   "cell_type": "code",
   "execution_count": 59,
   "metadata": {
    "id": "M1IlecPPrrfm"
   },
   "outputs": [],
   "source": [
    "# email\n",
    "f = open(\"mycontacts.txt\", \"w\")\n",
    "f.write('SunnySingh VSparks.gp@gmail.com\\n')\n",
    "f.write('SunnySingh KSunnySingh4295@gmail.com\\n')\n",
    "f.write('SunnySingh KunwarSunnySingh.Rajput@gmail.com\\n')\n",
    "f.write('SunnySingh sunnysingh.depex@gmail.com\\n')\n",
    "f.close()\n"
   ]
  },
  {
   "cell_type": "code",
   "execution_count": 60,
   "metadata": {
    "colab": {
     "base_uri": "https://localhost:8080/"
    },
    "id": "nkXY18giwTUg",
    "outputId": "8350ddf3-ebc5-4de4-bb95-0a2a8a6bc5d5"
   },
   "outputs": [
    {
     "name": "stdout",
     "output_type": "stream",
     "text": [
      "SunnySingh VSparks.gp@gmail.com\n",
      "SunnySingh KSunnySingh4295@gmail.com\n",
      "SunnySingh KunwarSunnySingh.Rajput@gmail.com\n",
      "SunnySingh sunnysingh.depex@gmail.com\n"
     ]
    }
   ],
   "source": [
    "cat 'mycontacts.txt'"
   ]
  },
  {
   "cell_type": "code",
   "execution_count": 61,
   "metadata": {
    "id": "kY5XFswSvo4N"
   },
   "outputs": [],
   "source": [
    "#message\n",
    "f = open(\"message.txt\", \"w\")\n",
    "f.write(\"Dear ${PERSON_NAME},\\nThis is a test message.\\nHave a great weekend! \\nYours Truly\\n\")\n",
    "f.close()\n"
   ]
  },
  {
   "cell_type": "code",
   "execution_count": 62,
   "metadata": {
    "colab": {
     "base_uri": "https://localhost:8080/"
    },
    "id": "akQQvHnywYpG",
    "outputId": "80a686e8-5341-4d23-f85e-aeb30975d290"
   },
   "outputs": [
    {
     "name": "stdout",
     "output_type": "stream",
     "text": [
      "Dear ${PERSON_NAME},\n",
      "This is a test message.\n",
      "Have a great weekend! \n",
      "Yours Truly\n"
     ]
    }
   ],
   "source": [
    "cat \"message.txt\""
   ]
  },
  {
   "cell_type": "code",
   "execution_count": 24,
   "metadata": {
    "colab": {
     "base_uri": "https://localhost:8080/"
    },
    "id": "7PDbdX6Ys_3e",
    "outputId": "ea6d7fa4-0844-4683-ff5d-35a46d6d3e56"
   },
   "outputs": [
    {
     "name": "stdout",
     "output_type": "stream",
     "text": [
      "··········\n"
     ]
    }
   ],
   "source": [
    "# username = input(\"Enter your remote account: \")\n",
    "username='SunnySingh.Nespl@gmail.com'\n",
    "password = getpass.getpass()"
   ]
  },
  {
   "cell_type": "markdown",
   "metadata": {
    "id": "8RQcvDDZuiJx"
   },
   "source": [
    "### Opening the Connection"
   ]
  },
  {
   "cell_type": "code",
   "execution_count": 46,
   "metadata": {
    "colab": {
     "base_uri": "https://localhost:8080/"
    },
    "id": "4-TfGsKqrEvC",
    "outputId": "56ac7154-8b19-4d6e-84cc-5887c81226f5"
   },
   "outputs": [
    {
     "name": "stdout",
     "output_type": "stream",
     "text": [
      "Login Success\n"
     ]
    }
   ],
   "source": [
    "# set up the SMTP server\n",
    "\n",
    "try:\n",
    "    # server = smtplib.SMTP(host='your_host_address_here', port=your_port_here)\n",
    "    # server = smtplib.SMTP(host='smtp-mail.outlook.com', port=587)\n",
    "    server = smtplib.SMTP('smtp.gmail.com', 587)\n",
    "    server.ehlo()\n",
    "    server.starttls()\n",
    "    server.login(username, password)\n",
    "    print('Login Success')\n",
    "except:\n",
    "    print('Something went wrong...')\n",
    "    exit()"
   ]
  },
  {
   "cell_type": "markdown",
   "metadata": {
    "id": "0_4etaNJuncb"
   },
   "source": [
    "### Using a Secure Connection"
   ]
  },
  {
   "cell_type": "code",
   "execution_count": 50,
   "metadata": {
    "colab": {
     "base_uri": "https://localhost:8080/"
    },
    "id": "OSmfx5G0ublf",
    "outputId": "a980aa88-7535-4432-d75f-c5cef2d74d65"
   },
   "outputs": [
    {
     "name": "stdout",
     "output_type": "stream",
     "text": [
      "Login Success\n"
     ]
    }
   ],
   "source": [
    "import smtplib\n",
    "\n",
    "try:\n",
    "    server_ssl = smtplib.SMTP_SSL('smtp.gmail.com', 465)\n",
    "    server_ssl.ehlo()   # optional\n",
    "    server_ssl.login(username, password)\n",
    "    print('Login Success')\n",
    "except:\n",
    "    print('Something went wrong...')\n",
    "\n"
   ]
  },
  {
   "cell_type": "markdown",
   "metadata": {
    "id": "GZxS3MdivEux"
   },
   "source": [
    "### Creating the Email"
   ]
  },
  {
   "cell_type": "code",
   "execution_count": 63,
   "metadata": {
    "id": "hd4sK2hrw-j3"
   },
   "outputs": [],
   "source": [
    "def get_contacts(filename):\n",
    "    names = []\n",
    "    emails = []\n",
    "    with open(filename, mode='r', encoding='utf-8') as contacts_file:\n",
    "        for a_contact in contacts_file:\n",
    "            names.append(a_contact.split()[0])\n",
    "            emails.append(a_contact.split()[1])\n",
    "    return names, emails\n"
   ]
  },
  {
   "cell_type": "code",
   "execution_count": 64,
   "metadata": {
    "colab": {
     "base_uri": "https://localhost:8080/"
    },
    "id": "Np5GdAmxxNw8",
    "outputId": "cecbe5c1-96f0-4050-d78d-308583452247"
   },
   "outputs": [
    {
     "data": {
      "text/plain": [
       "(['SunnySingh', 'SunnySingh', 'SunnySingh', 'SunnySingh'],\n",
       " ['VSparks.gp@gmail.com',\n",
       "  'KSunnySingh4295@gmail.com',\n",
       "  'KunwarSunnySingh.Rajput@gmail.com',\n",
       "  'sunnysingh.depex@gmail.com'])"
      ]
     },
     "execution_count": 64,
     "metadata": {
      "tags": []
     },
     "output_type": "execute_result"
    }
   ],
   "source": [
    "names, emails = get_contacts('mycontacts.txt')  # read contacts\n",
    "names, emails"
   ]
  },
  {
   "cell_type": "code",
   "execution_count": 65,
   "metadata": {
    "id": "drB6hAd4xDuD"
   },
   "outputs": [],
   "source": [
    "from string import Template\n",
    "\n",
    "def read_template(filename):\n",
    "    with open(filename, 'r', encoding='utf-8') as template_file:\n",
    "        template_file_content = template_file.read()\n",
    "    return Template(template_file_content)"
   ]
  },
  {
   "cell_type": "code",
   "execution_count": 66,
   "metadata": {
    "colab": {
     "base_uri": "https://localhost:8080/"
    },
    "id": "2gouFZ9UxP4o",
    "outputId": "a3c99a7b-1699-438f-d48c-50eec0ba81e6"
   },
   "outputs": [
    {
     "data": {
      "text/plain": [
       "<string.Template at 0x7f3e04bee890>"
      ]
     },
     "execution_count": 66,
     "metadata": {
      "tags": []
     },
     "output_type": "execute_result"
    }
   ],
   "source": [
    "message_template = read_template('message.txt')\n",
    "message_template"
   ]
  },
  {
   "cell_type": "markdown",
   "metadata": {
    "id": "QpJWlhgwxmp4"
   },
   "source": [
    "## Email Send"
   ]
  },
  {
   "cell_type": "code",
   "execution_count": 67,
   "metadata": {
    "id": "WeKS8lQTqL3a"
   },
   "outputs": [],
   "source": [
    "# import necessary packages\n",
    "from email.mime.multipart import MIMEMultipart\n",
    "from email.mime.text import MIMEText\n",
    "\n",
    "# For each contact, send the email:\n",
    "for name, email in zip(names, emails):\n",
    "    msg = MIMEMultipart()       # create a message\n",
    "\n",
    "    # add in the actual person name to the message template\n",
    "    message = message_template.substitute(PERSON_NAME=name.title())\n",
    "\n",
    "    # setup the parameters of the message\n",
    "    msg['From']=username\n",
    "    msg['To']=email\n",
    "    msg['Subject']=\"This is TEST\"\n",
    "\n",
    "    # add in the message body\n",
    "    msg.attach(MIMEText(message, 'plain'))\n",
    "\n",
    "    # send the message via the server set up earlier.\n",
    "    server_ssl.send_message(msg)\n",
    "    # server.send_message(msg)\n",
    "    \n",
    "    del msg"
   ]
  },
  {
   "cell_type": "code",
   "execution_count": null,
   "metadata": {
    "id": "S0NcnV56zSHE"
   },
   "outputs": [],
   "source": []
  }
 ],
 "metadata": {
  "colab": {
   "authorship_tag": "ABX9TyPzRrYBHFkHyr+kv9SZvD1t",
   "collapsed_sections": [],
   "include_colab_link": true,
   "name": "MailTransfer.ipynb",
   "provenance": []
  },
  "kernelspec": {
   "display_name": "Python 3",
   "language": "python",
   "name": "python3"
  },
  "language_info": {
   "codemirror_mode": {
    "name": "ipython",
    "version": 3
   },
   "file_extension": ".py",
   "mimetype": "text/x-python",
   "name": "python",
   "nbconvert_exporter": "python",
   "pygments_lexer": "ipython3",
   "version": "3.7.8"
  }
 },
 "nbformat": 4,
 "nbformat_minor": 1
}
