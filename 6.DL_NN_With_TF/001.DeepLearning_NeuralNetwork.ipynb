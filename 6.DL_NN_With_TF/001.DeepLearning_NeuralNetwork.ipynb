{
 "cells": [
  {
   "cell_type": "markdown",
   "id": "stopped-relation",
   "metadata": {},
   "source": [
    "# <center>Deep Learning / Neural Network</center>"
   ]
  },
  {
   "cell_type": "markdown",
   "id": "endangered-hardware",
   "metadata": {},
   "source": [
    "## 1. Deep Learning :\n",
    "\n",
    "**Deep learning** is a subset of **machine learning** in artificial intelligence that has networks capable of learning unsupervised from data that is unstructured or unlabeled. Also known as **deep** neural **learning** or **deep neural network**.\n",
    "\n",
    "### Difference between Deep Learning and Machine Learning\n",
    "![](_pic/DL_NN/deep_learning.png)\n",
    "![](_pic\\DL_NN\\F2.large.jpg)\n",
    "### Deep learning applications\n",
    "\n",
    "- Self-Driving Cars\n",
    "- Voice Controlled Assistance\n",
    "- Automatic Image Caption Generation\n",
    "- Automatic Machine Translation\n",
    "\n",
    "**Limitations**\n",
    "\n",
    "- It only learns through the observations.\n",
    "- It comprises of biases issues.\n",
    "\n",
    "**Advantages**\n",
    "\n",
    "- It lessens the need for feature engineering.\n",
    "- It eradicates all those costs that are needless.\n",
    "- It easily identifies difficult defects.\n",
    "- It results in the best-in-class performance on problems.\n",
    "\n",
    "**Disadvantages**\n",
    "\n",
    "- It requires an ample amount of data.\n",
    "- It is quite expensive to train.\n",
    "- It does not have strong theoretical groundwork."
   ]
  },
  {
   "cell_type": "markdown",
   "id": "incredible-freight",
   "metadata": {},
   "source": [
    "### Neural Network Framework \n",
    "1. [Tesorflow and Keras](02.a.TF.ipynb)\n",
    "2. [pytouch]()\n",
    "3. [keras]()"
   ]
  },
  {
   "cell_type": "markdown",
   "id": "accepting-north",
   "metadata": {},
   "source": [
    "\n",
    "## 2. Neural Network\n",
    "\n",
    "#### Biological Neuron\n",
    "![](_pic/DL_NN/bioneuron1.png)\n",
    "<p style='text-align:right'>Adapted from BruceBlaus (Own work) [CC BY 3.0] via Wikimedia Commons</p>\n",
    "\n",
    "#### Artificial Neurons\n",
    "\n",
    "![](_pic/DL_NN/artifneuron.png)\n",
    "<!--p style='text-align:center; color:blue'> Artificial Neuron </p-->\n",
    "\n",
    "### <p style='text-align:center'> $z = ∑_{i}^{i=n}w_{i}*x_{i}$</p>\n",
    "#### The output is a function of z:\n",
    "### <p style='text-align:center'> $y = f(z)$ </p>\n",
    "### Output:\n",
    "## <p style='text-align:center; color:blue'> $y = f(X*W+b)$ </p>\n",
    "\n",
    "### Different types of Neural Networks in Deep Learning\n",
    "\n",
    "1. Artificial Neural Networks (ANN)\n",
    "2. Convolution Neural Networks (CNN)\n",
    "3. Recurrent Neural Networks (RNN)"
   ]
  },
  {
   "cell_type": "markdown",
   "id": "prescription-plasma",
   "metadata": {},
   "source": [
    "\n",
    "### [Perceptron Layer](002.LayerPerceptron.ipynb)\n"
   ]
  },
  {
   "cell_type": "markdown",
   "id": "beautiful-counter",
   "metadata": {},
   "source": [
    "### [1. Artificial Neural Network](003.ANN.ipynb) \n",
    "\n",
    "A single perceptron (or neuron) can be imagined as a Logistic Regression. Artificial Neural Network, or ANN, is a group of multiple perceptrons/ neurons at each layer. ANN is also known as a **Feed-Forward Neural network** because inputs are processed only in the forward direction:\n",
    "\n",
    "![](_pic/03.NN/ANN-Graph.webp)\n",
    "<p style='text-align:right'></p>\n",
    "As you can see here, ANN consists of 3 layers – Input, Hidden and Output. The input layer accepts the inputs, the hidden layer processes the inputs, and the output layer produces the result. Essentially, each layer tries to learn certain weights.\n",
    "\n",
    "**Applications:**\n",
    "\n",
    "- Data Compression\n",
    "- Pattern Recognition\n",
    "- Computer Vision\n",
    "- Sonar Target Recognition\n",
    "- Speech Recognition\n",
    "- Handwritten Characters Recognition\n",
    "\n",
    "ANN can be used to solve problems related to:\n",
    "\n",
    "Tabular data\n",
    "Image data\n",
    "Text data"
   ]
  },
  {
   "cell_type": "markdown",
   "id": "grateful-position",
   "metadata": {},
   "source": [
    "### 2. [Convolutional Neural Network](004.CNN.ipynb)\n",
    "\n",
    "    Convolutional Neural Networks are a special kind of neural network mainly used for image classification, clustering of images and object recognition. DNNs enable unsupervised construction of hierarchical image representations. To achieve the best accuracy, deep convolutional neural networks are preferred more than any other neural network.\n",
    "\n",
    "**Applications:**\n",
    "\n",
    "- Identify Faces, Street Signs, Tumors.\n",
    "- Image Recognition.\n",
    "- Video Analysis.\n",
    "- NLP.\n",
    "- Anomaly Detection.\n",
    "- Drug Discovery.\n",
    "- Checkers Game.\n",
    "- Time Series Forecasting."
   ]
  },
  {
   "cell_type": "markdown",
   "id": "liked-detector",
   "metadata": {},
   "source": [
    "### 3. [Recurrent Neural Network](005.RNN.ipynb)\n",
    "\n",
    "    Recurrent neural networks are yet another variation of feed-forward networks. Here each of the neurons present in the hidden layers receives an input with a specific delay in time. The Recurrent neural network mainly accesses the preceding info of existing iterations. For example, to guess the succeeding word in any sentence, one must have knowledge about the words that were previously used. It not only processes the inputs but also shares the length as well as weights crossways time. It does not let the size of the model to increase with the increase in the input size. However, the only problem with this recurrent neural network is that it has slow computational speed as well as it does not contemplate any future input for the current state. It has a problem with reminiscing prior information.\n",
    "\n",
    "**Applications:**\n",
    "\n",
    "- Machine Translation\n",
    "- Robot Control\n",
    "- Time Series Prediction\n",
    "- Speech Recognition\n",
    "- Speech Synthesis\n",
    "- Time Series Anomaly Detection\n",
    "- Rhythm Learning\n",
    "- Music Composition"
   ]
  },
  {
   "cell_type": "markdown",
   "id": "compliant-sterling",
   "metadata": {},
   "source": [
    "### 4. Restricted Boltzmann Machine\n",
    "\n",
    "    RBMs are yet another variant of Boltzmann Machines. Here the neurons present in the input layer and the hidden layer encompasses symmetric connections amid them. However, there is no internal association within the respective layer. But in contrast to RBM, Boltzmann machines do encompass internal connections inside the hidden layer. These restrictions in BMs helps the model to train efficiently.\n",
    "\n",
    "**Applications:**\n",
    "\n",
    "- Filtering.\n",
    "- Feature Learning.\n",
    "- Classification.\n",
    "- Risk Detection.\n",
    "- Business and Economic analysis."
   ]
  },
  {
   "cell_type": "markdown",
   "id": "diagnostic-attention",
   "metadata": {},
   "source": [
    "### 5. Autoencoders\n",
    "    An autoencoder neural network is another kind of unsupervised machine learning algorithm. Here the number of hidden cells is merely small than that of the input cells. But the number of input cells is equivalent to the number of output cells. An autoencoder network is trained to display the output similar to the fed input to force AEs to find common patterns and generalize the data. The autoencoders are mainly used for the smaller representation of the input. It helps in the reconstruction of the original data from compressed data. This algorithm is comparatively simple as it only necessitates the output identical to the input.\n",
    "\n",
    "**Encoder:** \n",
    "\n",
    "- Convert input data in lower dimensions.\n",
    "\n",
    "**Decoder:** \n",
    "\n",
    "- Reconstruct the compressed data.\n",
    "\n",
    "**Applications:**\n",
    "\n",
    "- Classification.\n",
    "- Clustering.\n",
    "- Feature Compression."
   ]
  }
 ],
 "metadata": {
  "kernelspec": {
   "display_name": "Python 3",
   "language": "python",
   "name": "python3"
  },
  "language_info": {
   "codemirror_mode": {
    "name": "ipython",
    "version": 3
   },
   "file_extension": ".py",
   "mimetype": "text/x-python",
   "name": "python",
   "nbconvert_exporter": "python",
   "pygments_lexer": "ipython3",
   "version": "3.7.8"
  }
 },
 "nbformat": 4,
 "nbformat_minor": 5
}
