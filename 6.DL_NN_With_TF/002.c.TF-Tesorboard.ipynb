{
 "cells": [
  {
   "cell_type": "code",
   "execution_count": 2,
   "id": "impressive-index",
   "metadata": {},
   "outputs": [],
   "source": [
    "import tensorflow as tf\n",
    "import datetime as dt"
   ]
  },
  {
   "cell_type": "code",
   "execution_count": 3,
   "id": "associate-missouri",
   "metadata": {},
   "outputs": [],
   "source": [
    "#Simple Layer\n",
    "class SimpleModule(tf.Module):\n",
    "    def __init__(self, name=None):\n",
    "        super().__init__(name=name)\n",
    "        self.a_variable = tf.Variable(5.0, name=\"train_me\")\n",
    "        self.non_trainable_variable = tf.Variable(5.0, trainable=False, name=\"do_not_train_me\")\n",
    "    def __call__(self, x):\n",
    "        return self.a_variable * x + self.non_trainable_variable\n"
   ]
  },
  {
   "cell_type": "code",
   "execution_count": 4,
   "id": "intermediate-husband",
   "metadata": {},
   "outputs": [
    {
     "name": "stdout",
     "output_type": "stream",
     "text": [
      "trainable variables: (<tf.Variable 'train_me:0' shape=() dtype=float32, numpy=5.0>,)\n",
      "all variables: (<tf.Variable 'train_me:0' shape=() dtype=float32, numpy=5.0>, <tf.Variable 'do_not_train_me:0' shape=() dtype=float32, numpy=5.0>)\n"
     ]
    }
   ],
   "source": [
    "simple_module = SimpleModule(name=\"simple\")\n",
    "simple_module(tf.constant(5.0))\n",
    "# All trainable variables\n",
    "print(\"trainable variables:\", simple_module.trainable_variables)\n",
    "# Every variable\n",
    "print(\"all variables:\", simple_module.variables)"
   ]
  },
  {
   "cell_type": "markdown",
   "id": "fitting-runner",
   "metadata": {},
   "source": [
    "## First a dense (linear) layer:"
   ]
  },
  {
   "cell_type": "code",
   "execution_count": 5,
   "id": "norman-check",
   "metadata": {},
   "outputs": [],
   "source": [
    "class Dense(tf.Module):\n",
    "    def __init__(self, in_features, out_features, name=None):\n",
    "        super().__init__(name=name)\n",
    "        self.w = tf.Variable(\n",
    "          tf.random.normal([in_features, out_features]), name='w')\n",
    "        self.b = tf.Variable(tf.zeros([out_features]), name='b')\n",
    "    def __call__(self, x):\n",
    "        y = tf.matmul(x, self.w) + self.b\n",
    "        return tf.nn.relu(y)"
   ]
  },
  {
   "cell_type": "markdown",
   "id": "architectural-split",
   "metadata": {},
   "source": [
    "## And then the complete model, which makes two layer instances and applies them:"
   ]
  },
  {
   "cell_type": "code",
   "execution_count": 6,
   "id": "loose-briefing",
   "metadata": {},
   "outputs": [
    {
     "name": "stdout",
     "output_type": "stream",
     "text": [
      "Model results: tf.Tensor([[0.39031565 0.        ]], shape=(1, 2), dtype=float32)\n"
     ]
    }
   ],
   "source": [
    "class SequentialModule(tf.Module):\n",
    "    def __init__(self, name=None):\n",
    "        super().__init__(name=name)\n",
    "\n",
    "        self.dense_1 = Dense(in_features=3, out_features=3)\n",
    "        self.dense_2 = Dense(in_features=3, out_features=2)\n",
    "\n",
    "    def __call__(self, x):\n",
    "        x = self.dense_1(x)\n",
    "        return self.dense_2(x)\n",
    "\n",
    "# You have made a model!\n",
    "my_model = SequentialModule(name=\"the_model\")\n",
    "\n",
    "# Call it, with random results\n",
    "print(\"Model results:\", my_model(tf.constant([[2.0, 2.0, 2.0]])))"
   ]
  },
  {
   "cell_type": "code",
   "execution_count": 7,
   "id": "funny-chamber",
   "metadata": {},
   "outputs": [
    {
     "name": "stdout",
     "output_type": "stream",
     "text": [
      "Submodules: (<__main__.Dense object at 0x00000222FF6AF048>, <__main__.Dense object at 0x00000222D64672C8>)\n"
     ]
    }
   ],
   "source": [
    "print(\"Submodules:\", my_model.submodules)"
   ]
  },
  {
   "cell_type": "code",
   "execution_count": 8,
   "id": "artificial-trance",
   "metadata": {},
   "outputs": [
    {
     "name": "stdout",
     "output_type": "stream",
     "text": [
      "<tf.Variable 'b:0' shape=(3,) dtype=float32, numpy=array([0., 0., 0.], dtype=float32)> \n",
      "\n",
      "<tf.Variable 'w:0' shape=(3, 3) dtype=float32, numpy=\n",
      "array([[ 0.10272066, -0.58512753, -0.06615195],\n",
      "       [ 1.0061566 ,  2.0000758 ,  1.6512033 ],\n",
      "       [-0.7395761 , -0.02542531, -0.6074709 ]], dtype=float32)> \n",
      "\n",
      "<tf.Variable 'b:0' shape=(2,) dtype=float32, numpy=array([0., 0.], dtype=float32)> \n",
      "\n",
      "<tf.Variable 'w:0' shape=(3, 2) dtype=float32, numpy=\n",
      "array([[ 0.64518607, -0.05222085],\n",
      "       [ 0.11332027,  0.04047208],\n",
      "       [-0.20517106, -1.3543276 ]], dtype=float32)> \n",
      "\n"
     ]
    }
   ],
   "source": [
    "for var in my_model.variables:\n",
    "    print(var, \"\\n\")"
   ]
  },
  {
   "cell_type": "markdown",
   "id": "sorted-liberty",
   "metadata": {},
   "source": [
    "# Waiting to create variables"
   ]
  },
  {
   "cell_type": "code",
   "execution_count": 9,
   "id": "directed-semester",
   "metadata": {},
   "outputs": [],
   "source": [
    "class FlexibleDenseModule(tf.Module):\n",
    "  # Note: No need for `in+features`\n",
    "  def __init__(self, out_features, name=None):\n",
    "    super().__init__(name=name)\n",
    "    self.is_built = False\n",
    "    self.out_features = out_features\n",
    "\n",
    "  def __call__(self, x):\n",
    "    # Create variables on first call.\n",
    "    if not self.is_built:\n",
    "      self.w = tf.Variable(\n",
    "        tf.random.normal([x.shape[-1], self.out_features]), name='w')\n",
    "      self.b = tf.Variable(tf.zeros([self.out_features]), name='b')\n",
    "      self.is_built = True\n",
    "\n",
    "    y = tf.matmul(x, self.w) + self.b\n",
    "    return tf.nn.relu(y)"
   ]
  },
  {
   "cell_type": "code",
   "execution_count": 10,
   "id": "administrative-heating",
   "metadata": {},
   "outputs": [
    {
     "name": "stdout",
     "output_type": "stream",
     "text": [
      "Model results: tf.Tensor([[0.         0.34588957]], shape=(1, 2), dtype=float32)\n"
     ]
    }
   ],
   "source": [
    "# Used in a module\n",
    "class MySequentialModule(tf.Module):\n",
    "  def __init__(self, name=None):\n",
    "    super().__init__(name=name)\n",
    "\n",
    "    self.dense_1 = FlexibleDenseModule(out_features=3)\n",
    "    self.dense_2 = FlexibleDenseModule(out_features=2)\n",
    "\n",
    "  def __call__(self, x):\n",
    "    x = self.dense_1(x)\n",
    "    return self.dense_2(x)\n",
    "\n",
    "my_model = MySequentialModule(name=\"the_model\")\n",
    "print(\"Model results:\", my_model(tf.constant([[2.0, 2.0, 2.0]])))"
   ]
  },
  {
   "cell_type": "markdown",
   "id": "compound-ability",
   "metadata": {},
   "source": [
    "##  Load the TensorBoard notebook extension"
   ]
  },
  {
   "cell_type": "code",
   "execution_count": 11,
   "id": "terminal-standing",
   "metadata": {},
   "outputs": [],
   "source": [
    "# Load the TensorBoard notebook extension\n",
    "%load_ext tensorboard"
   ]
  },
  {
   "cell_type": "code",
   "execution_count": 12,
   "id": "backed-gauge",
   "metadata": {},
   "outputs": [],
   "source": [
    "## Clear log File"
   ]
  },
  {
   "cell_type": "code",
   "execution_count": 13,
   "id": "technical-proceeding",
   "metadata": {},
   "outputs": [],
   "source": [
    "# Clear any logs from previous runs\n",
    "#rm -rf ./logs/"
   ]
  },
  {
   "cell_type": "markdown",
   "id": "dependent-endorsement",
   "metadata": {},
   "source": [
    "### Saving weights"
   ]
  },
  {
   "cell_type": "code",
   "execution_count": 14,
   "id": "corresponding-kennedy",
   "metadata": {},
   "outputs": [
    {
     "data": {
      "text/plain": [
       "'E:\\\\logs\\\\my_checkpoint'"
      ]
     },
     "execution_count": 14,
     "metadata": {},
     "output_type": "execute_result"
    }
   ],
   "source": [
    "#chkp_path = \"my_checkpoint\"\n",
    "chkp_path = \"E:\\logs\\my_checkpoint\"\n",
    "checkpoint = tf.train.Checkpoint(model=my_model)\n",
    "checkpoint.write(chkp_path)"
   ]
  },
  {
   "cell_type": "code",
   "execution_count": 15,
   "id": "amateur-perfume",
   "metadata": {},
   "outputs": [],
   "source": [
    "#ls my_checkpoint*\n",
    "#ls E:\\\\log\\\\my_checkpoint"
   ]
  },
  {
   "cell_type": "code",
   "execution_count": 16,
   "id": "controlled-presentation",
   "metadata": {},
   "outputs": [
    {
     "name": "stdout",
     "output_type": "stream",
     "text": [
      " Volume in drive E is WorkSpace\n",
      " Volume Serial Number is ACF8-467B\n",
      "\n",
      " Directory of E:\\logs\n",
      "\n",
      "31-01-2021  22:31    <DIR>          .\n",
      "31-01-2021  22:31    <DIR>          ..\n",
      "31-01-2021  22:31               347 my_checkpoint.data-00000-of-00002\n",
      "31-01-2021  22:31                80 my_checkpoint.data-00001-of-00002\n",
      "31-01-2021  22:31               368 my_checkpoint.index\n",
      "               3 File(s)            795 bytes\n",
      "               2 Dir(s)  342,300,008,448 bytes free\n"
     ]
    }
   ],
   "source": [
    "ls E:\\logs\\*"
   ]
  },
  {
   "cell_type": "code",
   "execution_count": 17,
   "id": "canadian-strip",
   "metadata": {},
   "outputs": [
    {
     "data": {
      "text/plain": [
       "[('_CHECKPOINTABLE_OBJECT_GRAPH', []),\n",
       " ('model/dense_1/b/.ATTRIBUTES/VARIABLE_VALUE', [3]),\n",
       " ('model/dense_1/w/.ATTRIBUTES/VARIABLE_VALUE', [3, 3]),\n",
       " ('model/dense_2/b/.ATTRIBUTES/VARIABLE_VALUE', [2]),\n",
       " ('model/dense_2/w/.ATTRIBUTES/VARIABLE_VALUE', [3, 2])]"
      ]
     },
     "execution_count": 17,
     "metadata": {},
     "output_type": "execute_result"
    }
   ],
   "source": [
    "tf.train.list_variables(chkp_path)"
   ]
  },
  {
   "cell_type": "markdown",
   "id": "competitive-massachusetts",
   "metadata": {},
   "source": [
    "# Overwrite Save Model"
   ]
  },
  {
   "cell_type": "code",
   "execution_count": 18,
   "id": "other-reservoir",
   "metadata": {},
   "outputs": [
    {
     "data": {
      "text/plain": [
       "<tf.Tensor: shape=(1, 2), dtype=float32, numpy=array([[0.        , 0.34588957]], dtype=float32)>"
      ]
     },
     "execution_count": 18,
     "metadata": {},
     "output_type": "execute_result"
    }
   ],
   "source": [
    "new_model = MySequentialModule()\n",
    "new_checkpoint = tf.train.Checkpoint(model=new_model)\n",
    "#new_checkpoint.restore(\"my_checkpoint\")\n",
    "new_checkpoint.restore(chkp_path)\n",
    "\n",
    "# Should be the same result as above\n",
    "new_model(tf.constant([[2.0, 2.0, 2.0]]))"
   ]
  },
  {
   "cell_type": "markdown",
   "id": "tender-respondent",
   "metadata": {},
   "source": [
    "## Saving functions"
   ]
  },
  {
   "cell_type": "code",
   "execution_count": 19,
   "id": "fifteen-jesus",
   "metadata": {},
   "outputs": [],
   "source": [
    "class MySequentialModule(tf.Module):\n",
    "  def __init__(self, name=None):\n",
    "    super().__init__(name=name)\n",
    "\n",
    "    self.dense_1 = Dense(in_features=3, out_features=3)\n",
    "    self.dense_2 = Dense(in_features=3, out_features=2)\n",
    "\n",
    "  @tf.function\n",
    "  def __call__(self, x):\n",
    "    x = self.dense_1(x)\n",
    "    return self.dense_2(x)\n",
    "\n",
    "# You have made a model with a graph!\n",
    "my_model = MySequentialModule(name=\"the_model\")"
   ]
  },
  {
   "cell_type": "code",
   "execution_count": 20,
   "id": "decent-chemical",
   "metadata": {},
   "outputs": [
    {
     "name": "stdout",
     "output_type": "stream",
     "text": [
      "tf.Tensor([[1.6241103 0.       ]], shape=(1, 2), dtype=float32)\n",
      "tf.Tensor(\n",
      "[[[1.6241103 0.       ]\n",
      "  [1.6241103 0.       ]]], shape=(1, 2, 2), dtype=float32)\n"
     ]
    }
   ],
   "source": [
    "print(my_model([[2.0, 2.0, 2.0]]))\n",
    "print(my_model([[[2.0, 2.0, 2.0], [2.0, 2.0, 2.0]]]))"
   ]
  },
  {
   "cell_type": "markdown",
   "id": "judicial-keeping",
   "metadata": {},
   "source": [
    "# You can visualize the graph by tracing it within a TensorBoard summary."
   ]
  },
  {
   "cell_type": "code",
   "execution_count": 21,
   "id": "sapphire-representative",
   "metadata": {},
   "outputs": [
    {
     "data": {
      "text/plain": [
       "'E:/logs/func/20210131-223144'"
      ]
     },
     "execution_count": 21,
     "metadata": {},
     "output_type": "execute_result"
    }
   ],
   "source": [
    "# Set up logging.\n",
    "stamp = dt.datetime.now().strftime(\"%Y%m%d-%H%M%S\")\n",
    "#logdir = \"logs/func/%s\" % stamp\n",
    "logdir = \"E:/logs/func/%s\" % stamp\n",
    "logdir"
   ]
  },
  {
   "cell_type": "code",
   "execution_count": 22,
   "id": "centered-disaster",
   "metadata": {},
   "outputs": [],
   "source": [
    "writer = tf.summary.create_file_writer(logdir)"
   ]
  },
  {
   "cell_type": "code",
   "execution_count": 23,
   "id": "passing-egypt",
   "metadata": {},
   "outputs": [
    {
     "name": "stdout",
     "output_type": "stream",
     "text": [
      "tf.Tensor([[1.0052372 0.       ]], shape=(1, 2), dtype=float32)\n"
     ]
    }
   ],
   "source": [
    "# Create a new model to get a fresh trace\n",
    "# Otherwise the summary will not see the graph.\n",
    "new_model = MySequentialModule()\n",
    "\n",
    "# Bracket the function call with\n",
    "# tf.summary.trace_on() and tf.summary.trace_export().\n",
    "tf.summary.trace_on(graph=True)\n",
    "tf.profiler.experimental.start(logdir)\n",
    "# Call only one tf.function when tracing.\n",
    "z = print(new_model(tf.constant([[2.0, 2.0, 2.0]])))\n",
    "with writer.as_default():\n",
    "  tf.summary.trace_export(\n",
    "      name=\"my_func_trace\",\n",
    "      step=0,\n",
    "      profiler_outdir=logdir)"
   ]
  },
  {
   "cell_type": "markdown",
   "id": "obvious-regulation",
   "metadata": {},
   "source": [
    "## Launch TensorBoard to view the resulting trace:"
   ]
  },
  {
   "cell_type": "code",
   "execution_count": 25,
   "id": "nonprofit-steering",
   "metadata": {},
   "outputs": [],
   "source": [
    "#%tensorboard --logdir E:/logs/func"
   ]
  },
  {
   "cell_type": "code",
   "execution_count": null,
   "id": "tutorial-equivalent",
   "metadata": {},
   "outputs": [],
   "source": [
    "#In cmd shell\n",
    "#tensorboard --logdir=\"E:\\logs\\func\""
   ]
  },
  {
   "cell_type": "code",
   "execution_count": null,
   "id": "demanding-morrison",
   "metadata": {},
   "outputs": [],
   "source": [
    "#%tensorboard --logdir E:/logs/func"
   ]
  },
  {
   "cell_type": "code",
   "execution_count": null,
   "id": "prime-botswana",
   "metadata": {},
   "outputs": [],
   "source": [
    "# Set tensor log dir(In cmd Shell)\n",
    "#tensorboard --logdir %cd%/log/"
   ]
  },
  {
   "cell_type": "markdown",
   "id": "beneficial-salon",
   "metadata": {},
   "source": [
    "[Tensorboard](http://localhost:6006/)"
   ]
  },
  {
   "cell_type": "markdown",
   "id": "mexican-candy",
   "metadata": {},
   "source": [
    "# TensorBoard"
   ]
  },
  {
   "cell_type": "code",
   "execution_count": 26,
   "id": "underlying-poultry",
   "metadata": {},
   "outputs": [
    {
     "name": "stdout",
     "output_type": "stream",
     "text": [
      "Known TensorBoard instances:\n",
      "  - port 6006: logdir E:/logs/func (started 8:03:31 ago; pid 13472)\n",
      "  - port 6006: logdir E:\\logs\\func (started 7:48:08 ago; pid 17908)\n",
      "  - port 6006: logdir logs/fit (started 4 days, 21:39:52 ago; pid 18388)\n",
      "  - port 6006: logdir E:/logs/func (started 0:04:55 ago; pid 2184)\n",
      "  - port 6006: logdir E:\\AI_ML_DL (started 9:33:18 ago; pid 22156)\n",
      "  - port 6006: logdir %cd%/log/ (started 8:46:56 ago; pid 22728)\n",
      "  - port 6006: logdir logs/func (started 7:20:19 ago; pid 6252)\n"
     ]
    }
   ],
   "source": [
    "\n",
    "from tensorboard import notebook\n",
    "notebook.list()"
   ]
  },
  {
   "cell_type": "code",
   "execution_count": null,
   "id": "seasonal-midnight",
   "metadata": {},
   "outputs": [],
   "source": [
    "notebook.display(port=6006, height=1000)"
   ]
  },
  {
   "cell_type": "code",
   "execution_count": null,
   "id": "fitting-pattern",
   "metadata": {},
   "outputs": [],
   "source": []
  }
 ],
 "metadata": {
  "kernelspec": {
   "display_name": "Python 3",
   "language": "python",
   "name": "python3"
  },
  "language_info": {
   "codemirror_mode": {
    "name": "ipython",
    "version": 3
   },
   "file_extension": ".py",
   "mimetype": "text/x-python",
   "name": "python",
   "nbconvert_exporter": "python",
   "pygments_lexer": "ipython3",
   "version": "3.7.8"
  }
 },
 "nbformat": 4,
 "nbformat_minor": 5
}
