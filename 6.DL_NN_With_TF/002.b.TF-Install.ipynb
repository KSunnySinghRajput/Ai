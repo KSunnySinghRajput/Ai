{
 "cells": [
  {
   "cell_type": "markdown",
   "id": "expressed-rotation",
   "metadata": {},
   "source": [
    "# Requierment \n",
    "\n",
    "**OS Platform and Distribution :**\n",
    "\n",
    "1. Ubuntu 16.04 or later\n",
    "2. Windows 7 or later (with C++ redistributable)\n",
    "3. macOS 10.12.6 (Sierra) or later (no GPU support)\n",
    "\n",
    "## 1.Windows(GPU)\n",
    "    \n",
    "**1. Python version:** 3.6\n",
    "\n",
    "**2. TensorFlow installed from (source or binary):** Tried with both pip and conda\n",
    "\n",
    "     TensorFlow version (use command below): 2.10\n",
    "         a.CPU(win) : \n",
    "         \n",
    "           Current stable release for CPU and GPU\n",
    "           pip install tensorflow==2.10\n",
    "            \n",
    "           Or try the preview build (unstable)\n",
    "           pip install tf-nightly==2.10\n",
    "\n",
    "        b.GPU : pip install tensorflow-gpu==2.10\n",
    "\n",
    "    \n",
    "**The following GPU-enabled devices are supported:**\n",
    "\n",
    "- GPU model and memory: NVIDIA® GPU card with CUDA® architectures 3.5 or higher , 2GB. See the list of CUDA®-enabled GPU cards.\n",
    "\n",
    "**3.For Gpu Requierment**\n",
    "\n",
    "1. Microsoft Visual Studio 2019,2017,2015\n",
    "2. CUDA version: CUDA 10.1 \n",
    "3. cuDNN SDK version: cuDNN 7.6.5\n",
    "4. TensorFlow supports CUDA® 10.1 (TensorFlow >= 2.1.0)\n",
    "\n",
    "**Note:** Open(Nividia Controle Panel)>open(Set physX Config)>Select(GPU)\n",
    "\n",
    "\n",
    "## 2.Ubuntu / macOS"
   ]
  },
  {
   "cell_type": "code",
   "execution_count": null,
   "id": "catholic-impression",
   "metadata": {},
   "outputs": [],
   "source": [
    "# Add NVIDIA package repositories\n",
    "# Add HTTPS support for apt-key\n",
    "sudo apt-get install gnupg-curl\n",
    "wget https://developer.download.nvidia.com/compute/cuda/repos/ubuntu1804/x86_64/cuda-repo-ubuntu1804_10.1.243-1_amd64.deb\n",
    "sudo apt-key adv --fetch-keys https://developer.download.nvidia.com/compute/cuda/repos/ubuntu1804/x86_64/7fa2af80.pub\n",
    "sudo dpkg -i cuda-repo-ubuntu1804_10.1.243-1_amd64.deb\n",
    "sudo apt-get update\n",
    "wget http://developer.download.nvidia.com/compute/machine-learning/repos/ubuntu1804/x86_64/nvidia-machine-learning-repo-ubuntu1804_1.0.0-1_amd64.deb\n",
    "sudo apt install ./nvidia-machine-learning-repo-ubuntu1804_1.0.0-1_amd64.deb\n",
    "sudo apt-get update"
   ]
  },
  {
   "cell_type": "markdown",
   "id": "nominated-pursuit",
   "metadata": {},
   "source": [
    "### Install NVIDIA driver"
   ]
  },
  {
   "cell_type": "code",
   "execution_count": null,
   "id": "plain-croatia",
   "metadata": {},
   "outputs": [],
   "source": [
    "# Issue with driver install requires creating /usr/lib/nvidia\n",
    "sudo mkdir /usr/lib/nvidia\n",
    "sudo apt-get install --no-install-recommends nvidia-418\n",
    "sudo apt-get install --no-install-recommends nvidia-driver-450\n",
    "\n",
    "# Reboot.Check that GPUs are visible using the command: nvidia-smi\n",
    "\n",
    "# Install development and runtime libraries (~4GB)"
   ]
  },
  {
   "cell_type": "markdown",
   "id": "special-people",
   "metadata": {},
   "source": [
    "sudo apt-get install --no-install-recommends \\\n",
    "    cuda-10-1 \\\n",
    "    libcudnn7=7.6.5.32-1+cuda10.1  \\\n",
    "    libcudnn7-dev=7.6.5.32-1+cuda10.1"
   ]
  },
  {
   "cell_type": "code",
   "execution_count": null,
   "id": "flying-cache",
   "metadata": {},
   "outputs": [],
   "source": [
    "# Install TensorRT. Requires that libcudnn7 is installed above.\n",
    "apt-get install -y --no-install-recommends \\ \n",
    "    libnvinfer6=6.0.1-1+cuda10.1 \\ libnvinfer-dev=6.0.1-1+cuda10.1 \\ libnvinfer-plugin6=6.0.1-1+cuda10.1"
   ]
  },
  {
   "cell_type": "markdown",
   "id": "grand-syria",
   "metadata": {},
   "source": [
    "\n",
    "\n"
   ]
  },
  {
   "cell_type": "code",
   "execution_count": null,
   "id": "suburban-wheat",
   "metadata": {},
   "outputs": [],
   "source": [
    "from __future__ import absolute_import, division, print_function, unicode_literals \n",
    "import tensorflow as tf \n",
    "tf.__version__"
   ]
  },
  {
   "cell_type": "code",
   "execution_count": null,
   "id": "revised-score",
   "metadata": {},
   "outputs": [],
   "source": [
    "print(\"Num GPUs Available: \", len(tf.config.experimental.list_physical_devices('GPU')))"
   ]
  },
  {
   "cell_type": "code",
   "execution_count": null,
   "id": "italian-hayes",
   "metadata": {},
   "outputs": [],
   "source": [
    "tf.config.list_physical_devices('GPU')"
   ]
  },
  {
   "cell_type": "code",
   "execution_count": null,
   "id": "stuffed-employment",
   "metadata": {},
   "outputs": [],
   "source": [
    "tf.config.list_physical_devices('CPU')"
   ]
  },
  {
   "cell_type": "code",
   "execution_count": null,
   "id": "southeast-turning",
   "metadata": {},
   "outputs": [],
   "source": [
    "tf.test.is_built_with_cuda()"
   ]
  },
  {
   "cell_type": "code",
   "execution_count": null,
   "id": "abstract-cambodia",
   "metadata": {},
   "outputs": [],
   "source": []
  }
 ],
 "metadata": {
  "kernelspec": {
   "display_name": "Python 3",
   "language": "python",
   "name": "python3"
  },
  "language_info": {
   "codemirror_mode": {
    "name": "ipython",
    "version": 3
   },
   "file_extension": ".py",
   "mimetype": "text/x-python",
   "name": "python",
   "nbconvert_exporter": "python",
   "pygments_lexer": "ipython3",
   "version": "3.7.8"
  }
 },
 "nbformat": 4,
 "nbformat_minor": 5
}
