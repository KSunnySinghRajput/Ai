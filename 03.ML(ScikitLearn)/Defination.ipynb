{
 "cells": [
  {
   "cell_type": "markdown",
   "id": "8aad6d51",
   "metadata": {},
   "source": [
    "## Developing scikit-learn estimators\n",
    "**Step 1:**  Model Selection"
   ]
  },
  {
   "cell_type": "markdown",
   "id": "12d4f118",
   "metadata": {},
   "source": [
    "        Model="
   ]
  },
  {
   "cell_type": "markdown",
   "id": "3c106907",
   "metadata": {},
   "source": [
    "**Step 2:**  Estimator\n",
    "\n",
    "- The base object, implements a fit method to learn from data, either:"
   ]
  },
  {
   "cell_type": "raw",
   "id": "dd5639c5",
   "metadata": {},
   "source": [
    "        estimator = estimator.fit(data, targets)"
   ]
  },
  {
   "cell_type": "markdown",
   "id": "79c53ae5",
   "metadata": {},
   "source": [
    "or"
   ]
  },
  {
   "cell_type": "raw",
   "id": "cee46543",
   "metadata": {},
   "source": [
    "        estimator = estimator.fit(data)"
   ]
  },
  {
   "cell_type": "markdown",
   "id": "102ee888",
   "metadata": {},
   "source": [
    "**Step 3:**  Predictor\n",
    "    \n",
    "- For supervised learning, or some unsupervised problems, implements:"
   ]
  },
  {
   "cell_type": "raw",
   "id": "2244ab0c",
   "metadata": {},
   "source": [
    "        prediction = predictor.predict(data)"
   ]
  },
  {
   "cell_type": "markdown",
   "id": "70ece3ba",
   "metadata": {},
   "source": [
    "- Classification algorithms usually also offer a way to quantify certainty of a prediction, either using decision_function or predict_proba:\n",
    "\n"
   ]
  },
  {
   "cell_type": "raw",
   "id": "c43ffe44",
   "metadata": {},
   "source": [
    "        probability = predictor.predict_proba(data)"
   ]
  },
  {
   "cell_type": "markdown",
   "id": "6af77a32",
   "metadata": {},
   "source": [
    "**Step 4:** Transformer\n",
    "- For filtering or modifying the data, in a supervised or unsupervised way, implements:"
   ]
  },
  {
   "cell_type": "raw",
   "id": "6b0e9363",
   "metadata": {},
   "source": [
    "        new_data = transformer.transform(data)"
   ]
  },
  {
   "cell_type": "markdown",
   "id": "976a46fb",
   "metadata": {},
   "source": [
    "- When fitting and transforming can be performed much more efficiently together than separately, implements:"
   ]
  },
  {
   "cell_type": "raw",
   "id": "ed222d42",
   "metadata": {},
   "source": [
    "        new_data = transformer.fit_transform(data)"
   ]
  },
  {
   "cell_type": "markdown",
   "id": "fd8a18f6",
   "metadata": {},
   "source": [
    "**Step 5:** Model Score"
   ]
  },
  {
   "cell_type": "raw",
   "id": "617aefff",
   "metadata": {},
   "source": [
    "        score = model.score(data)"
   ]
  },
  {
   "cell_type": "markdown",
   "id": "19f491ab",
   "metadata": {},
   "source": [
    "**Fitting**\n",
    "\n",
    "This is implemented in the fit() method.\n",
    "\n",
    "The fit() method takes the training data as arguments, which can be \n",
    "- one array in the case of unsupervised learning, \n",
    "- two arrays in the case of supervised learning."
   ]
  },
  {
   "cell_type": "markdown",
   "id": "08993091",
   "metadata": {},
   "source": [
    "**Transformer**\n",
    "\n",
    "- Transformer API to compute the mean and standard deviation on a training set so as to be able to later re-apply the same transformation on the testing set.\n",
    "\n",
    "- fit_transform() is used on the training data so that we can scale the training data and also learn the scaling parameters of that data. Here, the model built by us will learn the mean and variance of the features of the training set. These learned parameters are then used to scale our test data."
   ]
  },
  {
   "cell_type": "code",
   "execution_count": null,
   "id": "8f678f3f",
   "metadata": {},
   "outputs": [],
   "source": []
  }
 ],
 "metadata": {
  "kernelspec": {
   "display_name": "Python 3",
   "language": "python",
   "name": "python3"
  },
  "language_info": {
   "codemirror_mode": {
    "name": "ipython",
    "version": 3
   },
   "file_extension": ".py",
   "mimetype": "text/x-python",
   "name": "python",
   "nbconvert_exporter": "python",
   "pygments_lexer": "ipython3",
   "version": "3.8.5"
  }
 },
 "nbformat": 4,
 "nbformat_minor": 5
}
