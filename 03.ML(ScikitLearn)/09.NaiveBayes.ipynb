{
 "cells": [
  {
   "cell_type": "markdown",
   "metadata": {},
   "source": [
    "# <center><u>Naive Bayes Classifier</u> </center>\n",
    "It is a classification technique based on Bayes’ Theorem with an assumption of independence among predictors. In simple terms, a Naive Bayes classifier assumes that the presence of a particular feature in a class is unrelated to the presence of any other feature. Even if these features depend on each other or upon the existence of the other features, all of these properties independently contribute to the probability. Naive Bayes model is easy to build and particularly useful for very large data sets. Along with simplicity, Naive Bayes is known to outperform even highly sophisticated classification methods.\n",
    "\n",
    "- A classification technique based on Bayes’ Theorem\n",
    "- Bayes’ theorem is based on conditional probability. The conditionalprobability helps us calculating the probability that something willhappen, given that something else has already happened. \n",
    "\n",
    "- Naive Bayes classifier assumes that all the features are unrelated toeach other. Presence or absence of a feature does not influence thepresence or absence of any other feature. \n",
    "\n",
    "- or we can say, classifier assumes all the features are independent toeach other.\n",
    "![](img/img-NaiveBayes/NB01.PNG)\n",
    "- The class with the highest probability is considered as the most likely\n",
    "class.\n",
    "\n",
    "**Let’s understand whole cinema by using following concepts:**\n",
    "\n",
    "![](img/img-NaiveBayes/NB02.PNG)\n",
    "- Now we need to predict label (play) on features\n",
    "\n",
    "X=Rainy,Mild,High,True\n",
    "\n",
    "- First we need to get prob of Rainy for yes:\n",
    "\n",
    "P(yes|Rainy)=( P(Rainy|yes).P(yes) ) / P(Rainy)\n",
    "\n",
    "- Then prob of Mild:\n",
    "\n",
    "P(yes|Mild)=( P(Mild|yes).P(yes) ) / P(Mild)\n",
    "\n",
    "- Prob of High:\n",
    "P(yes|High)=( P(High|yes).P(yes) ) / P(High)\n",
    "\n",
    "- Prob of True:\n",
    "P(yes|True)=( P(True|yes).P(yes) ) / P(True)\n",
    "\n",
    "- Now Prob of All Input\n",
    "\n",
    "P(Yes|Rainy,Mild,High,True)=P(yes|Rainy).P(yes|Mild).P(yes|High).P(yes|True)\n",
    "\n",
    "Similarly,\n",
    "\n",
    "P(No|Rainy,Mild,High,True)=P(no|Rainy).P(no|Mild).P(no|High).P(no|True)\n",
    "\n",
    "- Higher Probability wins\n",
    "\n",
    "P(yes|Rainy)=( (2/5) . (9/14) ) /(5/14)=.25714/.35714=.7199\n",
    "P(yes|Mild)=( (4/6) . (9/14) ) /(6/14)=.428571386/.428571429=.99999\n",
    "P(yes|High)=( (3/7) . (9/14) ) /(7/14)=.251/.5=.502\n",
    "P(yes|True)= ( (3/6) . (9/14) ) /(6/14)=.3214/.4285=.75\n",
    "P(yes)=.7199x.9999x.502x.75=.27101\n",
    "P(no|Rainy)=( (3/5) . (5/14) ) /(5/14)=.2142/.35714=.599\n",
    "P(no|Mild)=( (2/6) . (5/14) ) /(6/14)=.23807142/.428571429=.5555\n",
    "P(no|High)=( (4/7) . (5/14) ) /(7/14)=.4081\n",
    "P(no|True)= ( (3/6) . (5/14) ) /(6/14)=.3214/.4285=.75\n",
    "P(no)=.599x.5555x.4801x.75=.119829\n",
    "\n",
    "**Hence Given Sample belongs to YES class**\n",
    "\n",
    "- TfidfVectorizer\n",
    "- CountVectorizer\n",
    "\n",
    "## <u>Gaussian Naive Bay</u>"
   ]
  },
  {
   "cell_type": "code",
   "execution_count": 17,
   "metadata": {},
   "outputs": [
    {
     "name": "stdout",
     "output_type": "stream",
     "text": [
      "['I food is # good! _@ 2019', '& Food # is * tasty', 'quality is Good', 'service is Poor poor means very poor', 'it is too costly', 'cheap quality']\n"
     ]
    }
   ],
   "source": [
    "import os\n",
    "Text_dir=os.listdir('DataSet/Text_Classification')\n",
    "\n",
    "corpus=[]\n",
    "for a in Text_dir:\n",
    "    with open('DataSet/Text_Classification/'+a, 'r') as file:\n",
    "        filetext = file.read()\n",
    "        corpus.append(str(filetext))\n",
    "print(corpus)\n",
    "labels=['good','good','good','not good','not good','not good']"
   ]
  },
  {
   "cell_type": "code",
   "execution_count": 2,
   "metadata": {},
   "outputs": [],
   "source": [
    "doc1='I food is # good! _@ 2019'\n",
    "doc2='& Food # is * tasty'\n",
    "doc3='quality is Good'\n",
    "doc4='service is Poor poor means very poor'\n",
    "doc5='it is too costly'\n",
    "doc6='cheap quality'\n",
    "\n",
    "corpus=[doc1  ,doc2  ,doc3  ,doc4      ,doc5      ,doc6]\n",
    "labels=['good','good','good','not good','not good','not good']"
   ]
  },
  {
   "cell_type": "code",
   "execution_count": 3,
   "metadata": {},
   "outputs": [],
   "source": [
    "from sklearn.feature_extraction.text import TfidfVectorizer\n",
    "tv=TfidfVectorizer(stop_words='english')"
   ]
  },
  {
   "cell_type": "code",
   "execution_count": 4,
   "metadata": {},
   "outputs": [],
   "source": [
    "X=tv.fit_transform(corpus)"
   ]
  },
  {
   "cell_type": "code",
   "execution_count": 5,
   "metadata": {},
   "outputs": [],
   "source": [
    "X=tv.transform(corpus).todense()"
   ]
  },
  {
   "cell_type": "code",
   "execution_count": 6,
   "metadata": {},
   "outputs": [
    {
     "data": {
      "text/plain": [
       "GaussianNB()"
      ]
     },
     "execution_count": 6,
     "metadata": {},
     "output_type": "execute_result"
    }
   ],
   "source": [
    "from sklearn.naive_bayes import GaussianNB\n",
    "nb=GaussianNB()\n",
    "nb.fit(X,labels)"
   ]
  },
  {
   "cell_type": "code",
   "execution_count": 7,
   "metadata": {},
   "outputs": [
    {
     "data": {
      "text/plain": [
       "['2019',\n",
       " 'cheap',\n",
       " 'costly',\n",
       " 'food',\n",
       " 'good',\n",
       " 'means',\n",
       " 'poor',\n",
       " 'quality',\n",
       " 'service',\n",
       " 'tasty']"
      ]
     },
     "execution_count": 7,
     "metadata": {},
     "output_type": "execute_result"
    }
   ],
   "source": [
    "tv.get_feature_names()"
   ]
  },
  {
   "cell_type": "code",
   "execution_count": 22,
   "metadata": {},
   "outputs": [],
   "source": [
    "new_msg=['food is good and tasty','quality is cheap']"
   ]
  },
  {
   "cell_type": "code",
   "execution_count": 23,
   "metadata": {},
   "outputs": [
    {
     "data": {
      "text/plain": [
       "matrix([[0.        , 0.        , 0.        , 0.5355058 , 0.5355058 ,\n",
       "         0.        , 0.        , 0.        , 0.        , 0.65304446],\n",
       "        [0.        , 0.77326237, 0.        , 0.        , 0.        ,\n",
       "         0.        , 0.        , 0.6340862 , 0.        , 0.        ]])"
      ]
     },
     "execution_count": 23,
     "metadata": {},
     "output_type": "execute_result"
    }
   ],
   "source": [
    "test_msg=tv.transform(new_msg).todense()\n",
    "test_msg"
   ]
  },
  {
   "cell_type": "code",
   "execution_count": 24,
   "metadata": {},
   "outputs": [
    {
     "data": {
      "text/plain": [
       "array(['good', 'not good'], dtype='<U8')"
      ]
     },
     "execution_count": 24,
     "metadata": {},
     "output_type": "execute_result"
    }
   ],
   "source": [
    "nb.predict(test_msg)"
   ]
  },
  {
   "cell_type": "markdown",
   "metadata": {},
   "source": [
    "# Multinomial Naive Bay"
   ]
  },
  {
   "cell_type": "code",
   "execution_count": 25,
   "metadata": {},
   "outputs": [],
   "source": [
    "doc1='I food is # good! _@ 2019'\n",
    "doc2='& Food # is * tasty'\n",
    "doc3='quality is Good'\n",
    "doc4='service is Poor poor means very poor'\n",
    "doc5='it is too costly'\n",
    "doc6='cheap quality'\n",
    "\n",
    "corpus=[doc1,doc2,doc3,doc4,doc5,doc6]\n",
    "labels=['good','good','good','not good','not good','not good']"
   ]
  },
  {
   "cell_type": "code",
   "execution_count": 26,
   "metadata": {},
   "outputs": [],
   "source": [
    "from sklearn.feature_extraction.text import CountVectorizer\n",
    "cv=CountVectorizer(stop_words='english')\n",
    "corpus=[doc1,doc2,doc3,doc4,doc5,doc6]"
   ]
  },
  {
   "cell_type": "code",
   "execution_count": 27,
   "metadata": {},
   "outputs": [],
   "source": [
    "X=cv.fit_transform(corpus)"
   ]
  },
  {
   "cell_type": "code",
   "execution_count": 28,
   "metadata": {},
   "outputs": [],
   "source": [
    "X=cv.transform(corpus).todense()"
   ]
  },
  {
   "cell_type": "code",
   "execution_count": 29,
   "metadata": {},
   "outputs": [
    {
     "data": {
      "text/plain": [
       "MultinomialNB(alpha=1.0, class_prior=None, fit_prior=True)"
      ]
     },
     "execution_count": 29,
     "metadata": {},
     "output_type": "execute_result"
    }
   ],
   "source": [
    "from sklearn.naive_bayes import MultinomialNB\n",
    "nb=MultinomialNB()\n",
    "nb.fit(X,labels)"
   ]
  },
  {
   "cell_type": "code",
   "execution_count": 30,
   "metadata": {},
   "outputs": [],
   "source": [
    "new_msg=['food is good and tasty','quality is cheap']"
   ]
  },
  {
   "cell_type": "code",
   "execution_count": 31,
   "metadata": {},
   "outputs": [],
   "source": [
    "test_msg=cv.transform(new_msg).todense()"
   ]
  },
  {
   "cell_type": "code",
   "execution_count": 32,
   "metadata": {},
   "outputs": [
    {
     "data": {
      "text/plain": [
       "matrix([[0, 0, 0, 1, 1, 0, 0, 0, 0, 1],\n",
       "        [0, 1, 0, 0, 0, 0, 0, 1, 0, 0]], dtype=int64)"
      ]
     },
     "execution_count": 32,
     "metadata": {},
     "output_type": "execute_result"
    }
   ],
   "source": [
    "test_msg"
   ]
  },
  {
   "cell_type": "code",
   "execution_count": 33,
   "metadata": {},
   "outputs": [
    {
     "data": {
      "text/plain": [
       "array(['good', 'not good'], dtype='<U8')"
      ]
     },
     "execution_count": 33,
     "metadata": {},
     "output_type": "execute_result"
    }
   ],
   "source": [
    "nb.predict(test_msg)"
   ]
  },
  {
   "cell_type": "code",
   "execution_count": null,
   "metadata": {},
   "outputs": [],
   "source": []
  },
  {
   "cell_type": "code",
   "execution_count": null,
   "metadata": {},
   "outputs": [],
   "source": []
  }
 ],
 "metadata": {
  "kernelspec": {
   "display_name": "Python 3",
   "language": "python",
   "name": "python3"
  },
  "language_info": {
   "codemirror_mode": {
    "name": "ipython",
    "version": 3
   },
   "file_extension": ".py",
   "mimetype": "text/x-python",
   "name": "python",
   "nbconvert_exporter": "python",
   "pygments_lexer": "ipython3",
   "version": "3.8.5"
  }
 },
 "nbformat": 4,
 "nbformat_minor": 2
}
