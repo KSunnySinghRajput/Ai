{
 "cells": [
  {
   "cell_type": "markdown",
   "id": "union-delight",
   "metadata": {},
   "source": [
    "[machine learning examples](#machine-learning-examples)"
   ]
  },
  {
   "cell_type": "markdown",
   "id": "electric-growth",
   "metadata": {},
   "source": [
    "## 2. Headings\n",
    "---\n",
    "Headings are rendered as titles.\n",
    "\n",
    "```markdown\n",
    "# This is the highest level of the text.\n",
    "## This is the second highest level of the text.\n",
    "### Each hash mark creates a new level of text for headers.\n",
    "#### These are useful for subsections for large chunks of information.\n",
    "##### There are six different headers you can use for text.\n",
    "###### This is sixth section!\n",
    "# This is an H1 #\n",
    "## This is an H2 ##\n",
    "### This is an H3 ######\n",
    "Heading level 1\n",
    "===============\n",
    "Heading level 2\n",
    "---------------\n",
    "\n",
    "```\n",
    "\n",
    "\n",
    "# This is the highest level of the text.\n",
    "## This is the second highest level of the text.\n",
    "### Each hash mark creates a new level of text for headers.\n",
    "#### These are useful for subsections for large chunks of information.\n",
    "##### There are six different headers you can use for text.\n",
    "###### This is sixth section!\n"
   ]
  },
  {
   "cell_type": "markdown",
   "id": "resident-reviewer",
   "metadata": {},
   "source": [
    "## 1. Section Move\n",
    "```markdown\n",
    "<a name=\"machine-learning-examples\"></a>\n",
    "\n",
    "[machine learning examples](#machine-learning-examples)\n",
    "\n",
    "```\n",
    "<a id=\"machine-learning-examples\"></a>\n",
    "\n",
    "[machine learning examples](#machine-learning-examples)"
   ]
  },
  {
   "cell_type": "markdown",
   "id": "anticipated-constitution",
   "metadata": {},
   "source": [
    "## 6. Blockquotes\n",
    "---\n",
    "```markdown \n",
    "> Dorothy followed her through many of the beautiful rooms in her castle.\n",
    ">> There's gonna come a point where you'll forget about what happened and you're gonna wanna come back at me.\n",
    ">>> Don't get hit\n",
    ">>>> SERIOUSLY, don't get hit.\n",
    "```\n",
    "\n",
    "> Dorothy followed her through many of the beautiful rooms in her castle.\n",
    ">> There's gonna come a point where you'll forget about what happened and you're gonna wanna come back at me.\n",
    ">>> Don't get hit\n",
    ">>>> SERIOUSLY, don't get hit."
   ]
  },
  {
   "cell_type": "markdown",
   "id": "alive-feature",
   "metadata": {},
   "source": [
    "## 7. List\n",
    "---\n",
    "```markdown \n",
    "* Picture hangers\n",
    "\t+ paper cutters\n",
    "        - paper cutters\n",
    "            1. waffle irons\n",
    "```\n",
    "* Picture hangers\n",
    "\t+ paper cutters\n",
    "        - paper cutters\n",
    "            1. waffle irons"
   ]
  },
  {
   "cell_type": "markdown",
   "id": "adjusted-arnold",
   "metadata": {},
   "source": [
    "## 8. Code\n",
    "---\n",
    "\n",
    "\n",
    "```markdown \n",
    "\n",
    "Use the `printf()` function.\n",
    "\n",
    "``There is a literal backtick (`) here.``\n",
    "\n",
    "```\n",
    "\n",
    "Use the `printf()` function.\n",
    "\n",
    "``There is a literal backtick (`) here.``\n",
    "\n",
    "\n",
    "\n",
    "`nano`\n",
    "\n",
    "``Use `code` in your Markdown file.``\n",
    "\n",
    "```\n",
    "6XQS8-KLKEH-FTB\n",
    "STCBW-2V6V6-9D4\n",
    "```\n",
    "\n",
    "\n",
    "\n",
    "\n",
    "```python\n",
    "print(\"a\")\n",
    "```\n",
    "\n",
    "```code\n",
    "<html>\n",
    "    <head><head>\n",
    "    <body></body>   \n",
    "</html>\n",
    "```\n",
    "\n",
    "```markdown \n",
    "Code\n",
    "```\n"
   ]
  },
  {
   "cell_type": "markdown",
   "id": "boolean-potato",
   "metadata": {},
   "source": [
    "## 9. Horizontal Row\n",
    "\n",
    "```markdown \n",
    "* * *\n",
    "***\n",
    "*****\n",
    "- - -\n",
    "___\n",
    "---------------------------------------\n",
    "```\n",
    "* * *\n",
    "***\n",
    "*****\n",
    "- - -\n",
    "___\n",
    "---------------------------------------"
   ]
  },
  {
   "cell_type": "markdown",
   "id": "accessible-exhaust",
   "metadata": {},
   "source": [
    "## 1. Reference / SPAN ELEMENTS / IMAGES /AUTOMATIC LINKS\n",
    "\n",
    "```markdown\n",
    "[About](/about/)\n",
    "[MSN](http://search.msn.com/ \"MSN Search\").\n",
    "[A link](https://www.google.com)\n",
    "\n",
    "![An image](https://www.google.com/images/rss.png)\n",
    "\n",
    "<https://www.markdownguide.org>\n",
    "\n",
    "```\n",
    "[About](/about/)\n",
    "\n",
    "[MSN](http://search.msn.com/ \"MSN Search\").\n",
    "\n",
    "[A link](https://www.google.com)\n",
    "\n",
    "![An image](https://www.google.com/images/rss.png)\n",
    "\n",
    "<https://www.markdownguide.org>"
   ]
  },
  {
   "cell_type": "markdown",
   "id": "monetary-hospital",
   "metadata": {},
   "source": [
    "## EMPHASIS\n",
    "\n",
    "\n",
    "---\n",
    "\n",
    "Markdown | Preview\n",
    ":--- | :---\n",
    "`**bold text**` | **bold text**\n",
    "`*italicized text*` or `_italicized text_` | *italicized text*\n",
    "`` `Monospace` `` | `Monospace`\n",
    "`~~strikethrough~~` | ~~strikethrough~~\n",
    "`` ~~**What if something is really important gets crossed out?**~~ ``|~~**What if something is really important gets crossed out?**~~\n",
    "`` _**It's pretty easy to ~~apply~~ multiple styles.**_ ``|_**It's pretty easy to ~~apply~~ multiple styles.**_\n",
    "` *single asterisks* `|*single asterisks*\n",
    "` _single underscores_ `|_single underscores_\n",
    "` **double asterisks** `|**double asterisks**\n",
    "` __double underscores__ `|__double underscores__"
   ]
  },
  {
   "cell_type": "markdown",
   "id": "distributed-schedule",
   "metadata": {},
   "source": [
    "## 4. Paragraphs\n",
    "----\n",
    "\n",
    "```markdown \n",
    "Markdown\tHTML\tRendered Output\n",
    "I really like using Markdown.\n",
    "\n",
    "I think I'll use it to format all of my documents from now on.\n",
    "```\n",
    "\n",
    "Markdown\tHTML\tRendered Output\n",
    "I really like using Markdown.\n",
    "\n",
    "I think I'll use it to format all of my documents from now on."
   ]
  },
  {
   "cell_type": "markdown",
   "id": "musical-trunk",
   "metadata": {},
   "source": [
    "## 5. Line Brack\n",
    "---\n",
    "```markdown \n",
    "    This is the first line.  \n",
    "    And this is the second line.\n",
    "```\n",
    "\n",
    "This is the first line.  \n",
    "And this is the second line."
   ]
  },
  {
   "cell_type": "markdown",
   "id": "choice-learning",
   "metadata": {},
   "source": [
    "## BACKSLASH ESCAPES\n",
    "\n",
    "\\*literal asterisks\\*\n",
    "\n",
    "\\   backslash\n",
    "\n",
    "`   backtick\n",
    "\n",
    "*   asterisk\n",
    "\n",
    "_   underscore\n",
    "\n",
    "{}  curly braces\n",
    "\n",
    "[]  square brackets\n",
    "\n",
    "()  parentheses\n",
    "\n",
    "#   hash mark\n",
    "\n",
    "+   plus sign\n",
    "\n",
    "-   minus sign (hyphen)\n",
    "\n",
    ".   dot\n",
    "\n",
    "!   exclamation mark"
   ]
  },
  {
   "cell_type": "markdown",
   "id": "brilliant-fabric",
   "metadata": {},
   "source": [
    "## 9. Table\n",
    "\n",
    "```markdown \n",
    "| Column 1 Header | Column 2 Header | Column 3 Header |\n",
    "| --------------- | --------------- | --------------- |\n",
    "| Row 1 Column 1 | Row 1 Column 2 | Row 1 Column 3 |\n",
    "| Row 2 Column 1 | Row 2 Column 2 | Row 2 Column 3 |\n",
    "| Row 3 Column 1 | Row 3 Column 2 | Row 3 Column 3 |\n",
    "```\n",
    "\n",
    "\n",
    "| Column 1 Header | Column 2 Header | Column 3 Header |\n",
    "| --------------- | --------------- | --------------- |\n",
    "| Row 1 Column 1 | Row 1 Column 2 | Row 1 Column 3 |\n",
    "| Row 2 Column 1 | Row 2 Column 2 | Row 2 Column 3 |\n",
    "| Row 3 Column 1 | Row 3 Column 2 | Row 3 Column 3 |\n",
    "\n",
    "---\n",
    "```markdown \n",
    "| Header 1  | Another header here | This is a long header |This is a long header |\n",
    "| --- | :-- | --: | :-: |\n",
    "| Some data | Some more data      | data                  |  data                  | \n",
    "| data      | Some long data here | more data             |  more data             | \n",
    "```\n",
    "\n",
    "\n",
    "| Header 1  | Another header here | This is a long header |This is a long header |\n",
    "| --- | :-- | --: | :-: |\n",
    "| Some data | Some more data      | data                  |  data                  | \n",
    "| data      | Some long data here | more data             |  more data             | \n"
   ]
  },
  {
   "cell_type": "markdown",
   "id": "verbal-palestine",
   "metadata": {},
   "source": [
    "# [LaTeX](https://en.wikibooks.org/wiki/LaTeX/Mathematics)\n",
    "[LaTeX Math](https://artofproblemsolving.com/wiki/index.php/LaTeX:LaTeX_on_AoPS#Superscripts_.26_Subscripts)\n",
    "\n",
    "- You can also add math to text cells using [LaTeX](http://www.latex-project.org/)\n",
    "to be rendered by [MathJax](https://www.mathjax.org). Just place the statement\n",
    "within a pair of **\\$** signs. For example `$\\sqrt{3x-1}+(1+x)^2$` becomes\n",
    "$\\sqrt{3x-1}+(1+x)^2.$\n"
   ]
  },
  {
   "cell_type": "raw",
   "id": "thorough-batch",
   "metadata": {},
   "source": [
    "$ mathematical symbols $"
   ]
  },
  {
   "cell_type": "markdown",
   "id": "equipped-hydrogen",
   "metadata": {},
   "source": [
    "\\begin{align*}\n",
    "ax + by &= 1 \\\\\n",
    "cx + dy &= 2 \\\\\n",
    "ex + fy &= 3.\n",
    "\\end{align*}"
   ]
  },
  {
   "cell_type": "markdown",
   "id": "accepting-macintosh",
   "metadata": {},
   "source": [
    "## 10. Equations:\n",
    "\n",
    "```markdown\n",
    "$y=x^2$\n",
    "\n",
    "$e^{i\\pi} + 1 = 0$\n",
    "\n",
    "$e^x=\\sum_{i=0}^\\infty \\frac{1}{i!}x^i$\n",
    "\n",
    "$\\frac{n!}{k!(n-k)!} = {n \\choose k}$\n",
    "\n",
    "$A_{m,n} =\n",
    " \\begin{pmatrix}\n",
    "  a_{1,1} & a_{1,2} & \\cdots & a_{1,n} \\\\\n",
    "  a_{2,1} & a_{2,2} & \\cdots & a_{2,n} \\\\\n",
    "  \\vdots  & \\vdots  & \\ddots & \\vdots  \\\\\n",
    "  a_{m,1} & a_{m,2} & \\cdots & a_{m,n}\n",
    " \\end{pmatrix}$\n",
    "```\n",
    "\n",
    "$y=x^2$\n",
    "\n",
    "$e^{i\\pi} + 1 = 0$\n",
    "\n",
    "$e^x=\\sum_{i=0}^\\infty \\frac{1}{i!}x^i$\n",
    "\n",
    "$\\frac{n!}{k!(n-k)!} = {n \\choose k}$\n",
    "\n",
    "$A_{m,n} =\n",
    " \\begin{pmatrix}\n",
    "  a_{1,1} & a_{1,2} & \\cdots & a_{1,n} \\\\\n",
    "  a_{2,1} & a_{2,2} & \\cdots & a_{2,n} \\\\\n",
    "  \\vdots  & \\vdots  & \\ddots & \\vdots  \\\\\n",
    "  a_{m,1} & a_{m,2} & \\cdots & a_{m,n}\n",
    " \\end{pmatrix}$\n",
    "\n",
    "\n",
    " ---\n",
    "\n"
   ]
  },
  {
   "cell_type": "markdown",
   "id": "cleared-boundary",
   "metadata": {},
   "source": [
    "# Maths symbols\n",
    "\n",
    "## Greek letters\n",
    "\n",
    "\\alpha \\beta \\gamma \\rho \\sigma \\delta \\epsilon\n",
    "\n",
    "$$\\alpha \\beta \\gamma \\rho \\sigma \\delta \\epsilon$$\n",
    "\n",
    "## Binary operators\n",
    "\n",
    "$$\\times \\otimes \\oplus \\cup \\cap$$\n",
    "\n",
    "$$\\times \\otimes \\oplus \\cup \\cap$$\n",
    "\n",
    "## Relation operators\n",
    "\n",
    "< > $$\\subset \\supset \\subseteq \\supseteq$$\n",
    "\n",
    "## Others\n",
    "\n",
    "$$\\int \\oint \\sum \\prod$$\n",
    "\n",
    "# Integrals\n",
    "\n",
    "\\int_{lower}^{upper} \n",
    "\n",
    "1.Integral $\\int_{a}^{b} x^2 dx$ inside text\n",
    "\n",
    "Integral $\\int_{a}^{b} x^2 dx$ inside text\n",
    "\n",
    "$$\\int_{a}^{b} x^2 dx$$\n",
    "\n",
    "$$\\int_{a}^{b} x^2 dx$$\n",
    "\n",
    "# Multiple integrals\n",
    "\n",
    "$\\iint_V \\mu(u,v) \\,du\\,dv$$\n",
    "\n",
    "$\\iint_V \\mu(u,v) \\,du\\,dv$$\n",
    "\n",
    "$$\\iiint_V \\mu(u,v,w) \\,du\\,dv\\,dw$$\n",
    "\n",
    "$$\\iiint_V \\mu(u,v,w) \\,du\\,dv\\,dw$$\n",
    "\n",
    "$$\\iiiint_V \\mu(t,u,v,w) \\,dt\\,du\\,dv\\,dw$$\n",
    "\n",
    "$$\\iiiint_V \\mu(t,u,v,w) \\,dt\\,du\\,dv\\,dw$$\n",
    "\n",
    "$$\\idotsint_V \\mu(u_1,\\dots,u_k) \\,du_1 \\dots du_k$$\n",
    "\n",
    "$$\\idotsint_V \\mu(u_1,\\dots,u_k) \\,du_1 \\dots du_k$$\n",
    "\n",
    "$$\\oint_V f(s) \\,ds$$\n",
    "\n",
    "$$\\oint_V f(s) \\,ds$$\n",
    "\n",
    "$$\\oint_V f(s,t) \\,ds\\,dt$$\n",
    "\n",
    "$$\\oiint_V f(s,t) \\,ds\\,dt$$\n",
    "\n",
    "# Sums\n",
    "\n",
    "\\sum_{lower}^{upper} \n",
    "\n",
    "Sum $\\sum_{n=1}^{\\infty} 2^{-n} = 1$ inside text\n",
    "\n",
    "Sum $\\sum_{n=1}^{\\infty} 2^{-n} = 1$ inside text\n",
    "\n",
    "$$\\sum_{n=1}^{\\infty} 2^{-n} = 1$$\n",
    "\n",
    "$$\\sum_{n=1}^{\\infty} 2^{-n} = 1$$\n",
    "\n",
    "# Products\n",
    "\n",
    "\\prod_{lower}^{upper} \n",
    "\n",
    "Product $\\prod_{i=a}^{b} f(i)$ inside text\n",
    "\n",
    "Product $\\prod_{i=a}^{b} f(i)$ inside text\t\n",
    "\n",
    "$$\\prod_{i=a}^{b} f(i)$$\n",
    "\n",
    "$$\\prod_{i=a}^{b} f(i)$$\n",
    "\n",
    "# Limits\n",
    "\n",
    "\\lim_{lower}\n",
    "\n",
    "Limit $\\lim_{x\\to\\infty} f(x)$ inside text\n",
    "\n",
    "Limit $\\lim_{x\\to\\infty} f(x)$ inside text\n",
    "\n",
    "$$\\lim_{x\\to\\infty} f(x)$$\n",
    "\n",
    "$$\\lim_{x\\to\\infty} f(x)$$\n",
    "\n",
    "# Integer and sum limits improvement\n",
    "\n",
    "Integral $\\int_{a}^{b} x^2 dx$ inside text\n",
    "\n",
    "Improved integral $\\int\\limits_{a}^{b} x^2 dx$ inside text\n",
    "\n",
    "Sum $\\sum_{n=1}^{\\infty} 2^{-n} = 1$ inside text\n",
    "\n",
    "Improved sum $\\sum\\limits_{n=1}^{\\infty} 2^{-n} = 1$ inside text\n",
    "\n",
    "$\\int\\frac{1}{2}dx - \\mathlarger{ \\int\\frac{1}{2}dx}$"
   ]
  },
  {
   "cell_type": "markdown",
   "id": "heavy-carnival",
   "metadata": {},
   "source": [
    "# Basic Feature"
   ]
  },
  {
   "cell_type": "code",
   "execution_count": 3,
   "id": "checked-destination",
   "metadata": {},
   "outputs": [
    {
     "name": "stdout",
     "output_type": "stream",
     "text": [
      "Sleeping\n",
      "Done Sleeping\n"
     ]
    }
   ],
   "source": [
    "import time\n",
    "print(\"Sleeping\")\n",
    "time.sleep(30) # sleep for a while; interrupt me!\n",
    "print(\"Done Sleeping\")"
   ]
  },
  {
   "cell_type": "markdown",
   "id": "arranged-custody",
   "metadata": {},
   "source": [
    "# System aliases"
   ]
  },
  {
   "cell_type": "markdown",
   "id": "green-consequence",
   "metadata": {},
   "source": [
    "**Windows Cmd**"
   ]
  },
  {
   "cell_type": "code",
   "execution_count": 11,
   "id": "neutral-transsexual",
   "metadata": {},
   "outputs": [
    {
     "name": "stdout",
     "output_type": "stream",
     "text": [
      " Volume in drive E is WorkSpace\n",
      " Volume Serial Number is ACF8-467B\n",
      "\n",
      " Directory of E:\\ScriptShef\\6.Python-AI_ML_DL\\1.BasicTopic\\Jupyter\n",
      "\n",
      "30-03-2021  14:12    <DIR>          .\n",
      "30-03-2021  14:12    <DIR>          ..\n",
      "30-03-2021  14:11    <DIR>          .ipynb_checkpoints\n",
      "13-03-2021  14:42             3,084 IPython.ipynb\n",
      "23-01-2021  16:04             4,521 IPython-1.ipynb\n",
      "29-01-2021  12:18            27,981 Jupyter_Widgets.ipynb\n",
      "30-03-2021  14:12            17,938 MarkdownAndLATEX.ipynb\n",
      "31-01-2021  13:37             5,575 Unix Cmd In Jupyter.ipynb\n",
      "28-01-2021  19:46            15,528 Widgets_Interact.ipynb\n",
      "               6 File(s)         74,627 bytes\n",
      "               3 Dir(s)  246,382,534,656 bytes free\n"
     ]
    }
   ],
   "source": [
    "ls"
   ]
  },
  {
   "cell_type": "code",
   "execution_count": null,
   "id": "sticky-portuguese",
   "metadata": {},
   "outputs": [],
   "source": [
    "mkdir Unix_dir"
   ]
  },
  {
   "cell_type": "code",
   "execution_count": null,
   "id": "danish-opportunity",
   "metadata": {},
   "outputs": [],
   "source": [
    "cd Unix_dir"
   ]
  },
  {
   "cell_type": "code",
   "execution_count": null,
   "id": "extra-england",
   "metadata": {},
   "outputs": [],
   "source": [
    "cd"
   ]
  },
  {
   "cell_type": "code",
   "execution_count": null,
   "id": "exotic-fabric",
   "metadata": {},
   "outputs": [],
   "source": [
    "cd E:\\AI_ML_DL\\0.BasicTopic\\Unix_dir"
   ]
  },
  {
   "cell_type": "code",
   "execution_count": null,
   "id": "bigger-fortune",
   "metadata": {},
   "outputs": [],
   "source": [
    "pwd"
   ]
  },
  {
   "cell_type": "code",
   "execution_count": null,
   "id": "lucky-bidder",
   "metadata": {},
   "outputs": [],
   "source": [
    "echo hello"
   ]
  },
  {
   "cell_type": "code",
   "execution_count": null,
   "id": "handmade-yahoo",
   "metadata": {},
   "outputs": [],
   "source": [
    "echo hello>>hello.txt"
   ]
  },
  {
   "cell_type": "code",
   "execution_count": 13,
   "id": "fossil-pattern",
   "metadata": {},
   "outputs": [
    {
     "name": "stdout",
     "output_type": "stream",
     "text": [
      "Requirement already satisfied: pymysql in d:\\pythonenv\\base3.7\\lib\\site-packages (1.0.2)\n",
      "Note: you may need to restart the kernel to use updated packages.\n"
     ]
    }
   ],
   "source": [
    "pip install pymysql"
   ]
  },
  {
   "cell_type": "code",
   "execution_count": null,
   "id": "friendly-central",
   "metadata": {},
   "outputs": [],
   "source": []
  },
  {
   "cell_type": "markdown",
   "id": "velvet-rocket",
   "metadata": {},
   "source": [
    "**Linux cmd**"
   ]
  },
  {
   "cell_type": "code",
   "execution_count": 4,
   "id": "moral-zimbabwe",
   "metadata": {},
   "outputs": [
    {
     "name": "stderr",
     "output_type": "stream",
     "text": [
      "'ls' is not recognized as an internal or external command,\n",
      "operable program or batch file.\n"
     ]
    }
   ],
   "source": [
    "!ls /bin"
   ]
  },
  {
   "cell_type": "code",
   "execution_count": 5,
   "id": "hawaiian-croatia",
   "metadata": {},
   "outputs": [
    {
     "data": {
      "text/plain": [
       "[\"-e '$message\\\\n$message'\"]"
      ]
     },
     "execution_count": 5,
     "metadata": {},
     "output_type": "execute_result"
    }
   ],
   "source": [
    "message = 'Colaboratory is great!'\n",
    "foo = !echo -e '$message\\n$message'\n",
    "foo"
   ]
  },
  {
   "cell_type": "markdown",
   "id": "electronic-product",
   "metadata": {},
   "source": [
    "# Magics"
   ]
  },
  {
   "cell_type": "code",
   "execution_count": 14,
   "id": "embedded-kingston",
   "metadata": {},
   "outputs": [
    {
     "data": {
      "text/html": [
       "<marquee style='width: 30%; color: blue;'><b>Whee!</b></marquee>\n"
      ],
      "text/plain": [
       "<IPython.core.display.HTML object>"
      ]
     },
     "metadata": {},
     "output_type": "display_data"
    }
   ],
   "source": [
    "%%html\n",
    "<marquee style='width: 30%; color: blue;'><b>Whee!</b></marquee>"
   ]
  },
  {
   "cell_type": "code",
   "execution_count": 7,
   "id": "lonely-equilibrium",
   "metadata": {},
   "outputs": [
    {
     "data": {
      "text/html": [
       "<svg xmlns=\"http://www.w3.org/2000/svg\" viewBox=\"0 0 450 400\" width=\"200\" height=\"200\">\n",
       "  <rect x=\"80\" y=\"60\" width=\"250\" height=\"250\" rx=\"20\" style=\"fill:red; stroke:black; fill-opacity:0.7\" />\n",
       "  <rect x=\"180\" y=\"110\" width=\"250\" height=\"250\" rx=\"40\" style=\"fill:blue; stroke:black; fill-opacity:0.5;\" />\n",
       "</svg>\n"
      ],
      "text/plain": [
       "<IPython.core.display.HTML object>"
      ]
     },
     "metadata": {},
     "output_type": "display_data"
    }
   ],
   "source": [
    "%%html\n",
    "<svg xmlns=\"http://www.w3.org/2000/svg\" viewBox=\"0 0 450 400\" width=\"200\" height=\"200\">\n",
    "  <rect x=\"80\" y=\"60\" width=\"250\" height=\"250\" rx=\"20\" style=\"fill:red; stroke:black; fill-opacity:0.7\" />\n",
    "  <rect x=\"180\" y=\"110\" width=\"250\" height=\"250\" rx=\"40\" style=\"fill:blue; stroke:black; fill-opacity:0.5;\" />\n",
    "</svg>"
   ]
  },
  {
   "cell_type": "code",
   "execution_count": 18,
   "id": "strategic-concert",
   "metadata": {},
   "outputs": [
    {
     "data": {
      "application/javascript": [
       "alert(\"hello\")\n"
      ],
      "text/plain": [
       "<IPython.core.display.Javascript object>"
      ]
     },
     "metadata": {},
     "output_type": "display_data"
    }
   ],
   "source": [
    "%%js\n",
    "alert(\"hello\")"
   ]
  },
  {
   "cell_type": "code",
   "execution_count": null,
   "id": "signal-affairs",
   "metadata": {},
   "outputs": [],
   "source": [
    "## UTF-8 Geometric Shapes\n",
    "[UTF-8 Geometric Shapes](https://www.w3schools.com/charsets/ref_utf_geometric.asp)\n"
   ]
  },
  {
   "cell_type": "code",
   "execution_count": null,
   "id": "public-string",
   "metadata": {},
   "outputs": [],
   "source": []
  }
 ],
 "metadata": {
  "kernelspec": {
   "display_name": "Python 3",
   "language": "python",
   "name": "python3"
  },
  "language_info": {
   "codemirror_mode": {
    "name": "ipython",
    "version": 3
   },
   "file_extension": ".py",
   "mimetype": "text/x-python",
   "name": "python",
   "nbconvert_exporter": "python",
   "pygments_lexer": "ipython3",
   "version": "3.7.8"
  }
 },
 "nbformat": 4,
 "nbformat_minor": 5
}
