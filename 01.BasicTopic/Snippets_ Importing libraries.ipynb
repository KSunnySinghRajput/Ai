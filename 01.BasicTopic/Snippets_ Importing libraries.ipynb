{
 "cells": [
  {
   "cell_type": "markdown",
   "metadata": {
    "colab_type": "text",
    "id": "kDn_lVxg3Z2G"
   },
   "source": [
    "# Importing a library that is not in Colaboratory\n",
    "\n",
    "To import a library that's not in Colaboratory by default, you can use `!pip install` or `!apt-get install`."
   ]
  },
  {
   "cell_type": "code",
   "execution_count": null,
   "metadata": {
    "colab": {},
    "colab_type": "code",
    "id": "GQ18Kd5F3uKe"
   },
   "outputs": [],
   "source": [
    "!pip install -q matplotlib-venn"
   ]
  },
  {
   "cell_type": "code",
   "execution_count": null,
   "metadata": {
    "colab": {
     "base_uri": "https://localhost:8080/",
     "height": 153
    },
    "colab_type": "code",
    "executionInfo": {
     "elapsed": 13053,
     "status": "ok",
     "timestamp": 1581801140123,
     "user": {
      "displayName": "",
      "photoUrl": "",
      "userId": ""
     },
     "user_tz": -330
    },
    "id": "__3eqm3q3sr-",
    "outputId": "cdb50f01-1f00-414a-e301-4cecbbae2b0b"
   },
   "outputs": [],
   "source": [
    "!apt-get -qq install -y libfluidsynth1"
   ]
  },
  {
   "cell_type": "markdown",
   "metadata": {
    "colab_type": "text",
    "id": "iDu3Slhq2zyh"
   },
   "source": [
    "# Upgrading TensorFlow\n",
    "\n",
    "[TensorFlow](https://www.tensorflow.org/) is available by default but you can switch which version you're using."
   ]
  },
  {
   "cell_type": "code",
   "execution_count": null,
   "metadata": {
    "colab": {
     "base_uri": "https://localhost:8080/",
     "height": 1000
    },
    "colab_type": "code",
    "executionInfo": {
     "elapsed": 171556,
     "status": "ok",
     "timestamp": 1581801392258,
     "user": {
      "displayName": "Sunny Singh",
      "photoUrl": "https://lh3.googleusercontent.com/a-/AAuE7mB5arfmUOQ-9_Xg82JSBbu31b9-_qKy8P_JaLl7DA=s64",
      "userId": "03264321663291243977"
     },
     "user_tz": -330
    },
    "id": "6km1lWMF2kAm",
    "outputId": "2524d971-6761-48e6-8e74-8a6e84ae5d3b"
   },
   "outputs": [],
   "source": [
    "# To determine which version you're using:\n",
    "!pip show tensorflow\n",
    "\n",
    "# For the current version: \n",
    "!pip install --upgrade tensorflow\n",
    "\n",
    "# For a specific version:\n",
    "!pip install tensorflow==1.2\n",
    "\n",
    "# For the latest nightly build:\n",
    "!pip install tf-nightly"
   ]
  },
  {
   "cell_type": "markdown",
   "metadata": {
    "colab_type": "text",
    "id": "apoRbfWsRZ7S"
   },
   "source": [
    "# Install 7zip reader [libarchive](https://pypi.python.org/pypi/libarchive) "
   ]
  },
  {
   "cell_type": "code",
   "execution_count": null,
   "metadata": {
    "colab": {
     "base_uri": "https://localhost:8080/",
     "height": 153
    },
    "colab_type": "code",
    "executionInfo": {
     "elapsed": 163597,
     "status": "ok",
     "timestamp": 1581801405649,
     "user": {
      "displayName": "Sunny Singh",
      "photoUrl": "https://lh3.googleusercontent.com/a-/AAuE7mB5arfmUOQ-9_Xg82JSBbu31b9-_qKy8P_JaLl7DA=s64",
      "userId": "03264321663291243977"
     },
     "user_tz": -330
    },
    "id": "d_j7nNbKRmhx",
    "outputId": "23da11be-cefe-4d64-e9c8-770ce3945e0f"
   },
   "outputs": [],
   "source": [
    "# https://pypi.python.org/pypi/libarchive\n",
    "!apt-get -qq install -y libarchive-dev && pip install -q -U libarchive\n",
    "import libarchive"
   ]
  },
  {
   "cell_type": "markdown",
   "metadata": {
    "colab_type": "text",
    "id": "PeaSX9KXR58J"
   },
   "source": [
    "# Install GraphViz & [PyDot](https://pypi.python.org/pypi/pydot)"
   ]
  },
  {
   "cell_type": "code",
   "execution_count": null,
   "metadata": {
    "colab": {},
    "colab_type": "code",
    "id": "w9llCG2wSRDx"
   },
   "outputs": [],
   "source": [
    "# https://pypi.python.org/pypi/pydot\n",
    "!apt-get -qq install -y graphviz && pip install -q pydot\n",
    "import pydot"
   ]
  },
  {
   "cell_type": "markdown",
   "metadata": {
    "colab_type": "text",
    "id": "Tlh1MKxGrKFO"
   },
   "source": [
    "# Install [cartopy](http://scitools.org.uk/cartopy/docs/latest/)"
   ]
  },
  {
   "cell_type": "code",
   "execution_count": null,
   "metadata": {
    "colab": {
     "base_uri": "https://localhost:8080/",
     "height": 714
    },
    "colab_type": "code",
    "executionInfo": {
     "elapsed": 172850,
     "status": "ok",
     "timestamp": 1581801423315,
     "user": {
      "displayName": "Sunny Singh",
      "photoUrl": "https://lh3.googleusercontent.com/a-/AAuE7mB5arfmUOQ-9_Xg82JSBbu31b9-_qKy8P_JaLl7DA=s64",
      "userId": "03264321663291243977"
     },
     "user_tz": -330
    },
    "id": "Zq68DSY2rP2W",
    "outputId": "d27b7d89-84db-4d23-ccb1-6d814664ba43"
   },
   "outputs": [],
   "source": [
    "!apt-get -qq install python-cartopy python3-cartopy\n",
    "import cartopy"
   ]
  },
  {
   "cell_type": "markdown",
   "metadata": {
    "colab_type": "text",
    "id": "OaVJaYWAuNyo"
   },
   "source": [
    "## MNIST"
   ]
  },
  {
   "cell_type": "code",
   "execution_count": null,
   "metadata": {
    "colab": {
     "base_uri": "https://localhost:8080/",
     "height": 190
    },
    "colab_type": "code",
    "executionInfo": {
     "elapsed": 7102,
     "status": "ok",
     "timestamp": 1581801618435,
     "user": {
      "displayName": "Sunny Singh",
      "photoUrl": "https://lh3.googleusercontent.com/a-/AAuE7mB5arfmUOQ-9_Xg82JSBbu31b9-_qKy8P_JaLl7DA=s64",
      "userId": "03264321663291243977"
     },
     "user_tz": -330
    },
    "id": "JkNYLShMuNM0",
    "outputId": "5ca9a946-0de9-4cf2-8998-04607fa45f43"
   },
   "outputs": [],
   "source": [
    "!pip install python-mnist"
   ]
  }
 ],
 "metadata": {
  "colab": {
   "collapsed_sections": [],
   "name": "Snippets: Importing libraries",
   "provenance": [
    {
     "file_id": "/v2/external/notebooks/snippets/importing_libraries.ipynb",
     "timestamp": 1581801172371
    }
   ]
  },
  "kernelspec": {
   "display_name": "Python 3",
   "language": "python",
   "name": "python3"
  },
  "language_info": {
   "codemirror_mode": {
    "name": "ipython",
    "version": 3
   },
   "file_extension": ".py",
   "mimetype": "text/x-python",
   "name": "python",
   "nbconvert_exporter": "python",
   "pygments_lexer": "ipython3",
   "version": "3.8.5"
  }
 },
 "nbformat": 4,
 "nbformat_minor": 1
}
