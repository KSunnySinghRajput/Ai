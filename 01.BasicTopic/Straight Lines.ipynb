{
 "cells": [
  {
   "cell_type": "code",
   "execution_count": 82,
   "id": "632264d7",
   "metadata": {},
   "outputs": [],
   "source": [
    "import numpy as np\n",
    "import matplotlib.pyplot as plt"
   ]
  },
  {
   "cell_type": "code",
   "execution_count": 83,
   "id": "7b29a801",
   "metadata": {},
   "outputs": [],
   "source": [
    "class StraightLines:\n",
    "    def __init__(self,p1,p2):\n",
    "        self.p1 = p1\n",
    "        self.p2 = p2\n",
    "        self.point2List()\n",
    "\n",
    "    def point2List(self):\n",
    "        self.x=[]\n",
    "        self.y=[]\n",
    "        for x_i,y_i in [self.p1,self.p2]:\n",
    "            self.x.append(x_i)\n",
    "            self.y.append(y_i)\n",
    "\n",
    "    def Slope(self):\n",
    "        self.slope=(self.y[1]-self.y[0])/(self.x[1]-self.x[0]) \n",
    "        return self.slope\n",
    "    \n",
    "    def xy(self):\n",
    "        return (self.x,self.y)\n",
    "    \n",
    "    def plot(self):\n",
    "        return plt.plot(self.x,self.y)\n",
    "    \n",
    "    def B(self):\n",
    "        self.b = self.y[0] - (self.slope * self.x[0])\n",
    "        return self.b\n",
    "    \n",
    "    def InterceptX(self):\n",
    "        self.intX = - self.b / self.slope\n",
    "        return self.intX\n",
    "    \n",
    "    def InterceptY(self):\n",
    "        self.intY = (self.slope * 0) + self.b\n",
    "        return self.intY\n",
    "    \n",
    "#     def distance(self):\n",
    "        \n",
    "    def equation(self):\n",
    "        self.eq = str('y')+str('-(')+str(self.slope)+str('*')+str('x)-')+str(self.b)\n",
    "        return self.eq"
   ]
  },
  {
   "cell_type": "code",
   "execution_count": 84,
   "id": "a9b4b0c4",
   "metadata": {},
   "outputs": [],
   "source": [
    "p1=(0,5)\n",
    "p2=(5,0)"
   ]
  },
  {
   "cell_type": "code",
   "execution_count": 85,
   "id": "0ce6955c",
   "metadata": {},
   "outputs": [],
   "source": [
    "# p1=(-2, 4) \n",
    "# p2=(1, 2)"
   ]
  },
  {
   "cell_type": "code",
   "execution_count": 86,
   "id": "40bddf65",
   "metadata": {},
   "outputs": [
    {
     "data": {
      "text/plain": [
       "-1.0"
      ]
     },
     "execution_count": 86,
     "metadata": {},
     "output_type": "execute_result"
    }
   ],
   "source": [
    "line=StraightLines(p1,p2)\n",
    "line.Slope()"
   ]
  },
  {
   "cell_type": "code",
   "execution_count": 87,
   "id": "c5c8466e",
   "metadata": {},
   "outputs": [
    {
     "data": {
      "text/plain": [
       "5.0"
      ]
     },
     "execution_count": 87,
     "metadata": {},
     "output_type": "execute_result"
    }
   ],
   "source": [
    "line.B()"
   ]
  },
  {
   "cell_type": "code",
   "execution_count": 88,
   "id": "c9316b6e",
   "metadata": {},
   "outputs": [
    {
     "data": {
      "text/plain": [
       "5.0"
      ]
     },
     "execution_count": 88,
     "metadata": {},
     "output_type": "execute_result"
    }
   ],
   "source": [
    "line.InterceptY()"
   ]
  },
  {
   "cell_type": "code",
   "execution_count": 89,
   "id": "d7bc11a9",
   "metadata": {},
   "outputs": [
    {
     "data": {
      "text/plain": [
       "5.0"
      ]
     },
     "execution_count": 89,
     "metadata": {},
     "output_type": "execute_result"
    }
   ],
   "source": [
    "line.InterceptX()"
   ]
  },
  {
   "cell_type": "code",
   "execution_count": 90,
   "id": "a0ba2a8f",
   "metadata": {},
   "outputs": [
    {
     "data": {
      "text/plain": [
       "'y-(-1.0*x)-5.0'"
      ]
     },
     "execution_count": 90,
     "metadata": {},
     "output_type": "execute_result"
    }
   ],
   "source": [
    "line.equation()"
   ]
  },
  {
   "cell_type": "code",
   "execution_count": 91,
   "id": "adfb5474",
   "metadata": {},
   "outputs": [],
   "source": [
    "x,y=line.xy()"
   ]
  },
  {
   "cell_type": "code",
   "execution_count": 92,
   "id": "48a1135a",
   "metadata": {},
   "outputs": [
    {
     "data": {
      "image/png": "[encoded data removed]",
      "text/plain": [
       "<Figure size 432x288 with 1 Axes>"
      ]
     },
     "metadata": {
      "needs_background": "light"
     },
     "output_type": "display_data"
    }
   ],
   "source": [
    "# dot=[5,6]\n",
    "# plt.scatter(dot[0],dot[1])\n",
    "line.plot()\n",
    "plt.show()"
   ]
  },
  {
   "cell_type": "code",
   "execution_count": null,
   "id": "f826bc8d",
   "metadata": {},
   "outputs": [],
   "source": []
  }
 ],
 "metadata": {
  "kernelspec": {
   "display_name": "Python 3",
   "language": "python",
   "name": "python3"
  },
  "language_info": {
   "codemirror_mode": {
    "name": "ipython",
    "version": 3
   },
   "file_extension": ".py",
   "mimetype": "text/x-python",
   "name": "python",
   "nbconvert_exporter": "python",
   "pygments_lexer": "ipython3",
   "version": "3.8.5"
  }
 },
 "nbformat": 4,
 "nbformat_minor": 5
}
