{
 "cells": [
  {
   "cell_type": "code",
   "execution_count": 1,
   "id": "nominated-organic",
   "metadata": {},
   "outputs": [],
   "source": [
    "import pandas as pd\n",
    "import numpy as np\n",
    "import matplotlib.pyplot as plt"
   ]
  },
  {
   "cell_type": "code",
   "execution_count": 2,
   "id": "comparative-challenge",
   "metadata": {},
   "outputs": [],
   "source": [
    "# help(pd.date_range)"
   ]
  },
  {
   "cell_type": "code",
   "execution_count": 3,
   "id": "crucial-hearts",
   "metadata": {},
   "outputs": [
    {
     "data": {
      "text/plain": [
       "DatetimeIndex(['2018-01-01', '2018-01-02', '2018-01-03', '2018-01-04',\n",
       "               '2018-01-05', '2018-01-06', '2018-01-07', '2018-01-08'],\n",
       "              dtype='datetime64[ns]', freq='D')"
      ]
     },
     "execution_count": 3,
     "metadata": {},
     "output_type": "execute_result"
    }
   ],
   "source": [
    "pd.date_range(start='1/1/2018', end='1/08/2018')"
   ]
  },
  {
   "cell_type": "code",
   "execution_count": 5,
   "id": "intended-revision",
   "metadata": {},
   "outputs": [
    {
     "data": {
      "text/plain": [
       "DatetimeIndex(['2011-12-31', '2012-12-31', '2013-12-31', '2014-12-31',\n",
       "               '2015-12-31'],\n",
       "              dtype='datetime64[ns]', freq='A-DEC')"
      ]
     },
     "execution_count": 5,
     "metadata": {},
     "output_type": "execute_result"
    }
   ],
   "source": [
    "# freq='Y','M','D','H',\"min\",'s','Ms'\n",
    "rng = pd.date_range('1/1/2011', periods=5, freq='Y')\n",
    "rng"
   ]
  },
  {
   "cell_type": "code",
   "execution_count": 8,
   "id": "immediate-minutes",
   "metadata": {},
   "outputs": [
    {
     "data": {
      "text/plain": [
       "DatetimeIndex(['2011-01-01 00:00:00', '2011-01-01 00:01:00',\n",
       "               '2011-01-01 00:02:00', '2011-01-01 00:03:00',\n",
       "               '2011-01-01 00:04:00'],\n",
       "              dtype='datetime64[ns]', freq='T')"
      ]
     },
     "execution_count": 8,
     "metadata": {},
     "output_type": "execute_result"
    }
   ],
   "source": [
    "rng = pd.date_range('1/1/2011', periods=5, freq='min')\n",
    "rng"
   ]
  },
  {
   "cell_type": "code",
   "execution_count": 12,
   "id": "tender-reconstruction",
   "metadata": {},
   "outputs": [
    {
     "data": {
      "text/plain": [
       "2011-01-01 00:00:00    0.571098\n",
       "2011-01-01 00:01:00   -1.212381\n",
       "2011-01-01 00:02:00    0.729411\n",
       "2011-01-01 00:03:00   -1.890615\n",
       "2011-01-01 00:04:00   -0.464997\n",
       "Freq: T, dtype: float64"
      ]
     },
     "execution_count": 12,
     "metadata": {},
     "output_type": "execute_result"
    }
   ],
   "source": [
    "ts = pd.Series(np.random.randn(len(rng)), index=rng)\n",
    "# ts=ts.asfreq('45Min', method='pad')\n",
    "# ts.resample('D').mean()\n",
    "ts"
   ]
  },
  {
   "cell_type": "markdown",
   "id": "demographic-genome",
   "metadata": {},
   "source": [
    "## Operation"
   ]
  },
  {
   "cell_type": "code",
   "execution_count": 38,
   "id": "residential-pennsylvania",
   "metadata": {},
   "outputs": [
    {
     "data": {
      "text/html": [
       "<div>\n",
       "<style scoped>\n",
       "    .dataframe tbody tr th:only-of-type {\n",
       "        vertical-align: middle;\n",
       "    }\n",
       "\n",
       "    .dataframe tbody tr th {\n",
       "        vertical-align: top;\n",
       "    }\n",
       "\n",
       "    .dataframe thead th {\n",
       "        text-align: right;\n",
       "    }\n",
       "</style>\n",
       "<table border=\"1\" class=\"dataframe\">\n",
       "  <thead>\n",
       "    <tr style=\"text-align: right;\">\n",
       "      <th></th>\n",
       "      <th>A</th>\n",
       "    </tr>\n",
       "  </thead>\n",
       "  <tbody>\n",
       "    <tr>\n",
       "      <th>2000-12-31</th>\n",
       "      <td>0.631412</td>\n",
       "    </tr>\n",
       "    <tr>\n",
       "      <th>2001-12-31</th>\n",
       "      <td>-0.792836</td>\n",
       "    </tr>\n",
       "    <tr>\n",
       "      <th>2002-12-31</th>\n",
       "      <td>0.720496</td>\n",
       "    </tr>\n",
       "    <tr>\n",
       "      <th>2003-12-31</th>\n",
       "      <td>-0.112769</td>\n",
       "    </tr>\n",
       "    <tr>\n",
       "      <th>2004-12-31</th>\n",
       "      <td>-0.070741</td>\n",
       "    </tr>\n",
       "    <tr>\n",
       "      <th>2005-12-31</th>\n",
       "      <td>-0.811610</td>\n",
       "    </tr>\n",
       "    <tr>\n",
       "      <th>2006-12-31</th>\n",
       "      <td>-1.382116</td>\n",
       "    </tr>\n",
       "    <tr>\n",
       "      <th>2007-12-31</th>\n",
       "      <td>-0.604901</td>\n",
       "    </tr>\n",
       "    <tr>\n",
       "      <th>2008-12-31</th>\n",
       "      <td>1.281187</td>\n",
       "    </tr>\n",
       "    <tr>\n",
       "      <th>2009-12-31</th>\n",
       "      <td>0.243664</td>\n",
       "    </tr>\n",
       "  </tbody>\n",
       "</table>\n",
       "</div>"
      ],
      "text/plain": [
       "                   A\n",
       "2000-12-31  0.631412\n",
       "2001-12-31 -0.792836\n",
       "2002-12-31  0.720496\n",
       "2003-12-31 -0.112769\n",
       "2004-12-31 -0.070741\n",
       "2005-12-31 -0.811610\n",
       "2006-12-31 -1.382116\n",
       "2007-12-31 -0.604901\n",
       "2008-12-31  1.281187\n",
       "2009-12-31  0.243664"
      ]
     },
     "execution_count": 38,
     "metadata": {},
     "output_type": "execute_result"
    }
   ],
   "source": [
    "# freq='Y','M','D','H',\"min\",'s','Ms','1D20min'\n",
    "a=10\n",
    "index=pd.date_range('1/1/2000', periods=a,freq='Y')\n",
    "df = pd.DataFrame(np.random.randn(a, 1), index=index, columns=list('A'))\n",
    "df"
   ]
  },
  {
   "cell_type": "code",
   "execution_count": 39,
   "id": "settled-america",
   "metadata": {},
   "outputs": [
    {
     "data": {
      "text/html": [
       "<div>\n",
       "<style scoped>\n",
       "    .dataframe tbody tr th:only-of-type {\n",
       "        vertical-align: middle;\n",
       "    }\n",
       "\n",
       "    .dataframe tbody tr th {\n",
       "        vertical-align: top;\n",
       "    }\n",
       "\n",
       "    .dataframe thead th {\n",
       "        text-align: right;\n",
       "    }\n",
       "</style>\n",
       "<table border=\"1\" class=\"dataframe\">\n",
       "  <thead>\n",
       "    <tr style=\"text-align: right;\">\n",
       "      <th></th>\n",
       "      <th>A</th>\n",
       "      <th>Datetime</th>\n",
       "    </tr>\n",
       "  </thead>\n",
       "  <tbody>\n",
       "    <tr>\n",
       "      <th>2000-12-31</th>\n",
       "      <td>0.631412</td>\n",
       "      <td>2000-12-31</td>\n",
       "    </tr>\n",
       "    <tr>\n",
       "      <th>2001-12-31</th>\n",
       "      <td>-0.792836</td>\n",
       "      <td>2001-12-31</td>\n",
       "    </tr>\n",
       "    <tr>\n",
       "      <th>2002-12-31</th>\n",
       "      <td>0.720496</td>\n",
       "      <td>2002-12-31</td>\n",
       "    </tr>\n",
       "    <tr>\n",
       "      <th>2003-12-31</th>\n",
       "      <td>-0.112769</td>\n",
       "      <td>2003-12-31</td>\n",
       "    </tr>\n",
       "    <tr>\n",
       "      <th>2004-12-31</th>\n",
       "      <td>-0.070741</td>\n",
       "      <td>2004-12-31</td>\n",
       "    </tr>\n",
       "    <tr>\n",
       "      <th>2005-12-31</th>\n",
       "      <td>-0.811610</td>\n",
       "      <td>2005-12-31</td>\n",
       "    </tr>\n",
       "    <tr>\n",
       "      <th>2006-12-31</th>\n",
       "      <td>-1.382116</td>\n",
       "      <td>2006-12-31</td>\n",
       "    </tr>\n",
       "    <tr>\n",
       "      <th>2007-12-31</th>\n",
       "      <td>-0.604901</td>\n",
       "      <td>2007-12-31</td>\n",
       "    </tr>\n",
       "    <tr>\n",
       "      <th>2008-12-31</th>\n",
       "      <td>1.281187</td>\n",
       "      <td>2008-12-31</td>\n",
       "    </tr>\n",
       "    <tr>\n",
       "      <th>2009-12-31</th>\n",
       "      <td>0.243664</td>\n",
       "      <td>2009-12-31</td>\n",
       "    </tr>\n",
       "  </tbody>\n",
       "</table>\n",
       "</div>"
      ],
      "text/plain": [
       "                   A   Datetime\n",
       "2000-12-31  0.631412 2000-12-31\n",
       "2001-12-31 -0.792836 2001-12-31\n",
       "2002-12-31  0.720496 2002-12-31\n",
       "2003-12-31 -0.112769 2003-12-31\n",
       "2004-12-31 -0.070741 2004-12-31\n",
       "2005-12-31 -0.811610 2005-12-31\n",
       "2006-12-31 -1.382116 2006-12-31\n",
       "2007-12-31 -0.604901 2007-12-31\n",
       "2008-12-31  1.281187 2008-12-31\n",
       "2009-12-31  0.243664 2009-12-31"
      ]
     },
     "execution_count": 39,
     "metadata": {},
     "output_type": "execute_result"
    }
   ],
   "source": [
    "df[\"Datetime\"]=df.index \n",
    "df"
   ]
  },
  {
   "cell_type": "code",
   "execution_count": 40,
   "id": "cloudy-workplace",
   "metadata": {},
   "outputs": [],
   "source": [
    "# df.date.map(type)   # in str"
   ]
  },
  {
   "cell_type": "code",
   "execution_count": 41,
   "id": "mechanical-model",
   "metadata": {},
   "outputs": [
    {
     "data": {
      "text/html": [
       "<div>\n",
       "<style scoped>\n",
       "    .dataframe tbody tr th:only-of-type {\n",
       "        vertical-align: middle;\n",
       "    }\n",
       "\n",
       "    .dataframe tbody tr th {\n",
       "        vertical-align: top;\n",
       "    }\n",
       "\n",
       "    .dataframe thead th {\n",
       "        text-align: right;\n",
       "    }\n",
       "</style>\n",
       "<table border=\"1\" class=\"dataframe\">\n",
       "  <thead>\n",
       "    <tr style=\"text-align: right;\">\n",
       "      <th></th>\n",
       "      <th>A</th>\n",
       "      <th>Datetime</th>\n",
       "    </tr>\n",
       "  </thead>\n",
       "  <tbody>\n",
       "    <tr>\n",
       "      <th>2000-12-31</th>\n",
       "      <td>0.631412</td>\n",
       "      <td>2000-12-31</td>\n",
       "    </tr>\n",
       "    <tr>\n",
       "      <th>2001-12-31</th>\n",
       "      <td>-0.792836</td>\n",
       "      <td>2001-12-31</td>\n",
       "    </tr>\n",
       "    <tr>\n",
       "      <th>2002-12-31</th>\n",
       "      <td>0.720496</td>\n",
       "      <td>2002-12-31</td>\n",
       "    </tr>\n",
       "    <tr>\n",
       "      <th>2003-12-31</th>\n",
       "      <td>-0.112769</td>\n",
       "      <td>2003-12-31</td>\n",
       "    </tr>\n",
       "    <tr>\n",
       "      <th>2004-12-31</th>\n",
       "      <td>-0.070741</td>\n",
       "      <td>2004-12-31</td>\n",
       "    </tr>\n",
       "    <tr>\n",
       "      <th>2005-12-31</th>\n",
       "      <td>-0.811610</td>\n",
       "      <td>2005-12-31</td>\n",
       "    </tr>\n",
       "    <tr>\n",
       "      <th>2006-12-31</th>\n",
       "      <td>-1.382116</td>\n",
       "      <td>2006-12-31</td>\n",
       "    </tr>\n",
       "    <tr>\n",
       "      <th>2007-12-31</th>\n",
       "      <td>-0.604901</td>\n",
       "      <td>2007-12-31</td>\n",
       "    </tr>\n",
       "    <tr>\n",
       "      <th>2008-12-31</th>\n",
       "      <td>1.281187</td>\n",
       "      <td>2008-12-31</td>\n",
       "    </tr>\n",
       "    <tr>\n",
       "      <th>2009-12-31</th>\n",
       "      <td>0.243664</td>\n",
       "      <td>2009-12-31</td>\n",
       "    </tr>\n",
       "  </tbody>\n",
       "</table>\n",
       "</div>"
      ],
      "text/plain": [
       "                   A   Datetime\n",
       "2000-12-31  0.631412 2000-12-31\n",
       "2001-12-31 -0.792836 2001-12-31\n",
       "2002-12-31  0.720496 2002-12-31\n",
       "2003-12-31 -0.112769 2003-12-31\n",
       "2004-12-31 -0.070741 2004-12-31\n",
       "2005-12-31 -0.811610 2005-12-31\n",
       "2006-12-31 -1.382116 2006-12-31\n",
       "2007-12-31 -0.604901 2007-12-31\n",
       "2008-12-31  1.281187 2008-12-31\n",
       "2009-12-31  0.243664 2009-12-31"
      ]
     },
     "execution_count": 41,
     "metadata": {},
     "output_type": "execute_result"
    }
   ],
   "source": [
    "df['Datetime'] =  pd.to_datetime(df['Datetime'], format='%Y-%m-%d %H:%M:%S')\n",
    "df"
   ]
  },
  {
   "cell_type": "code",
   "execution_count": 42,
   "id": "continued-accommodation",
   "metadata": {},
   "outputs": [],
   "source": [
    "# df.date.map(type)   # in pd timestamp"
   ]
  },
  {
   "cell_type": "code",
   "execution_count": 43,
   "id": "oriental-kennedy",
   "metadata": {},
   "outputs": [],
   "source": [
    "# help(pd.DatetimeIndex)"
   ]
  },
  {
   "cell_type": "code",
   "execution_count": null,
   "id": "colored-error",
   "metadata": {},
   "outputs": [],
   "source": [
    "# year,month,day,hour,minute,second,microsecond,nanosecond,date,time,timetz\n",
    "# dayofyear,day_of_year,weekofyear,week,dayofweek,day_of_week"
   ]
  },
  {
   "cell_type": "code",
   "execution_count": 44,
   "id": "careful-director",
   "metadata": {},
   "outputs": [
    {
     "data": {
      "text/html": [
       "<div>\n",
       "<style scoped>\n",
       "    .dataframe tbody tr th:only-of-type {\n",
       "        vertical-align: middle;\n",
       "    }\n",
       "\n",
       "    .dataframe tbody tr th {\n",
       "        vertical-align: top;\n",
       "    }\n",
       "\n",
       "    .dataframe thead th {\n",
       "        text-align: right;\n",
       "    }\n",
       "</style>\n",
       "<table border=\"1\" class=\"dataframe\">\n",
       "  <thead>\n",
       "    <tr style=\"text-align: right;\">\n",
       "      <th></th>\n",
       "      <th>A</th>\n",
       "      <th>Datetime</th>\n",
       "      <th>day</th>\n",
       "      <th>month</th>\n",
       "      <th>year</th>\n",
       "      <th>date</th>\n",
       "      <th>date_</th>\n",
       "      <th>hour</th>\n",
       "      <th>min</th>\n",
       "      <th>sec</th>\n",
       "      <th>millsec</th>\n",
       "    </tr>\n",
       "  </thead>\n",
       "  <tbody>\n",
       "    <tr>\n",
       "      <th>2000-12-31</th>\n",
       "      <td>0.631412</td>\n",
       "      <td>2000-12-31</td>\n",
       "      <td>31</td>\n",
       "      <td>12</td>\n",
       "      <td>2000</td>\n",
       "      <td>2000-12-31</td>\n",
       "      <td>2000-12-31</td>\n",
       "      <td>0</td>\n",
       "      <td>0</td>\n",
       "      <td>0</td>\n",
       "      <td>0</td>\n",
       "    </tr>\n",
       "    <tr>\n",
       "      <th>2001-12-31</th>\n",
       "      <td>-0.792836</td>\n",
       "      <td>2001-12-31</td>\n",
       "      <td>31</td>\n",
       "      <td>12</td>\n",
       "      <td>2001</td>\n",
       "      <td>2001-12-31</td>\n",
       "      <td>2001-12-31</td>\n",
       "      <td>0</td>\n",
       "      <td>0</td>\n",
       "      <td>0</td>\n",
       "      <td>0</td>\n",
       "    </tr>\n",
       "    <tr>\n",
       "      <th>2002-12-31</th>\n",
       "      <td>0.720496</td>\n",
       "      <td>2002-12-31</td>\n",
       "      <td>31</td>\n",
       "      <td>12</td>\n",
       "      <td>2002</td>\n",
       "      <td>2002-12-31</td>\n",
       "      <td>2002-12-31</td>\n",
       "      <td>0</td>\n",
       "      <td>0</td>\n",
       "      <td>0</td>\n",
       "      <td>0</td>\n",
       "    </tr>\n",
       "    <tr>\n",
       "      <th>2003-12-31</th>\n",
       "      <td>-0.112769</td>\n",
       "      <td>2003-12-31</td>\n",
       "      <td>31</td>\n",
       "      <td>12</td>\n",
       "      <td>2003</td>\n",
       "      <td>2003-12-31</td>\n",
       "      <td>2003-12-31</td>\n",
       "      <td>0</td>\n",
       "      <td>0</td>\n",
       "      <td>0</td>\n",
       "      <td>0</td>\n",
       "    </tr>\n",
       "    <tr>\n",
       "      <th>2004-12-31</th>\n",
       "      <td>-0.070741</td>\n",
       "      <td>2004-12-31</td>\n",
       "      <td>31</td>\n",
       "      <td>12</td>\n",
       "      <td>2004</td>\n",
       "      <td>2004-12-31</td>\n",
       "      <td>2004-12-31</td>\n",
       "      <td>0</td>\n",
       "      <td>0</td>\n",
       "      <td>0</td>\n",
       "      <td>0</td>\n",
       "    </tr>\n",
       "    <tr>\n",
       "      <th>2005-12-31</th>\n",
       "      <td>-0.811610</td>\n",
       "      <td>2005-12-31</td>\n",
       "      <td>31</td>\n",
       "      <td>12</td>\n",
       "      <td>2005</td>\n",
       "      <td>2005-12-31</td>\n",
       "      <td>2005-12-31</td>\n",
       "      <td>0</td>\n",
       "      <td>0</td>\n",
       "      <td>0</td>\n",
       "      <td>0</td>\n",
       "    </tr>\n",
       "    <tr>\n",
       "      <th>2006-12-31</th>\n",
       "      <td>-1.382116</td>\n",
       "      <td>2006-12-31</td>\n",
       "      <td>31</td>\n",
       "      <td>12</td>\n",
       "      <td>2006</td>\n",
       "      <td>2006-12-31</td>\n",
       "      <td>2006-12-31</td>\n",
       "      <td>0</td>\n",
       "      <td>0</td>\n",
       "      <td>0</td>\n",
       "      <td>0</td>\n",
       "    </tr>\n",
       "    <tr>\n",
       "      <th>2007-12-31</th>\n",
       "      <td>-0.604901</td>\n",
       "      <td>2007-12-31</td>\n",
       "      <td>31</td>\n",
       "      <td>12</td>\n",
       "      <td>2007</td>\n",
       "      <td>2007-12-31</td>\n",
       "      <td>2007-12-31</td>\n",
       "      <td>0</td>\n",
       "      <td>0</td>\n",
       "      <td>0</td>\n",
       "      <td>0</td>\n",
       "    </tr>\n",
       "    <tr>\n",
       "      <th>2008-12-31</th>\n",
       "      <td>1.281187</td>\n",
       "      <td>2008-12-31</td>\n",
       "      <td>31</td>\n",
       "      <td>12</td>\n",
       "      <td>2008</td>\n",
       "      <td>2008-12-31</td>\n",
       "      <td>2008-12-31</td>\n",
       "      <td>0</td>\n",
       "      <td>0</td>\n",
       "      <td>0</td>\n",
       "      <td>0</td>\n",
       "    </tr>\n",
       "    <tr>\n",
       "      <th>2009-12-31</th>\n",
       "      <td>0.243664</td>\n",
       "      <td>2009-12-31</td>\n",
       "      <td>31</td>\n",
       "      <td>12</td>\n",
       "      <td>2009</td>\n",
       "      <td>2009-12-31</td>\n",
       "      <td>2009-12-31</td>\n",
       "      <td>0</td>\n",
       "      <td>0</td>\n",
       "      <td>0</td>\n",
       "      <td>0</td>\n",
       "    </tr>\n",
       "  </tbody>\n",
       "</table>\n",
       "</div>"
      ],
      "text/plain": [
       "                   A   Datetime  day  month  year        date      date_  \\\n",
       "2000-12-31  0.631412 2000-12-31   31     12  2000  2000-12-31 2000-12-31   \n",
       "2001-12-31 -0.792836 2001-12-31   31     12  2001  2001-12-31 2001-12-31   \n",
       "2002-12-31  0.720496 2002-12-31   31     12  2002  2002-12-31 2002-12-31   \n",
       "2003-12-31 -0.112769 2003-12-31   31     12  2003  2003-12-31 2003-12-31   \n",
       "2004-12-31 -0.070741 2004-12-31   31     12  2004  2004-12-31 2004-12-31   \n",
       "2005-12-31 -0.811610 2005-12-31   31     12  2005  2005-12-31 2005-12-31   \n",
       "2006-12-31 -1.382116 2006-12-31   31     12  2006  2006-12-31 2006-12-31   \n",
       "2007-12-31 -0.604901 2007-12-31   31     12  2007  2007-12-31 2007-12-31   \n",
       "2008-12-31  1.281187 2008-12-31   31     12  2008  2008-12-31 2008-12-31   \n",
       "2009-12-31  0.243664 2009-12-31   31     12  2009  2009-12-31 2009-12-31   \n",
       "\n",
       "            hour  min  sec  millsec  \n",
       "2000-12-31     0    0    0        0  \n",
       "2001-12-31     0    0    0        0  \n",
       "2002-12-31     0    0    0        0  \n",
       "2003-12-31     0    0    0        0  \n",
       "2004-12-31     0    0    0        0  \n",
       "2005-12-31     0    0    0        0  \n",
       "2006-12-31     0    0    0        0  \n",
       "2007-12-31     0    0    0        0  \n",
       "2008-12-31     0    0    0        0  \n",
       "2009-12-31     0    0    0        0  "
      ]
     },
     "execution_count": 44,
     "metadata": {},
     "output_type": "execute_result"
    }
   ],
   "source": [
    "df['day'] =  pd.DatetimeIndex(df['Datetime']).day\n",
    "df['month'] =  pd.DatetimeIndex(df['Datetime']).month\n",
    "df['year'] =  pd.DatetimeIndex(df['Datetime']).year\n",
    "df['date'] =  pd.DatetimeIndex(df['Datetime']).date\n",
    "\n",
    "df['date_'] = pd.to_datetime(df[['year','month','day']])\n",
    "\n",
    "df['hour'] =  pd.DatetimeIndex(df['Datetime']).hour\n",
    "df['min'] =  pd.DatetimeIndex(df['Datetime']).minute\n",
    "df['sec'] =  pd.DatetimeIndex(df['Datetime']).second\n",
    "df['millsec'] =  pd.DatetimeIndex(df['Datetime']).microsecond\n",
    "df"
   ]
  },
  {
   "cell_type": "code",
   "execution_count": 75,
   "id": "breeding-hospital",
   "metadata": {},
   "outputs": [
    {
     "data": {
      "text/html": [
       "<div>\n",
       "<style scoped>\n",
       "    .dataframe tbody tr th:only-of-type {\n",
       "        vertical-align: middle;\n",
       "    }\n",
       "\n",
       "    .dataframe tbody tr th {\n",
       "        vertical-align: top;\n",
       "    }\n",
       "\n",
       "    .dataframe thead th {\n",
       "        text-align: right;\n",
       "    }\n",
       "</style>\n",
       "<table border=\"1\" class=\"dataframe\">\n",
       "  <thead>\n",
       "    <tr style=\"text-align: right;\">\n",
       "      <th></th>\n",
       "      <th>A</th>\n",
       "      <th>Datetime</th>\n",
       "      <th>day</th>\n",
       "      <th>month</th>\n",
       "      <th>year</th>\n",
       "      <th>date</th>\n",
       "      <th>date_</th>\n",
       "      <th>hour</th>\n",
       "      <th>min</th>\n",
       "      <th>sec</th>\n",
       "      <th>millsec</th>\n",
       "      <th>month_p</th>\n",
       "    </tr>\n",
       "  </thead>\n",
       "  <tbody>\n",
       "    <tr>\n",
       "      <th>2000-12-31</th>\n",
       "      <td>0.631412</td>\n",
       "      <td>2000-12-31</td>\n",
       "      <td>31</td>\n",
       "      <td>12</td>\n",
       "      <td>2000</td>\n",
       "      <td>2000-12-31</td>\n",
       "      <td>2000-12-31</td>\n",
       "      <td>0</td>\n",
       "      <td>0</td>\n",
       "      <td>0</td>\n",
       "      <td>0</td>\n",
       "      <td>2000-12</td>\n",
       "    </tr>\n",
       "    <tr>\n",
       "      <th>2001-12-31</th>\n",
       "      <td>-0.792836</td>\n",
       "      <td>2001-12-31</td>\n",
       "      <td>31</td>\n",
       "      <td>12</td>\n",
       "      <td>2001</td>\n",
       "      <td>2001-12-31</td>\n",
       "      <td>2001-12-31</td>\n",
       "      <td>0</td>\n",
       "      <td>0</td>\n",
       "      <td>0</td>\n",
       "      <td>0</td>\n",
       "      <td>2001-12</td>\n",
       "    </tr>\n",
       "    <tr>\n",
       "      <th>2002-12-31</th>\n",
       "      <td>0.720496</td>\n",
       "      <td>2002-12-31</td>\n",
       "      <td>31</td>\n",
       "      <td>12</td>\n",
       "      <td>2002</td>\n",
       "      <td>2002-12-31</td>\n",
       "      <td>2002-12-31</td>\n",
       "      <td>0</td>\n",
       "      <td>0</td>\n",
       "      <td>0</td>\n",
       "      <td>0</td>\n",
       "      <td>2002-12</td>\n",
       "    </tr>\n",
       "    <tr>\n",
       "      <th>2003-12-31</th>\n",
       "      <td>-0.112769</td>\n",
       "      <td>2003-12-31</td>\n",
       "      <td>31</td>\n",
       "      <td>12</td>\n",
       "      <td>2003</td>\n",
       "      <td>2003-12-31</td>\n",
       "      <td>2003-12-31</td>\n",
       "      <td>0</td>\n",
       "      <td>0</td>\n",
       "      <td>0</td>\n",
       "      <td>0</td>\n",
       "      <td>2003-12</td>\n",
       "    </tr>\n",
       "    <tr>\n",
       "      <th>2004-12-31</th>\n",
       "      <td>-0.070741</td>\n",
       "      <td>2004-12-31</td>\n",
       "      <td>31</td>\n",
       "      <td>12</td>\n",
       "      <td>2004</td>\n",
       "      <td>2004-12-31</td>\n",
       "      <td>2004-12-31</td>\n",
       "      <td>0</td>\n",
       "      <td>0</td>\n",
       "      <td>0</td>\n",
       "      <td>0</td>\n",
       "      <td>2004-12</td>\n",
       "    </tr>\n",
       "    <tr>\n",
       "      <th>2005-12-31</th>\n",
       "      <td>-0.811610</td>\n",
       "      <td>2005-12-31</td>\n",
       "      <td>31</td>\n",
       "      <td>12</td>\n",
       "      <td>2005</td>\n",
       "      <td>2005-12-31</td>\n",
       "      <td>2005-12-31</td>\n",
       "      <td>0</td>\n",
       "      <td>0</td>\n",
       "      <td>0</td>\n",
       "      <td>0</td>\n",
       "      <td>2005-12</td>\n",
       "    </tr>\n",
       "    <tr>\n",
       "      <th>2006-12-31</th>\n",
       "      <td>-1.382116</td>\n",
       "      <td>2006-12-31</td>\n",
       "      <td>31</td>\n",
       "      <td>12</td>\n",
       "      <td>2006</td>\n",
       "      <td>2006-12-31</td>\n",
       "      <td>2006-12-31</td>\n",
       "      <td>0</td>\n",
       "      <td>0</td>\n",
       "      <td>0</td>\n",
       "      <td>0</td>\n",
       "      <td>2006-12</td>\n",
       "    </tr>\n",
       "    <tr>\n",
       "      <th>2007-12-31</th>\n",
       "      <td>-0.604901</td>\n",
       "      <td>2007-12-31</td>\n",
       "      <td>31</td>\n",
       "      <td>12</td>\n",
       "      <td>2007</td>\n",
       "      <td>2007-12-31</td>\n",
       "      <td>2007-12-31</td>\n",
       "      <td>0</td>\n",
       "      <td>0</td>\n",
       "      <td>0</td>\n",
       "      <td>0</td>\n",
       "      <td>2007-12</td>\n",
       "    </tr>\n",
       "    <tr>\n",
       "      <th>2008-12-31</th>\n",
       "      <td>1.281187</td>\n",
       "      <td>2008-12-31</td>\n",
       "      <td>31</td>\n",
       "      <td>12</td>\n",
       "      <td>2008</td>\n",
       "      <td>2008-12-31</td>\n",
       "      <td>2008-12-31</td>\n",
       "      <td>0</td>\n",
       "      <td>0</td>\n",
       "      <td>0</td>\n",
       "      <td>0</td>\n",
       "      <td>2008-12</td>\n",
       "    </tr>\n",
       "    <tr>\n",
       "      <th>2009-12-31</th>\n",
       "      <td>0.243664</td>\n",
       "      <td>2009-12-31</td>\n",
       "      <td>31</td>\n",
       "      <td>12</td>\n",
       "      <td>2009</td>\n",
       "      <td>2009-12-31</td>\n",
       "      <td>2009-12-31</td>\n",
       "      <td>0</td>\n",
       "      <td>0</td>\n",
       "      <td>0</td>\n",
       "      <td>0</td>\n",
       "      <td>2009-12</td>\n",
       "    </tr>\n",
       "  </tbody>\n",
       "</table>\n",
       "</div>"
      ],
      "text/plain": [
       "                   A   Datetime  day  month  year        date      date_  \\\n",
       "2000-12-31  0.631412 2000-12-31   31     12  2000  2000-12-31 2000-12-31   \n",
       "2001-12-31 -0.792836 2001-12-31   31     12  2001  2001-12-31 2001-12-31   \n",
       "2002-12-31  0.720496 2002-12-31   31     12  2002  2002-12-31 2002-12-31   \n",
       "2003-12-31 -0.112769 2003-12-31   31     12  2003  2003-12-31 2003-12-31   \n",
       "2004-12-31 -0.070741 2004-12-31   31     12  2004  2004-12-31 2004-12-31   \n",
       "2005-12-31 -0.811610 2005-12-31   31     12  2005  2005-12-31 2005-12-31   \n",
       "2006-12-31 -1.382116 2006-12-31   31     12  2006  2006-12-31 2006-12-31   \n",
       "2007-12-31 -0.604901 2007-12-31   31     12  2007  2007-12-31 2007-12-31   \n",
       "2008-12-31  1.281187 2008-12-31   31     12  2008  2008-12-31 2008-12-31   \n",
       "2009-12-31  0.243664 2009-12-31   31     12  2009  2009-12-31 2009-12-31   \n",
       "\n",
       "            hour  min  sec  millsec  month_p  \n",
       "2000-12-31     0    0    0        0  2000-12  \n",
       "2001-12-31     0    0    0        0  2001-12  \n",
       "2002-12-31     0    0    0        0  2002-12  \n",
       "2003-12-31     0    0    0        0  2003-12  \n",
       "2004-12-31     0    0    0        0  2004-12  \n",
       "2005-12-31     0    0    0        0  2005-12  \n",
       "2006-12-31     0    0    0        0  2006-12  \n",
       "2007-12-31     0    0    0        0  2007-12  \n",
       "2008-12-31     0    0    0        0  2008-12  \n",
       "2009-12-31     0    0    0        0  2009-12  "
      ]
     },
     "execution_count": 75,
     "metadata": {},
     "output_type": "execute_result"
    }
   ],
   "source": [
    "df['month_p']=pd.PeriodIndex(df['Datetime'], dtype='period[m]', freq='m')\n",
    "df"
   ]
  },
  {
   "cell_type": "markdown",
   "id": "hindu-monthly",
   "metadata": {},
   "source": [
    "## Datetime Differ"
   ]
  },
  {
   "cell_type": "markdown",
   "id": "expected-fault",
   "metadata": {},
   "source": [
    "**Exp**"
   ]
  },
  {
   "cell_type": "code",
   "execution_count": 48,
   "id": "dirty-overhead",
   "metadata": {},
   "outputs": [
    {
     "data": {
      "text/html": [
       "<div>\n",
       "<style scoped>\n",
       "    .dataframe tbody tr th:only-of-type {\n",
       "        vertical-align: middle;\n",
       "    }\n",
       "\n",
       "    .dataframe tbody tr th {\n",
       "        vertical-align: top;\n",
       "    }\n",
       "\n",
       "    .dataframe thead th {\n",
       "        text-align: right;\n",
       "    }\n",
       "</style>\n",
       "<table border=\"1\" class=\"dataframe\">\n",
       "  <thead>\n",
       "    <tr style=\"text-align: right;\">\n",
       "      <th></th>\n",
       "      <th>one</th>\n",
       "      <th>two</th>\n",
       "    </tr>\n",
       "  </thead>\n",
       "  <tbody>\n",
       "    <tr>\n",
       "      <th>0</th>\n",
       "      <td>2019-01-24</td>\n",
       "      <td>2019-01-28</td>\n",
       "    </tr>\n",
       "    <tr>\n",
       "      <th>1</th>\n",
       "      <td>2019-01-27</td>\n",
       "      <td>2020-01-29</td>\n",
       "    </tr>\n",
       "  </tbody>\n",
       "</table>\n",
       "</div>"
      ],
      "text/plain": [
       "         one        two\n",
       "0 2019-01-24 2019-01-28\n",
       "1 2019-01-27 2020-01-29"
      ]
     },
     "execution_count": 48,
     "metadata": {},
     "output_type": "execute_result"
    }
   ],
   "source": [
    "df = pd.DataFrame(columns=[\"one\", \"two\"])\n",
    "df.one = [\"2019-01-24\",\"2019-01-27\"]\n",
    "df.one = pd.to_datetime(df.one)\n",
    "df.two = [\"2019-01-28\", \"2020-01-29\"]\n",
    "df.two = pd.to_datetime(df.two)\n",
    "df"
   ]
  },
  {
   "cell_type": "code",
   "execution_count": 51,
   "id": "swiss-happiness",
   "metadata": {},
   "outputs": [
    {
     "data": {
      "text/html": [
       "<div>\n",
       "<style scoped>\n",
       "    .dataframe tbody tr th:only-of-type {\n",
       "        vertical-align: middle;\n",
       "    }\n",
       "\n",
       "    .dataframe tbody tr th {\n",
       "        vertical-align: top;\n",
       "    }\n",
       "\n",
       "    .dataframe thead th {\n",
       "        text-align: right;\n",
       "    }\n",
       "</style>\n",
       "<table border=\"1\" class=\"dataframe\">\n",
       "  <thead>\n",
       "    <tr style=\"text-align: right;\">\n",
       "      <th></th>\n",
       "      <th>one</th>\n",
       "      <th>two</th>\n",
       "      <th>diff_one_two</th>\n",
       "    </tr>\n",
       "  </thead>\n",
       "  <tbody>\n",
       "    <tr>\n",
       "      <th>0</th>\n",
       "      <td>2019-01-24</td>\n",
       "      <td>2019-01-28</td>\n",
       "      <td>4 days</td>\n",
       "    </tr>\n",
       "    <tr>\n",
       "      <th>1</th>\n",
       "      <td>2019-01-27</td>\n",
       "      <td>2020-01-29</td>\n",
       "      <td>367 days</td>\n",
       "    </tr>\n",
       "  </tbody>\n",
       "</table>\n",
       "</div>"
      ],
      "text/plain": [
       "         one        two diff_one_two\n",
       "0 2019-01-24 2019-01-28       4 days\n",
       "1 2019-01-27 2020-01-29     367 days"
      ]
     },
     "execution_count": 51,
     "metadata": {},
     "output_type": "execute_result"
    }
   ],
   "source": [
    "df['diff_one_two'] = (df.two - df.one)\n",
    "df"
   ]
  },
  {
   "cell_type": "code",
   "execution_count": 49,
   "id": "phantom-healing",
   "metadata": {},
   "outputs": [],
   "source": [
    "a='2014-01-24 13:03:12.050000'\n",
    "b=pd.Timestamp(a)"
   ]
  },
  {
   "cell_type": "code",
   "execution_count": 69,
   "id": "baking-response",
   "metadata": {},
   "outputs": [
    {
     "data": {
      "text/plain": [
       "True"
      ]
     },
     "execution_count": 69,
     "metadata": {},
     "output_type": "execute_result"
    }
   ],
   "source": [
    "# id or Value Both check\n",
    "a=[5,6,7]\n",
    "b=[5,6,7]\n",
    "b==a"
   ]
  },
  {
   "cell_type": "code",
   "execution_count": 70,
   "id": "veterinary-labor",
   "metadata": {},
   "outputs": [
    {
     "data": {
      "text/plain": [
       "2034229920008"
      ]
     },
     "execution_count": 70,
     "metadata": {},
     "output_type": "execute_result"
    }
   ],
   "source": [
    "id(a)"
   ]
  },
  {
   "cell_type": "code",
   "execution_count": 71,
   "id": "relative-moral",
   "metadata": {},
   "outputs": [
    {
     "data": {
      "text/plain": [
       "2034229904840"
      ]
     },
     "execution_count": 71,
     "metadata": {},
     "output_type": "execute_result"
    }
   ],
   "source": [
    "id(b)"
   ]
  },
  {
   "cell_type": "code",
   "execution_count": 50,
   "id": "exotic-locator",
   "metadata": {},
   "outputs": [
    {
     "data": {
      "text/plain": [
       "False"
      ]
     },
     "execution_count": 50,
     "metadata": {},
     "output_type": "execute_result"
    }
   ],
   "source": [
    "b==a"
   ]
  },
  {
   "cell_type": "code",
   "execution_count": 47,
   "id": "upset-burlington",
   "metadata": {},
   "outputs": [
    {
     "data": {
      "text/plain": [
       "False"
      ]
     },
     "execution_count": 47,
     "metadata": {},
     "output_type": "execute_result"
    }
   ],
   "source": [
    "5==\"5\""
   ]
  },
  {
   "cell_type": "markdown",
   "id": "alive-cotton",
   "metadata": {},
   "source": [
    "**Exp**"
   ]
  },
  {
   "cell_type": "code",
   "execution_count": 67,
   "id": "white-gibraltar",
   "metadata": {},
   "outputs": [
    {
     "data": {
      "text/html": [
       "<div>\n",
       "<style scoped>\n",
       "    .dataframe tbody tr th:only-of-type {\n",
       "        vertical-align: middle;\n",
       "    }\n",
       "\n",
       "    .dataframe tbody tr th {\n",
       "        vertical-align: top;\n",
       "    }\n",
       "\n",
       "    .dataframe thead th {\n",
       "        text-align: right;\n",
       "    }\n",
       "</style>\n",
       "<table border=\"1\" class=\"dataframe\">\n",
       "  <thead>\n",
       "    <tr style=\"text-align: right;\">\n",
       "      <th></th>\n",
       "      <th>todate</th>\n",
       "      <th>fromdate</th>\n",
       "    </tr>\n",
       "  </thead>\n",
       "  <tbody>\n",
       "    <tr>\n",
       "      <th>0</th>\n",
       "      <td>2014-01-24 13:03:12.050</td>\n",
       "      <td>2014-01-26 23:41:21.870</td>\n",
       "    </tr>\n",
       "    <tr>\n",
       "      <th>1</th>\n",
       "      <td>2014-01-27 11:57:18.240</td>\n",
       "      <td>2014-01-27 15:38:22.540</td>\n",
       "    </tr>\n",
       "    <tr>\n",
       "      <th>2</th>\n",
       "      <td>2014-01-23 10:07:47.660</td>\n",
       "      <td>2014-01-23 18:50:41.420</td>\n",
       "    </tr>\n",
       "  </tbody>\n",
       "</table>\n",
       "</div>"
      ],
      "text/plain": [
       "                   todate                fromdate\n",
       "0 2014-01-24 13:03:12.050 2014-01-26 23:41:21.870\n",
       "1 2014-01-27 11:57:18.240 2014-01-27 15:38:22.540\n",
       "2 2014-01-23 10:07:47.660 2014-01-23 18:50:41.420"
      ]
     },
     "execution_count": 67,
     "metadata": {},
     "output_type": "execute_result"
    }
   ],
   "source": [
    "data = {'todate': [pd.Timestamp('2014-01-24 13:03:12.050000'), pd.Timestamp('2014-01-27 11:57:18.240000'), pd.Timestamp('2014-01-23 10:07:47.660000')],\n",
    "        'fromdate': [pd.Timestamp('2014-01-26 23:41:21.870000'), pd.Timestamp('2014-01-27 15:38:22.540000'), pd.Timestamp('2014-01-23 18:50:41.420000')]}\n",
    "df = pd.DataFrame(data)\n",
    "df"
   ]
  },
  {
   "cell_type": "code",
   "execution_count": 69,
   "id": "stock-sword",
   "metadata": {},
   "outputs": [
    {
     "data": {
      "text/html": [
       "<div>\n",
       "<style scoped>\n",
       "    .dataframe tbody tr th:only-of-type {\n",
       "        vertical-align: middle;\n",
       "    }\n",
       "\n",
       "    .dataframe tbody tr th {\n",
       "        vertical-align: top;\n",
       "    }\n",
       "\n",
       "    .dataframe thead th {\n",
       "        text-align: right;\n",
       "    }\n",
       "</style>\n",
       "<table border=\"1\" class=\"dataframe\">\n",
       "  <thead>\n",
       "    <tr style=\"text-align: right;\">\n",
       "      <th></th>\n",
       "      <th>todate</th>\n",
       "      <th>fromdate</th>\n",
       "      <th>diff</th>\n",
       "    </tr>\n",
       "  </thead>\n",
       "  <tbody>\n",
       "    <tr>\n",
       "      <th>0</th>\n",
       "      <td>2014-01-24 13:03:12.050</td>\n",
       "      <td>2014-01-26 23:41:21.870</td>\n",
       "      <td>2 days 10:38:09.820000</td>\n",
       "    </tr>\n",
       "    <tr>\n",
       "      <th>1</th>\n",
       "      <td>2014-01-27 11:57:18.240</td>\n",
       "      <td>2014-01-27 15:38:22.540</td>\n",
       "      <td>0 days 03:41:04.300000</td>\n",
       "    </tr>\n",
       "    <tr>\n",
       "      <th>2</th>\n",
       "      <td>2014-01-23 10:07:47.660</td>\n",
       "      <td>2014-01-23 18:50:41.420</td>\n",
       "      <td>0 days 08:42:53.760000</td>\n",
       "    </tr>\n",
       "  </tbody>\n",
       "</table>\n",
       "</div>"
      ],
      "text/plain": [
       "                   todate                fromdate                   diff\n",
       "0 2014-01-24 13:03:12.050 2014-01-26 23:41:21.870 2 days 10:38:09.820000\n",
       "1 2014-01-27 11:57:18.240 2014-01-27 15:38:22.540 0 days 03:41:04.300000\n",
       "2 2014-01-23 10:07:47.660 2014-01-23 18:50:41.420 0 days 08:42:53.760000"
      ]
     },
     "execution_count": 69,
     "metadata": {},
     "output_type": "execute_result"
    }
   ],
   "source": [
    "df['diff'] = df['fromdate'] - df['todate']\n",
    "df"
   ]
  },
  {
   "cell_type": "markdown",
   "id": "multiple-cemetery",
   "metadata": {},
   "source": [
    "**Exp**"
   ]
  },
  {
   "cell_type": "code",
   "execution_count": 70,
   "id": "smooth-horizon",
   "metadata": {},
   "outputs": [
    {
     "data": {
      "text/html": [
       "<div>\n",
       "<style scoped>\n",
       "    .dataframe tbody tr th:only-of-type {\n",
       "        vertical-align: middle;\n",
       "    }\n",
       "\n",
       "    .dataframe tbody tr th {\n",
       "        vertical-align: top;\n",
       "    }\n",
       "\n",
       "    .dataframe thead th {\n",
       "        text-align: right;\n",
       "    }\n",
       "</style>\n",
       "<table border=\"1\" class=\"dataframe\">\n",
       "  <thead>\n",
       "    <tr style=\"text-align: right;\">\n",
       "      <th></th>\n",
       "      <th>A</th>\n",
       "    </tr>\n",
       "  </thead>\n",
       "  <tbody>\n",
       "    <tr>\n",
       "      <th>2018-04-09 00:00:00</th>\n",
       "      <td>1</td>\n",
       "    </tr>\n",
       "    <tr>\n",
       "      <th>2018-04-10 00:20:00</th>\n",
       "      <td>2</td>\n",
       "    </tr>\n",
       "    <tr>\n",
       "      <th>2018-04-11 00:40:00</th>\n",
       "      <td>3</td>\n",
       "    </tr>\n",
       "    <tr>\n",
       "      <th>2018-04-12 01:00:00</th>\n",
       "      <td>4</td>\n",
       "    </tr>\n",
       "  </tbody>\n",
       "</table>\n",
       "</div>"
      ],
      "text/plain": [
       "                     A\n",
       "2018-04-09 00:00:00  1\n",
       "2018-04-10 00:20:00  2\n",
       "2018-04-11 00:40:00  3\n",
       "2018-04-12 01:00:00  4"
      ]
     },
     "execution_count": 70,
     "metadata": {},
     "output_type": "execute_result"
    }
   ],
   "source": [
    "i = pd.date_range('2018-04-09', periods=4, freq='1D20min')\n",
    "ts = pd.DataFrame({'A': [1, 2, 3, 4]}, index=i)\n",
    "ts"
   ]
  },
  {
   "cell_type": "code",
   "execution_count": 72,
   "id": "mental-niagara",
   "metadata": {},
   "outputs": [
    {
     "data": {
      "text/html": [
       "<div>\n",
       "<style scoped>\n",
       "    .dataframe tbody tr th:only-of-type {\n",
       "        vertical-align: middle;\n",
       "    }\n",
       "\n",
       "    .dataframe tbody tr th {\n",
       "        vertical-align: top;\n",
       "    }\n",
       "\n",
       "    .dataframe thead th {\n",
       "        text-align: right;\n",
       "    }\n",
       "</style>\n",
       "<table border=\"1\" class=\"dataframe\">\n",
       "  <thead>\n",
       "    <tr style=\"text-align: right;\">\n",
       "      <th></th>\n",
       "      <th>A</th>\n",
       "    </tr>\n",
       "  </thead>\n",
       "  <tbody>\n",
       "    <tr>\n",
       "      <th>2018-04-10 00:20:00</th>\n",
       "      <td>2</td>\n",
       "    </tr>\n",
       "    <tr>\n",
       "      <th>2018-04-11 00:40:00</th>\n",
       "      <td>3</td>\n",
       "    </tr>\n",
       "  </tbody>\n",
       "</table>\n",
       "</div>"
      ],
      "text/plain": [
       "                     A\n",
       "2018-04-10 00:20:00  2\n",
       "2018-04-11 00:40:00  3"
      ]
     },
     "execution_count": 72,
     "metadata": {},
     "output_type": "execute_result"
    }
   ],
   "source": [
    "ts.between_time('0:15', '0:45')"
   ]
  },
  {
   "cell_type": "markdown",
   "id": "offshore-isaac",
   "metadata": {},
   "source": [
    "**Exp**"
   ]
  },
  {
   "cell_type": "code",
   "execution_count": 31,
   "id": "liked-purchase",
   "metadata": {},
   "outputs": [
    {
     "data": {
      "text/html": [
       "<div>\n",
       "<style scoped>\n",
       "    .dataframe tbody tr th:only-of-type {\n",
       "        vertical-align: middle;\n",
       "    }\n",
       "\n",
       "    .dataframe tbody tr th {\n",
       "        vertical-align: top;\n",
       "    }\n",
       "\n",
       "    .dataframe thead th {\n",
       "        text-align: right;\n",
       "    }\n",
       "</style>\n",
       "<table border=\"1\" class=\"dataframe\">\n",
       "  <thead>\n",
       "    <tr style=\"text-align: right;\">\n",
       "      <th></th>\n",
       "      <th>city</th>\n",
       "      <th>country</th>\n",
       "      <th>datetime</th>\n",
       "      <th>location</th>\n",
       "      <th>parameter</th>\n",
       "      <th>value</th>\n",
       "      <th>unit</th>\n",
       "    </tr>\n",
       "  </thead>\n",
       "  <tbody>\n",
       "    <tr>\n",
       "      <th>0</th>\n",
       "      <td>Paris</td>\n",
       "      <td>FR</td>\n",
       "      <td>2019-06-21 00:00:00+00:00</td>\n",
       "      <td>FR04014</td>\n",
       "      <td>no2</td>\n",
       "      <td>20.0</td>\n",
       "      <td>µg/m³</td>\n",
       "    </tr>\n",
       "    <tr>\n",
       "      <th>1</th>\n",
       "      <td>Paris</td>\n",
       "      <td>FR</td>\n",
       "      <td>2019-06-20 23:00:00+00:00</td>\n",
       "      <td>FR04014</td>\n",
       "      <td>no2</td>\n",
       "      <td>21.8</td>\n",
       "      <td>µg/m³</td>\n",
       "    </tr>\n",
       "    <tr>\n",
       "      <th>2</th>\n",
       "      <td>Paris</td>\n",
       "      <td>FR</td>\n",
       "      <td>2019-06-20 22:00:00+00:00</td>\n",
       "      <td>FR04014</td>\n",
       "      <td>no2</td>\n",
       "      <td>26.5</td>\n",
       "      <td>µg/m³</td>\n",
       "    </tr>\n",
       "    <tr>\n",
       "      <th>3</th>\n",
       "      <td>Paris</td>\n",
       "      <td>FR</td>\n",
       "      <td>2019-06-20 21:00:00+00:00</td>\n",
       "      <td>FR04014</td>\n",
       "      <td>no2</td>\n",
       "      <td>24.9</td>\n",
       "      <td>µg/m³</td>\n",
       "    </tr>\n",
       "    <tr>\n",
       "      <th>4</th>\n",
       "      <td>Paris</td>\n",
       "      <td>FR</td>\n",
       "      <td>2019-06-20 20:00:00+00:00</td>\n",
       "      <td>FR04014</td>\n",
       "      <td>no2</td>\n",
       "      <td>21.4</td>\n",
       "      <td>µg/m³</td>\n",
       "    </tr>\n",
       "    <tr>\n",
       "      <th>...</th>\n",
       "      <td>...</td>\n",
       "      <td>...</td>\n",
       "      <td>...</td>\n",
       "      <td>...</td>\n",
       "      <td>...</td>\n",
       "      <td>...</td>\n",
       "      <td>...</td>\n",
       "    </tr>\n",
       "    <tr>\n",
       "      <th>2063</th>\n",
       "      <td>London</td>\n",
       "      <td>GB</td>\n",
       "      <td>2019-05-07 06:00:00+00:00</td>\n",
       "      <td>London Westminster</td>\n",
       "      <td>no2</td>\n",
       "      <td>26.0</td>\n",
       "      <td>µg/m³</td>\n",
       "    </tr>\n",
       "    <tr>\n",
       "      <th>2064</th>\n",
       "      <td>London</td>\n",
       "      <td>GB</td>\n",
       "      <td>2019-05-07 04:00:00+00:00</td>\n",
       "      <td>London Westminster</td>\n",
       "      <td>no2</td>\n",
       "      <td>16.0</td>\n",
       "      <td>µg/m³</td>\n",
       "    </tr>\n",
       "    <tr>\n",
       "      <th>2065</th>\n",
       "      <td>London</td>\n",
       "      <td>GB</td>\n",
       "      <td>2019-05-07 03:00:00+00:00</td>\n",
       "      <td>London Westminster</td>\n",
       "      <td>no2</td>\n",
       "      <td>19.0</td>\n",
       "      <td>µg/m³</td>\n",
       "    </tr>\n",
       "    <tr>\n",
       "      <th>2066</th>\n",
       "      <td>London</td>\n",
       "      <td>GB</td>\n",
       "      <td>2019-05-07 02:00:00+00:00</td>\n",
       "      <td>London Westminster</td>\n",
       "      <td>no2</td>\n",
       "      <td>19.0</td>\n",
       "      <td>µg/m³</td>\n",
       "    </tr>\n",
       "    <tr>\n",
       "      <th>2067</th>\n",
       "      <td>London</td>\n",
       "      <td>GB</td>\n",
       "      <td>2019-05-07 01:00:00+00:00</td>\n",
       "      <td>London Westminster</td>\n",
       "      <td>no2</td>\n",
       "      <td>23.0</td>\n",
       "      <td>µg/m³</td>\n",
       "    </tr>\n",
       "  </tbody>\n",
       "</table>\n",
       "<p>2068 rows × 7 columns</p>\n",
       "</div>"
      ],
      "text/plain": [
       "        city country                   datetime            location parameter  \\\n",
       "0      Paris      FR  2019-06-21 00:00:00+00:00             FR04014       no2   \n",
       "1      Paris      FR  2019-06-20 23:00:00+00:00             FR04014       no2   \n",
       "2      Paris      FR  2019-06-20 22:00:00+00:00             FR04014       no2   \n",
       "3      Paris      FR  2019-06-20 21:00:00+00:00             FR04014       no2   \n",
       "4      Paris      FR  2019-06-20 20:00:00+00:00             FR04014       no2   \n",
       "...      ...     ...                        ...                 ...       ...   \n",
       "2063  London      GB  2019-05-07 06:00:00+00:00  London Westminster       no2   \n",
       "2064  London      GB  2019-05-07 04:00:00+00:00  London Westminster       no2   \n",
       "2065  London      GB  2019-05-07 03:00:00+00:00  London Westminster       no2   \n",
       "2066  London      GB  2019-05-07 02:00:00+00:00  London Westminster       no2   \n",
       "2067  London      GB  2019-05-07 01:00:00+00:00  London Westminster       no2   \n",
       "\n",
       "      value   unit  \n",
       "0      20.0  µg/m³  \n",
       "1      21.8  µg/m³  \n",
       "2      26.5  µg/m³  \n",
       "3      24.9  µg/m³  \n",
       "4      21.4  µg/m³  \n",
       "...     ...    ...  \n",
       "2063   26.0  µg/m³  \n",
       "2064   16.0  µg/m³  \n",
       "2065   19.0  µg/m³  \n",
       "2066   19.0  µg/m³  \n",
       "2067   23.0  µg/m³  \n",
       "\n",
       "[2068 rows x 7 columns]"
      ]
     },
     "execution_count": 31,
     "metadata": {},
     "output_type": "execute_result"
    }
   ],
   "source": [
    "air_quality = pd.read_csv(\"_dataset/air_quality_no2_long.csv\")\n",
    "air_quality = air_quality.rename(columns={\"date.utc\": \"datetime\"})\n",
    "air_quality"
   ]
  },
  {
   "cell_type": "code",
   "execution_count": 33,
   "id": "concerned-caribbean",
   "metadata": {},
   "outputs": [
    {
     "data": {
      "text/plain": [
       "dtype('O')"
      ]
     },
     "execution_count": 33,
     "metadata": {},
     "output_type": "execute_result"
    }
   ],
   "source": [
    "np.dtype(air_quality[\"datetime\"])"
   ]
  },
  {
   "cell_type": "code",
   "execution_count": 35,
   "id": "quiet-paraguay",
   "metadata": {},
   "outputs": [
    {
     "data": {
      "text/plain": [
       "0       <class 'str'>\n",
       "1       <class 'str'>\n",
       "2       <class 'str'>\n",
       "3       <class 'str'>\n",
       "4       <class 'str'>\n",
       "            ...      \n",
       "2063    <class 'str'>\n",
       "2064    <class 'str'>\n",
       "2065    <class 'str'>\n",
       "2066    <class 'str'>\n",
       "2067    <class 'str'>\n",
       "Name: datetime, Length: 2068, dtype: object"
      ]
     },
     "execution_count": 35,
     "metadata": {},
     "output_type": "execute_result"
    }
   ],
   "source": [
    "air_quality.datetime.map(type)"
   ]
  },
  {
   "cell_type": "code",
   "execution_count": 36,
   "id": "southwest-congo",
   "metadata": {},
   "outputs": [],
   "source": [
    "air_quality[\"datetime\"] = pd.to_datetime(air_quality[\"datetime\"])"
   ]
  },
  {
   "cell_type": "code",
   "execution_count": 37,
   "id": "further-forum",
   "metadata": {},
   "outputs": [
    {
     "data": {
      "text/plain": [
       "0       <class 'pandas._libs.tslibs.timestamps.Timesta...\n",
       "1       <class 'pandas._libs.tslibs.timestamps.Timesta...\n",
       "2       <class 'pandas._libs.tslibs.timestamps.Timesta...\n",
       "3       <class 'pandas._libs.tslibs.timestamps.Timesta...\n",
       "4       <class 'pandas._libs.tslibs.timestamps.Timesta...\n",
       "                              ...                        \n",
       "2063    <class 'pandas._libs.tslibs.timestamps.Timesta...\n",
       "2064    <class 'pandas._libs.tslibs.timestamps.Timesta...\n",
       "2065    <class 'pandas._libs.tslibs.timestamps.Timesta...\n",
       "2066    <class 'pandas._libs.tslibs.timestamps.Timesta...\n",
       "2067    <class 'pandas._libs.tslibs.timestamps.Timesta...\n",
       "Name: datetime, Length: 2068, dtype: object"
      ]
     },
     "execution_count": 37,
     "metadata": {},
     "output_type": "execute_result"
    }
   ],
   "source": [
    "air_quality.datetime.map(type)"
   ]
  },
  {
   "cell_type": "code",
   "execution_count": 79,
   "id": "taken-feature",
   "metadata": {},
   "outputs": [
    {
     "data": {
      "text/plain": [
       "0   2019-06-21 00:00:00+00:00\n",
       "1   2019-06-20 23:00:00+00:00\n",
       "2   2019-06-20 22:00:00+00:00\n",
       "3   2019-06-20 21:00:00+00:00\n",
       "4   2019-06-20 20:00:00+00:00\n",
       "Name: datetime, dtype: datetime64[ns, UTC]"
      ]
     },
     "execution_count": 79,
     "metadata": {},
     "output_type": "execute_result"
    }
   ],
   "source": [
    "air_quality[\"datetime\"].head()"
   ]
  },
  {
   "cell_type": "code",
   "execution_count": 80,
   "id": "comfortable-bachelor",
   "metadata": {},
   "outputs": [
    {
     "data": {
      "text/plain": [
       "(Timestamp('2019-05-07 01:00:00+0000', tz='UTC'),\n",
       " Timestamp('2019-06-21 00:00:00+0000', tz='UTC'))"
      ]
     },
     "execution_count": 80,
     "metadata": {},
     "output_type": "execute_result"
    }
   ],
   "source": [
    "air_quality[\"datetime\"].min(), air_quality[\"datetime\"].max()"
   ]
  },
  {
   "cell_type": "code",
   "execution_count": 82,
   "id": "interim-carol",
   "metadata": {},
   "outputs": [
    {
     "data": {
      "text/html": [
       "<div>\n",
       "<style scoped>\n",
       "    .dataframe tbody tr th:only-of-type {\n",
       "        vertical-align: middle;\n",
       "    }\n",
       "\n",
       "    .dataframe tbody tr th {\n",
       "        vertical-align: top;\n",
       "    }\n",
       "\n",
       "    .dataframe thead th {\n",
       "        text-align: right;\n",
       "    }\n",
       "</style>\n",
       "<table border=\"1\" class=\"dataframe\">\n",
       "  <thead>\n",
       "    <tr style=\"text-align: right;\">\n",
       "      <th></th>\n",
       "      <th>city</th>\n",
       "      <th>country</th>\n",
       "      <th>datetime</th>\n",
       "      <th>location</th>\n",
       "      <th>parameter</th>\n",
       "      <th>value</th>\n",
       "      <th>unit</th>\n",
       "      <th>month</th>\n",
       "    </tr>\n",
       "  </thead>\n",
       "  <tbody>\n",
       "    <tr>\n",
       "      <th>0</th>\n",
       "      <td>Paris</td>\n",
       "      <td>FR</td>\n",
       "      <td>2019-06-21 00:00:00+00:00</td>\n",
       "      <td>FR04014</td>\n",
       "      <td>no2</td>\n",
       "      <td>20.0</td>\n",
       "      <td>µg/m³</td>\n",
       "      <td>6</td>\n",
       "    </tr>\n",
       "    <tr>\n",
       "      <th>1</th>\n",
       "      <td>Paris</td>\n",
       "      <td>FR</td>\n",
       "      <td>2019-06-20 23:00:00+00:00</td>\n",
       "      <td>FR04014</td>\n",
       "      <td>no2</td>\n",
       "      <td>21.8</td>\n",
       "      <td>µg/m³</td>\n",
       "      <td>6</td>\n",
       "    </tr>\n",
       "    <tr>\n",
       "      <th>2</th>\n",
       "      <td>Paris</td>\n",
       "      <td>FR</td>\n",
       "      <td>2019-06-20 22:00:00+00:00</td>\n",
       "      <td>FR04014</td>\n",
       "      <td>no2</td>\n",
       "      <td>26.5</td>\n",
       "      <td>µg/m³</td>\n",
       "      <td>6</td>\n",
       "    </tr>\n",
       "    <tr>\n",
       "      <th>3</th>\n",
       "      <td>Paris</td>\n",
       "      <td>FR</td>\n",
       "      <td>2019-06-20 21:00:00+00:00</td>\n",
       "      <td>FR04014</td>\n",
       "      <td>no2</td>\n",
       "      <td>24.9</td>\n",
       "      <td>µg/m³</td>\n",
       "      <td>6</td>\n",
       "    </tr>\n",
       "    <tr>\n",
       "      <th>4</th>\n",
       "      <td>Paris</td>\n",
       "      <td>FR</td>\n",
       "      <td>2019-06-20 20:00:00+00:00</td>\n",
       "      <td>FR04014</td>\n",
       "      <td>no2</td>\n",
       "      <td>21.4</td>\n",
       "      <td>µg/m³</td>\n",
       "      <td>6</td>\n",
       "    </tr>\n",
       "    <tr>\n",
       "      <th>...</th>\n",
       "      <td>...</td>\n",
       "      <td>...</td>\n",
       "      <td>...</td>\n",
       "      <td>...</td>\n",
       "      <td>...</td>\n",
       "      <td>...</td>\n",
       "      <td>...</td>\n",
       "      <td>...</td>\n",
       "    </tr>\n",
       "    <tr>\n",
       "      <th>2063</th>\n",
       "      <td>London</td>\n",
       "      <td>GB</td>\n",
       "      <td>2019-05-07 06:00:00+00:00</td>\n",
       "      <td>London Westminster</td>\n",
       "      <td>no2</td>\n",
       "      <td>26.0</td>\n",
       "      <td>µg/m³</td>\n",
       "      <td>5</td>\n",
       "    </tr>\n",
       "    <tr>\n",
       "      <th>2064</th>\n",
       "      <td>London</td>\n",
       "      <td>GB</td>\n",
       "      <td>2019-05-07 04:00:00+00:00</td>\n",
       "      <td>London Westminster</td>\n",
       "      <td>no2</td>\n",
       "      <td>16.0</td>\n",
       "      <td>µg/m³</td>\n",
       "      <td>5</td>\n",
       "    </tr>\n",
       "    <tr>\n",
       "      <th>2065</th>\n",
       "      <td>London</td>\n",
       "      <td>GB</td>\n",
       "      <td>2019-05-07 03:00:00+00:00</td>\n",
       "      <td>London Westminster</td>\n",
       "      <td>no2</td>\n",
       "      <td>19.0</td>\n",
       "      <td>µg/m³</td>\n",
       "      <td>5</td>\n",
       "    </tr>\n",
       "    <tr>\n",
       "      <th>2066</th>\n",
       "      <td>London</td>\n",
       "      <td>GB</td>\n",
       "      <td>2019-05-07 02:00:00+00:00</td>\n",
       "      <td>London Westminster</td>\n",
       "      <td>no2</td>\n",
       "      <td>19.0</td>\n",
       "      <td>µg/m³</td>\n",
       "      <td>5</td>\n",
       "    </tr>\n",
       "    <tr>\n",
       "      <th>2067</th>\n",
       "      <td>London</td>\n",
       "      <td>GB</td>\n",
       "      <td>2019-05-07 01:00:00+00:00</td>\n",
       "      <td>London Westminster</td>\n",
       "      <td>no2</td>\n",
       "      <td>23.0</td>\n",
       "      <td>µg/m³</td>\n",
       "      <td>5</td>\n",
       "    </tr>\n",
       "  </tbody>\n",
       "</table>\n",
       "<p>2068 rows × 8 columns</p>\n",
       "</div>"
      ],
      "text/plain": [
       "        city country                  datetime            location parameter  \\\n",
       "0      Paris      FR 2019-06-21 00:00:00+00:00             FR04014       no2   \n",
       "1      Paris      FR 2019-06-20 23:00:00+00:00             FR04014       no2   \n",
       "2      Paris      FR 2019-06-20 22:00:00+00:00             FR04014       no2   \n",
       "3      Paris      FR 2019-06-20 21:00:00+00:00             FR04014       no2   \n",
       "4      Paris      FR 2019-06-20 20:00:00+00:00             FR04014       no2   \n",
       "...      ...     ...                       ...                 ...       ...   \n",
       "2063  London      GB 2019-05-07 06:00:00+00:00  London Westminster       no2   \n",
       "2064  London      GB 2019-05-07 04:00:00+00:00  London Westminster       no2   \n",
       "2065  London      GB 2019-05-07 03:00:00+00:00  London Westminster       no2   \n",
       "2066  London      GB 2019-05-07 02:00:00+00:00  London Westminster       no2   \n",
       "2067  London      GB 2019-05-07 01:00:00+00:00  London Westminster       no2   \n",
       "\n",
       "      value   unit  month  \n",
       "0      20.0  µg/m³      6  \n",
       "1      21.8  µg/m³      6  \n",
       "2      26.5  µg/m³      6  \n",
       "3      24.9  µg/m³      6  \n",
       "4      21.4  µg/m³      6  \n",
       "...     ...    ...    ...  \n",
       "2063   26.0  µg/m³      5  \n",
       "2064   16.0  µg/m³      5  \n",
       "2065   19.0  µg/m³      5  \n",
       "2066   19.0  µg/m³      5  \n",
       "2067   23.0  µg/m³      5  \n",
       "\n",
       "[2068 rows x 8 columns]"
      ]
     },
     "execution_count": 82,
     "metadata": {},
     "output_type": "execute_result"
    }
   ],
   "source": [
    "air_quality[\"month\"] = air_quality[\"datetime\"].dt.month\n",
    "air_quality"
   ]
  },
  {
   "cell_type": "code",
   "execution_count": 83,
   "id": "olive-auction",
   "metadata": {},
   "outputs": [
    {
     "data": {
      "text/plain": [
       "datetime  location          \n",
       "0         BETR801               27.875000\n",
       "          FR04014               24.856250\n",
       "          London Westminster    23.969697\n",
       "1         BETR801               22.214286\n",
       "          FR04014               30.999359\n",
       "          London Westminster    24.885714\n",
       "2         BETR801               21.125000\n",
       "          FR04014               29.165753\n",
       "          London Westminster    23.460432\n",
       "3         BETR801               27.500000\n",
       "          FR04014               28.600690\n",
       "          London Westminster    24.780142\n",
       "4         BETR801               28.400000\n",
       "          FR04014               31.617986\n",
       "          London Westminster    26.446809\n",
       "5         BETR801               33.500000\n",
       "          FR04014               25.266154\n",
       "          London Westminster    24.977612\n",
       "6         BETR801               21.896552\n",
       "          FR04014               23.274306\n",
       "          London Westminster    24.859155\n",
       "Name: value, dtype: float64"
      ]
     },
     "execution_count": 83,
     "metadata": {},
     "output_type": "execute_result"
    }
   ],
   "source": [
    "air_quality.groupby([air_quality[\"datetime\"].dt.weekday, \"location\"])[\"value\"].mean()"
   ]
  },
  {
   "cell_type": "code",
   "execution_count": 85,
   "id": "wooden-store",
   "metadata": {},
   "outputs": [
    {
     "data": {
      "text/plain": [
       "<AxesSubplot:xlabel='datetime'>"
      ]
     },
     "execution_count": 85,
     "metadata": {},
     "output_type": "execute_result"
    },
    {
     "data": {
      "image/png": "[encoded data removed]",
      "text/plain": [
       "<Figure size 864x288 with 1 Axes>"
      ]
     },
     "metadata": {
      "needs_background": "light"
     },
     "output_type": "display_data"
    }
   ],
   "source": [
    "fig, axs = plt.subplots(figsize=(12, 4))\n",
    "air_quality.groupby(air_quality[\"datetime\"].dt.hour)[\"value\"].mean().plot( kind='bar', rot=0, ax=axs )"
   ]
  },
  {
   "cell_type": "code",
   "execution_count": null,
   "id": "unknown-vampire",
   "metadata": {},
   "outputs": [],
   "source": []
  }
 ],
 "metadata": {
  "kernelspec": {
   "display_name": "Python 3",
   "language": "python",
   "name": "python3"
  },
  "language_info": {
   "codemirror_mode": {
    "name": "ipython",
    "version": 3
   },
   "file_extension": ".py",
   "mimetype": "text/x-python",
   "name": "python",
   "nbconvert_exporter": "python",
   "pygments_lexer": "ipython3",
   "version": "3.8.5"
  }
 },
 "nbformat": 4,
 "nbformat_minor": 5
}
