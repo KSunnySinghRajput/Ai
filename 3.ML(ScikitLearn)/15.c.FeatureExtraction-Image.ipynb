{
 "cells": [
  {
   "cell_type": "code",
   "execution_count": null,
   "metadata": {},
   "outputs": [],
   "source": [
    "import cv2\n",
    "import numpy as np\n",
    "import os"
   ]
  },
  {
   "cell_type": "code",
   "execution_count": null,
   "metadata": {},
   "outputs": [],
   "source": [
    "images=[]\n",
    "labels=[]\n",
    "for i in range(1,4):   #1,2,3\n",
    "    for j in os.listdir(f'{i}'):\n",
    "        img=cv2.imread(f'{i}/'+str(j),cv2.IMREAD_GRAYSCALE)\n",
    "        #img=img.flatten()  # 2D shape(28x28) -->1D shape(784)\n",
    "        images.append(img)\n",
    "        labels.append(i)"
   ]
  },
  {
   "cell_type": "code",
   "execution_count": null,
   "metadata": {},
   "outputs": [],
   "source": [
    "print(\"Image size : \"+str(cv2.imread('1/0.png',cv2.IMREAD_GRAYSCALE).shape)) #sample\n",
    "print(\"Total image : \"+str(len(images)))   #18831 Total Image and index"
   ]
  },
  {
   "cell_type": "code",
   "execution_count": null,
   "metadata": {},
   "outputs": [],
   "source": [
    "X=np.array(images)  #shape (18831, (28, 28))\n",
    "y=np.array(labels)  #shape (18831,)"
   ]
  },
  {
   "cell_type": "code",
   "execution_count": null,
   "metadata": {},
   "outputs": [],
   "source": [
    "print('X:-'+str(X.shape)) \n",
    "print('y:-'+str(y.shape))"
   ]
  },
  {
   "cell_type": "code",
   "execution_count": null,
   "metadata": {},
   "outputs": [],
   "source": [
    "X=X.reshape(len(X),-1)"
   ]
  },
  {
   "cell_type": "code",
   "execution_count": null,
   "metadata": {},
   "outputs": [],
   "source": [
    "X.shape"
   ]
  },
  {
   "cell_type": "code",
   "execution_count": null,
   "metadata": {},
   "outputs": [],
   "source": [
    "from sklearn.decomposition import PCA\n",
    "pca=PCA(.99)\n",
    "new_x=pca.fit_transform(X)"
   ]
  },
  {
   "cell_type": "code",
   "execution_count": null,
   "metadata": {},
   "outputs": [],
   "source": [
    "new_x.shape"
   ]
  },
  {
   "cell_type": "code",
   "execution_count": null,
   "metadata": {},
   "outputs": [],
   "source": [
    "from sklearn.linear_model import LogisticRegression\n",
    "lr=LogisticRegressionsolver='lbfgs', multi_class='ovr')"
   ]
  },
  {
   "cell_type": "code",
   "execution_count": null,
   "metadata": {},
   "outputs": [],
   "source": [
    "lr.fit(new_x,y)"
   ]
  },
  {
   "cell_type": "markdown",
   "metadata": {},
   "source": [
    "#### Test Sample"
   ]
  },
  {
   "cell_type": "code",
   "execution_count": null,
   "metadata": {},
   "outputs": [],
   "source": [
    "test_img=cv2.imread('c:/dataset/1.png')\n",
    "test_gray=cv2.cvtColor(test_img,cv2.COLOR_BGR2GRAY)\n",
    "test_gray=test_gray.reshape(1,-1)\n",
    "test_X=pca.transform(test_gray)\n",
    "lr.predict(test_X)"
   ]
  },
  {
   "cell_type": "code",
   "execution_count": null,
   "metadata": {},
   "outputs": [],
   "source": [
    "test_img=cv2.imread('c:/dataset/2.png')\n",
    "test_gray=cv2.cvtColor(test_img,cv2.COLOR_BGR2GRAY)\n",
    "test_gray=test_gray.reshape(1,-1)\n",
    "test_X=pca.transform(test_gray)\n",
    "lr.predict(test_X)"
   ]
  },
  {
   "cell_type": "code",
   "execution_count": null,
   "metadata": {},
   "outputs": [],
   "source": [
    "test_img=cv2.imread('c:/dataset/3.png')\n",
    "test_gray=cv2.cvtColor(test_img,cv2.COLOR_BGR2GRAY)\n",
    "test_gray=test_gray.reshape(1,-1)\n",
    "test_X=pca.transform(test_gray)\n",
    "lr.predict(test_X)"
   ]
  },
  {
   "cell_type": "code",
   "execution_count": null,
   "metadata": {},
   "outputs": [],
   "source": []
  }
 ],
 "metadata": {
  "kernelspec": {
   "display_name": "Python 3",
   "language": "python",
   "name": "python3"
  },
  "language_info": {
   "codemirror_mode": {
    "name": "ipython",
    "version": 3
   },
   "file_extension": ".py",
   "mimetype": "text/x-python",
   "name": "python",
   "nbconvert_exporter": "python",
   "pygments_lexer": "ipython3",
   "version": "3.7.8"
  }
 },
 "nbformat": 4,
 "nbformat_minor": 2
}
