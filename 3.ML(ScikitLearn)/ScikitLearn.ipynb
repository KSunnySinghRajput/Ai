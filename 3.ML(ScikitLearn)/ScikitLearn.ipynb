{
 "cells": [
  {
   "cell_type": "code",
   "execution_count": 1,
   "id": "operational-favorite",
   "metadata": {},
   "outputs": [
    {
     "name": "stdout",
     "output_type": "stream",
     "text": [
      "Requirement already satisfied: scikit-learn in d:\\pythonenv\\base3.7\\lib\\site-packages (0.24.1)\n",
      "Requirement already satisfied: joblib>=0.11 in d:\\pythonenv\\base3.7\\lib\\site-packages (from scikit-learn) (1.0.0)\n",
      "Requirement already satisfied: scipy>=0.19.1 in d:\\pythonenv\\base3.7\\lib\\site-packages (from scikit-learn) (1.4.1)\n",
      "Requirement already satisfied: threadpoolctl>=2.0.0 in d:\\pythonenv\\base3.7\\lib\\site-packages (from scikit-learn) (2.1.0)\n",
      "Requirement already satisfied: numpy>=1.13.3 in d:\\pythonenv\\base3.7\\lib\\site-packages (from scikit-learn) (1.19.5)\n",
      "Note: you may need to restart the kernel to use updated packages.\n"
     ]
    }
   ],
   "source": [
    "pip install -U scikit-learn"
   ]
  },
  {
   "cell_type": "code",
   "execution_count": 28,
   "id": "colored-payroll",
   "metadata": {},
   "outputs": [
    {
     "data": {
      "text/plain": [
       "'0.24.1'"
      ]
     },
     "execution_count": 28,
     "metadata": {},
     "output_type": "execute_result"
    }
   ],
   "source": [
    "import numpy as np\n",
    "import sklearn as sk \n",
    "sk.__version__\n"
   ]
  },
  {
   "cell_type": "markdown",
   "id": "capable-somerset",
   "metadata": {},
   "source": [
    "# [Scikit Learn](https://scikit-learn.org/stable/)\n",
    "\n",
    "1. [Supervised learning](https://scikit-learn.org/stable/supervised_learning.html)\n",
    "    1. [Linear Models](https://scikit-learn.org/stable/modules/linear_model.html)\n",
    "    2. [Linear and Quadratic Discriminant Analysis](https://scikit-learn.org/stable/modules/lda_qda.html)\n",
    "    3. [Kernel ridge regression](https://scikit-learn.org/stable/modules/kernel_ridge.html)\n",
    "    4. [Support Vector Machines](https://scikit-learn.org/stable/modules/svm.html)\n",
    "    5. [Stochastic Gradient Descent](https://scikit-learn.org/stable/modules/sgd.html)\n",
    "    6. [Nearest Neighbors](https://scikit-learn.org/stable/modules/neighbors.html)\n",
    "    7. [Gaussian Processes](https://scikit-learn.org/stable/modules/gaussian_process.html)\n",
    "    8. [Cross decomposition](https://scikit-learn.org/stable/modules/cross_decomposition.html)\n",
    "    9. [Naive Bayes](https://scikit-learn.org/stable/modules/naive_bayes.html)\n",
    "    10. [Decision Trees](https://scikit-learn.org/stable/modules/tree.html)\n",
    "    11. [Ensemble methods](https://scikit-learn.org/stable/modules/ensemble.html)\n",
    "    12. [Multiclass and multioutput algorithms](https://scikit-learn.org/stable/modules/multiclass.html)\n",
    "    13. [Feature selection](https://scikit-learn.org/stable/modules/feature_selection.html)\n",
    "    14. [Semi-supervised learning](https://scikit-learn.org/stable/modules/semi_supervised.html)\n",
    "    15. [Isotonic regression](https://scikit-learn.org/stable/modules/isotonic.html)\n",
    "    16. [Probability calibration](https://scikit-learn.org/stable/modules/calibration.html)\n",
    "    17. [Neural network models (supervised)](https://scikit-learn.org/stable/modules/neural_networks_supervised.html)\n",
    "    \n",
    "2. [Unsupervised learning](https://scikit-learn.org/stable/unsupervised_learning.html)\n",
    "    1. [Gaussian mixture models](https://scikit-learn.org/stable/modules/mixture.html)\n",
    "    2. [Manifold learning](https://scikit-learn.org/stable/modules/manifold.html)\n",
    "    3. [Clustering](https://scikit-learn.org/stable/modules/clustering.html)\n",
    "    4. [Biclustering](https://scikit-learn.org/stable/modules/biclustering.html)\n",
    "    5. [Decomposing signals in components (matrix factorization problems)](https://scikit-learn.org/stable/modules/decomposition.html)\n",
    "    6. [Covariance estimation](https://scikit-learn.org/stable/modules/covariance.html)\n",
    "    7. [Novelty and Outlier Detection](https://scikit-learn.org/stable/modules/outlier_detection.html)\n",
    "    8. [Density Estimation](https://scikit-learn.org/stable/modules/density.html)\n",
    "    9. [Neural network models (unsupervised)](https://scikit-learn.org/stable/modules/neural_networks_unsupervised.html)\n",
    "3. [Model selection and evaluation](https://scikit-learn.org/stable/model_selection.html)\n",
    "    1. [Cross-validation: evaluating estimator performance](https://scikit-learn.org/stable/modules/cross_validation.html)\n",
    "    2. [Tuning the hyper-parameters of an estimator](https://scikit-learn.org/stable/modules/grid_search.html)\n",
    "    3. [Metrics and scoring: quantifying the quality of predictions](https://scikit-learn.org/stable/modules/model_evaluation.html)\n",
    "    4. [Validation curves: plotting scores to evaluate models](https://scikit-learn.org/stable/modules/model_evaluation.html)\n",
    "4. [Inspection](https://scikit-learn.org/stable/inspection.html)\n",
    "    1. [Partial Dependence and Individual Conditional Expectation plots](https://scikit-learn.org/stable/modules/partial_dependence.html)\n",
    "    2. [Permutation feature importance](https://scikit-learn.org/stable/modules/permutation_importance.html)\n",
    "5. [Visualizations](https://scikit-learn.org/stable/visualizations.html)\n",
    "    1. Available Plotting Utilities\n",
    "6. [Dataset transformations](https://scikit-learn.org/stable/data_transforms.html)\n",
    "    1. [Pipelines and composite estimators](https://scikit-learn.org/stable/modules/compose.html)\n",
    "    2. [Feature extraction](https://scikit-learn.org/stable/modules/feature_extraction.html)\n",
    "    3. [Preprocessing data](https://scikit-learn.org/stable/modules/preprocessing.html)\n",
    "    4. [Imputation of missing values](https://scikit-learn.org/stable/modules/impute.html)\n",
    "    5. [Unsupervised dimensionality reduction](https://scikit-learn.org/stable/modules/unsupervised_reduction.html)\n",
    "    6. [Random Projection](https://scikit-learn.org/stable/modules/random_projection.html)\n",
    "    7. [Kernel Approximation](https://scikit-learn.org/stable/modules/kernel_approximation.html)\n",
    "    8. [Pairwise metrics, Affinities and Kernels](https://scikit-learn.org/stable/modules/metrics.html)\n",
    "    9. [Transforming the prediction target (y)](https://scikit-learn.org/stable/modules/preprocessing_targets.html)\n",
    "7. Dataset loading utilities\n",
    "    1. [Toy datasets](https://scikit-learn.org/dev/datasets/toy_dataset.html)\n",
    "    2. [Real world datasets](https://scikit-learn.org/dev/datasets/real_world.html)\n",
    "    3. [Generated datasets](https://scikit-learn.org/dev/datasets/sample_generators.html)\n",
    "    4. [Loading other datasets](https://scikit-learn.org/dev/datasets/loading_other_datasets.html)\n",
    "8. Computing with scikit-learn\n",
    "    1. [Strategies to scale computationally: bigger data](https://scikit-learn.org/dev/computing/scaling_strategies.html)\n",
    "    2. [Computational Performance](https://scikit-learn.org/dev/computing/computational_performance.html)\n",
    "    3. [Parallelism, resource management, and configuration](https://scikit-learn.org/dev/computing/parallelism.html)\n",
    "9. [Model persistence](https://scikit-learn.org/stable/modules/model_persistence.html)\n",
    "    1. Python specific serialization\n",
    "    2. Interoperable formats\n",
    "10. [Common pitfalls and recommended practices](https://scikit-learn.org/dev/common_pitfalls.html)\n",
    "    1. Inconsistent preprocessing\n",
    "    2. Data leakage\n",
    "    3. Controlling randomness"
   ]
  }
 ],
 "metadata": {
  "kernelspec": {
   "display_name": "Python 3",
   "language": "python",
   "name": "python3"
  },
  "language_info": {
   "codemirror_mode": {
    "name": "ipython",
    "version": 3
   },
   "file_extension": ".py",
   "mimetype": "text/x-python",
   "name": "python",
   "nbconvert_exporter": "python",
   "pygments_lexer": "ipython3",
   "version": "3.7.8"
  }
 },
 "nbformat": 4,
 "nbformat_minor": 5
}
