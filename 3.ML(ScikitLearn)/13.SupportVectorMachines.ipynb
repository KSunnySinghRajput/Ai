{
 "cells": [
  {
   "cell_type": "markdown",
   "metadata": {},
   "source": [
    "# <center><u> Support Vector Machines</u></center>\n",
    "\n",
    "- Very popular and widely used supervised learning classification algorithm\n",
    "- The great benefit: it can operates even in infinite dimension\n",
    "- SVM finds a hyperplane or decision surface or (line) that leads to a homogeneous partition of data\n",
    "- A good separation is achieved by the hyperplane that has largest distance to the nearest training data points of any class\n",
    "- so we have to maximize the margin\n",
    "- performs classification by finding the hyperplane that maximize the margin between two classes\n",
    "\n",
    "![](_pic/img-SupportVectorMachines/svm1.png)\n",
    "**Goal is:**\n",
    "classifiy the data points by finding the straight line ( or hyper-plane ) that differentiate the two classes with **maximum margin**\n",
    "Hyperplane might be this...\n",
    "![](_pic/img-SupportVectorMachines/svm2.png)\n",
    "![](_pic/img-SupportVectorMachines/svm3.png)\n",
    "![](_pic/img-SupportVectorMachines/svm4.png)"
   ]
  },
  {
   "cell_type": "code",
   "execution_count": 2,
   "metadata": {},
   "outputs": [
    {
     "data": {
      "image/png": "[encoded data removed]",
      "text/plain": [
       "<Figure size 432x288 with 1 Axes>"
      ]
     },
     "metadata": {
      "needs_background": "light"
     },
     "output_type": "display_data"
    }
   ],
   "source": [
    "#How to find hyperplane when problem is linearly separable\n",
    "import numpy as np\n",
    "import matplotlib.pyplot as plt\n",
    "x1=[1,2,5,4,3,8,3,9,6]\n",
    "x2 =[6,3,8,2,4,8,2,11,6]\n",
    "y=[1,1,0,1,1,0,1,0,0]\n",
    "plt.scatter(x1,x2,c=y)\n",
    "plt.xlabel('X1')\n",
    "plt.ylabel('X2')\n",
    "plt.show()"
   ]
  },
  {
   "cell_type": "markdown",
   "metadata": {},
   "source": [
    "- Here a line easily separate these data points so hyperplane is a line\n",
    "\n",
    "<center style=\"font-size:160%;\">$clf = SVC(C=1.0,kernel= 'linear')$</center>\n",
    "\n",
    "and line:\n",
    "\n",
    "<center style=\"font-size:120%;\">$mX+b$</center>\n",
    "<center style=\"font-size:120%;\">or</center>\n",
    "<center style=\"font-size:120%;\">$wX+b$</center>\n",
    "here w or m is weight of feature x\n",
    "\n",
    "- if we have 2 features then line:\n",
    "<center style=\"font-size:120%;\">$m_1X_1+m_2X_2+b$</center>\n",
    "<center>or</center>\n",
    "<center style=\"font-size:120%;\">$w_1X_1+w_2X_2+b$</center>\n",
    "- similarly for n features\n",
    "<center style=\"font-size:120%;\">$m_1X_1+m_2X_2+………..m_nX_n+ b$</center>\n",
    "<center>or</center>\n",
    "<center style=\"font-size:120%;\">$w_1X_1+w_2X_2+……+w_nX_n +b$</center>\n",
    "\n",
    "OR\n",
    "## <center>$\\vec{w}*\\vec{x}+b$</center>\n",
    "If we have 2 classes then\n",
    "## <center>$\\vec{w}*\\vec{x}+b\\geq+1$</center>\n",
    "testing data points to class 1\n",
    "And,\n",
    "## <center>$\\vec{w}*\\vec{x}+b\\leq-1$</center>\n",
    " more $precisely < -1$  testing data points to class 0\n",
    "Role of C parameter:\n",
    "![](img/img-SupportVectorMachines/svm5.PNG)\n",
    "Role of C parameter:\n",
    "![](img/img-SupportVectorMachines/svm6.PNG)"
   ]
  },
  {
   "cell_type": "code",
   "execution_count": 6,
   "metadata": {},
   "outputs": [
    {
     "data": {
      "image/png": "[encoded data removed]",
      "text/plain": [
       "<Figure size 432x288 with 1 Axes>"
      ]
     },
     "metadata": {
      "needs_background": "light"
     },
     "output_type": "display_data"
    }
   ],
   "source": [
    "#How to find hyperplane when problem is non-linearly separable\n",
    "import numpy as np\n",
    "import matplotlib.pyplot as plt\n",
    "x1=[1,2,5,4,3,8,3,2,6,3,7,7]\n",
    "x2 =[6,3,8,2,4,8,2,1,6,1,7,5]\n",
    "y=[1,1,0,1,1,0,1,0,0,0,1,1]\n",
    "plt.scatter(x1,x2,c=y)\n",
    "plt.xlabel('X1')\n",
    "plt.ylabel('X2')\n",
    "plt.show()"
   ]
  },
  {
   "cell_type": "markdown",
   "metadata": {},
   "source": [
    "clf = SVC(kernel='rbf') // (Radial basis function)\n",
    "\n",
    "**In this case value of y is given by:**\n",
    "\n",
    "Exp<center>$-gamma*\\sqrt{(x_1-x_2)^2)}+b$</center>\n",
    "\n",
    "Now classification is done on the basis of\n",
    "\n",
    "Exp<center>$-gamma*\\sqrt{(x_1-x_2)^2)}+b \\geq0 $    class 1</center>\n",
    "And\n",
    "Exp<center>$-gamma*\\sqrt{(x_1-x_2)^2)}+b <0$    class 0</center>\n",
    "\n",
    "**Role of gamma parameter in RBF:**\n",
    "\n",
    "This shows that as gamma increases, the algorithm tries harder to avoid misclassifying training data, which leads to overfitting.\n",
    "\n",
    "i.e.\n",
    "- higher value of gamma ………..overfittting\n",
    "- lesser value of gamma………….underfitting"
   ]
  },
  {
   "cell_type": "code",
   "execution_count": 2,
   "metadata": {},
   "outputs": [
    {
     "name": "stderr",
     "output_type": "stream",
     "text": [
      "D:\\Anaconda\\lib\\site-packages\\sklearn\\svm\\base.py:196: FutureWarning: The default value of gamma will change from 'auto' to 'scale' in version 0.22 to account better for unscaled features. Set gamma explicitly to 'auto' or 'scale' to avoid this warning.\n",
      "  \"avoid this warning.\", FutureWarning)\n"
     ]
    },
    {
     "data": {
      "text/plain": [
       "SVC(C=1.0, cache_size=200, class_weight=None, coef0=0.0,\n",
       "  decision_function_shape='ovr', degree=3, gamma='auto_deprecated',\n",
       "  kernel='rbf', max_iter=-1, probability=False, random_state=None,\n",
       "  shrinking=True, tol=0.001, verbose=False)"
      ]
     },
     "execution_count": 2,
     "metadata": {},
     "output_type": "execute_result"
    }
   ],
   "source": [
    "# example of SVC that generates a FutureWarning\n",
    "from sklearn.datasets import make_blobs\n",
    "from sklearn.svm import SVC\n",
    "# prepare dataset\n",
    "X, y = make_blobs(n_samples=100, centers=2, n_features=2)\n",
    "# create and configure model\n",
    "model = SVC()\n",
    "# fit model\n",
    "model.fit(X, y)"
   ]
  },
  {
   "cell_type": "markdown",
   "metadata": {},
   "source": [
    "**FutureWarning: The default value of gamma will change from 'auto' to 'scale' in version 0.22 to account better for unscaled features. Set gamma explicitly to 'auto' or 'scale' to avoid this warning.**\n",
    "\n",
    "### create and configure model\n",
    "**model = SVC(gamma='auto')**\n",
    "\n",
    "**model = SVC(gamma='scale')**"
   ]
  },
  {
   "cell_type": "code",
   "execution_count": null,
   "metadata": {},
   "outputs": [],
   "source": [
    "import numpy as np\n",
    "from sklearn import datasets\n",
    "import pandas as pd\n",
    "\n",
    "iris = datasets.load_iris()\n",
    "\n",
    "data = iris\n",
    "df = pd.DataFrame(data.data, columns=data.feature_names)\n",
    "df.head()\n",
    "\n",
    "**train_test_split**\n",
    "\n",
    "from sklearn.model_selection import train_test_split\n",
    "from sklearn import svm\n",
    "\n",
    "X_train, X_test, y_train, y_test = train_test_split(iris.data, iris.target, test_size=0.4, random_state=0)\n",
    "\n",
    "clf = svm.SVC(kernel='linear', C=1).fit(X_train, y_train)\n",
    "clf.score(X_test, y_test)\n",
    "\n",
    "**cross_val_score**\n",
    "\n",
    "from sklearn.model_selection import cross_val_score\n",
    "from sklearn import svm\n",
    "clf = svm.SVC(kernel='linear', C=1)\n",
    "scores = cross_val_score(clf, iris.data, iris.target, cv=5)\n",
    "scores\n",
    "\n",
    "print(\"Accuracy: %0.2f (+/- %0.2f)\" % (scores.mean(), scores.std() * 2))\n",
    "\n",
    "from sklearn import metrics\n",
    "scores = cross_val_score(clf, iris.data, iris.target, cv=5, scoring='f1_macro')\n",
    "scores  \n",
    "\n",
    "**ShuffleSplit**\n",
    "\n",
    " from sklearn.model_selection import ShuffleSplit\n",
    "n_samples = iris.data.shape[0]\n",
    "cv = ShuffleSplit(n_splits=5, test_size=0.3, random_state=0)\n",
    "cross_val_score(clf, iris.data, iris.target, cv=cv)\n",
    "\n",
    "**Manuals**\n",
    "\n",
    "def custom_cv_2folds(X):\n",
    "     n = X.shape[0]\n",
    "     i = 1\n",
    "     while i <= 2:\n",
    "         idx = np.arange(n * (i - 1) / 2, n * i / 2, dtype=int)\n",
    "         yield idx, idx\n",
    "         i += 1\n",
    "        \n",
    "custom_cv = custom_cv_2folds(iris.data)\n",
    "cross_val_score(clf, iris.data, iris.target, cv=custom_cv)"
   ]
  }
 ],
 "metadata": {
  "kernelspec": {
   "display_name": "Python 3",
   "language": "python",
   "name": "python3"
  },
  "language_info": {
   "codemirror_mode": {
    "name": "ipython",
    "version": 3
   },
   "file_extension": ".py",
   "mimetype": "text/x-python",
   "name": "python",
   "nbconvert_exporter": "python",
   "pygments_lexer": "ipython3",
   "version": "3.7.8"
  }
 },
 "nbformat": 4,
 "nbformat_minor": 2
}
