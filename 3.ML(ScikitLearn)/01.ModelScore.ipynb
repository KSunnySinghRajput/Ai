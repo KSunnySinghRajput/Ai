{
 "cells": [
  {
   "cell_type": "code",
   "execution_count": 4,
   "id": "dutch-transmission",
   "metadata": {},
   "outputs": [],
   "source": [
    "import numpy as np\n",
    "import matplotlib.pyplot as plt"
   ]
  },
  {
   "cell_type": "code",
   "execution_count": 5,
   "id": "adverse-sharing",
   "metadata": {},
   "outputs": [],
   "source": [
    "ar = np.array([[[1],[2],[3]], [[2.01],[4.03],[6.04]]])\n",
    "y = ar[1,:]\n",
    "x = ar[0,:]"
   ]
  },
  {
   "cell_type": "code",
   "execution_count": 6,
   "id": "international-nursing",
   "metadata": {},
   "outputs": [],
   "source": [
    "from sklearn import linear_model\n",
    "from sklearn.metrics import mean_squared_error, r2_score"
   ]
  },
  {
   "cell_type": "code",
   "execution_count": 7,
   "id": "duplicate-cemetery",
   "metadata": {},
   "outputs": [
    {
     "data": {
      "text/plain": [
       "LinearRegression()"
      ]
     },
     "execution_count": 7,
     "metadata": {},
     "output_type": "execute_result"
    }
   ],
   "source": [
    "reg = linear_model.LinearRegression()\n",
    "reg.fit(x,y)"
   ]
  },
  {
   "cell_type": "code",
   "execution_count": 21,
   "id": "divided-marker",
   "metadata": {},
   "outputs": [],
   "source": [
    "xTest = np.array([[4],[5],[6]])\n",
    "ytest =  np.array([[9],[8.5],[14]])"
   ]
  },
  {
   "cell_type": "code",
   "execution_count": 22,
   "id": "chicken-cheese",
   "metadata": {},
   "outputs": [
    {
     "name": "stdout",
     "output_type": "stream",
     "text": [
      "Coefficients: \n",
      " [[2.015]]\n"
     ]
    }
   ],
   "source": [
    "print('Coefficients: \\n', reg.coef_)\n"
   ]
  },
  {
   "cell_type": "code",
   "execution_count": null,
   "id": "flexible-english",
   "metadata": {},
   "outputs": [],
   "source": [
    "preds = reg.predict(xTest)"
   ]
  },
  {
   "cell_type": "markdown",
   "id": "unlikely-concentrate",
   "metadata": {},
   "source": [
    "## [r2-score](https://scikit-learn.org/stable/modules/model_evaluation.html)"
   ]
  },
  {
   "cell_type": "code",
   "execution_count": 24,
   "id": "cheap-trouble",
   "metadata": {},
   "outputs": [
    {
     "data": {
      "text/plain": [
       "(array([[ 9. ],\n",
       "        [ 8.5],\n",
       "        [14. ]]),\n",
       " array([[ 8.05666667],\n",
       "        [10.07166667],\n",
       "        [12.08666667]]))"
      ]
     },
     "execution_count": 24,
     "metadata": {},
     "output_type": "execute_result"
    }
   ],
   "source": [
    "ytest,preds"
   ]
  },
  {
   "cell_type": "code",
   "execution_count": 25,
   "id": "early-footwear",
   "metadata": {},
   "outputs": [
    {
     "name": "stdout",
     "output_type": "stream",
     "text": [
      "R2 score : 0.62\n"
     ]
    }
   ],
   "source": [
    "print(\"R2 score : %.2f\" % r2_score(ytest,preds))"
   ]
  },
  {
   "cell_type": "code",
   "execution_count": null,
   "id": "quality-thumb",
   "metadata": {},
   "outputs": [],
   "source": []
  },
  {
   "cell_type": "code",
   "execution_count": 10,
   "id": "human-median",
   "metadata": {},
   "outputs": [
    {
     "name": "stdout",
     "output_type": "stream",
     "text": [
      "R2 score : 0.62\n",
      "Mean squared error: 2.34\n"
     ]
    }
   ],
   "source": [
    "print(\"Mean squared error: %.2f\" % mean_squared_error(ytest,preds))"
   ]
  },
  {
   "cell_type": "code",
   "execution_count": null,
   "id": "awful-installation",
   "metadata": {},
   "outputs": [],
   "source": [
    "er = []\n",
    "g = 0\n",
    "for i in range(len(ytest)):\n",
    "    print( \"actual=\", ytest[i], \" observed=\", preds[i])\n",
    "    x = (ytest[i] - preds[i]) **2\n",
    "    er.append(x)\n",
    "    g = g + x\n",
    "    \n",
    "x = 0\n",
    "for i in range(len(er)):\n",
    "   x = x + er[i]\n",
    "\n",
    "print (\"MSE\", x / len(er))\n",
    "\n",
    "v = np.var(er)\n",
    "print (\"variance\", v)\n",
    "\n",
    "print (\"average of errors \", np.mean(er))\n",
    "\n",
    "m = np.mean(ytest)\n",
    "print (\"average of observed values\", m)\n",
    "\n",
    "y = 0\n",
    "for i in range(len(ytest)):\n",
    "    y = y + ((ytest[i] - m) ** 2)\n",
    "\n",
    "print (\"total sum of squares\", y)\n",
    "print (\"ẗotal sum of residuals \", g)\n",
    "print (\"r2 calculated\", 1 - (g / y))"
   ]
  },
  {
   "cell_type": "markdown",
   "id": "dutch-paste",
   "metadata": {},
   "source": [
    "## Accuracy Score"
   ]
  },
  {
   "cell_type": "code",
   "execution_count": 26,
   "id": "seven-suggestion",
   "metadata": {},
   "outputs": [],
   "source": [
    "from sklearn.metrics import accuracy_score\n",
    "y_pred = [0, 2, 1, 3]\n",
    "y_true = [0, 1, 2, 3]"
   ]
  },
  {
   "cell_type": "code",
   "execution_count": 27,
   "id": "difficult-patrick",
   "metadata": {},
   "outputs": [
    {
     "data": {
      "text/plain": [
       "0.5"
      ]
     },
     "execution_count": 27,
     "metadata": {},
     "output_type": "execute_result"
    }
   ],
   "source": [
    "accuracy_score(y_true, y_pred)"
   ]
  },
  {
   "cell_type": "code",
   "execution_count": 20,
   "id": "ambient-banking",
   "metadata": {},
   "outputs": [
    {
     "data": {
      "text/plain": [
       "2"
      ]
     },
     "execution_count": 20,
     "metadata": {},
     "output_type": "execute_result"
    }
   ],
   "source": [
    "accuracy_score(y_true, y_pred, normalize=False)"
   ]
  },
  {
   "cell_type": "code",
   "execution_count": null,
   "id": "single-playing",
   "metadata": {},
   "outputs": [],
   "source": []
  }
 ],
 "metadata": {
  "kernelspec": {
   "display_name": "Python 3",
   "language": "python",
   "name": "python3"
  },
  "language_info": {
   "codemirror_mode": {
    "name": "ipython",
    "version": 3
   },
   "file_extension": ".py",
   "mimetype": "text/x-python",
   "name": "python",
   "nbconvert_exporter": "python",
   "pygments_lexer": "ipython3",
   "version": "3.7.8"
  }
 },
 "nbformat": 4,
 "nbformat_minor": 5
}
