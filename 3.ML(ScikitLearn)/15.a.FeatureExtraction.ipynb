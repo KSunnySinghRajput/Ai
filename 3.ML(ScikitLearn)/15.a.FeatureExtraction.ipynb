{
 "cells": [
  {
   "cell_type": "markdown",
   "id": "multiple-lawsuit",
   "metadata": {},
   "source": [
    "## Feature Extraction\n",
    "    - It is a technique to extract features from a corpus(in text) or images.\n",
    "    - In Text classification we need to extract feature from a corpus and in image classificaion we need to extract feature from images.\n",
    "- <a href=\"c.i.FeatureExtractionInText.ipynb\">Feature Extraction in Text</a>\n",
    "- <a href=\"c.ii.FeatureExtractionInImage.ipynb\">Feature Extraction in Image</a>\n",
    "\n"
   ]
  },
  {
   "cell_type": "code",
   "execution_count": null,
   "id": "entitled-clear",
   "metadata": {},
   "outputs": [],
   "source": []
  }
 ],
 "metadata": {
  "kernelspec": {
   "display_name": "Python 3",
   "language": "python",
   "name": "python3"
  },
  "language_info": {
   "codemirror_mode": {
    "name": "ipython",
    "version": 3
   },
   "file_extension": ".py",
   "mimetype": "text/x-python",
   "name": "python",
   "nbconvert_exporter": "python",
   "pygments_lexer": "ipython3",
   "version": "3.7.8"
  }
 },
 "nbformat": 4,
 "nbformat_minor": 5
}
