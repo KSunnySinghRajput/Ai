{
 "cells": [
  {
   "cell_type": "code",
   "execution_count": 41,
   "metadata": {},
   "outputs": [],
   "source": [
    "import pandas as pd"
   ]
  },
  {
   "cell_type": "code",
   "execution_count": 42,
   "metadata": {},
   "outputs": [],
   "source": [
    "df=pd.read_csv('c:/dataset/online_ads.csv')"
   ]
  },
  {
   "cell_type": "code",
   "execution_count": 43,
   "metadata": {},
   "outputs": [],
   "source": [
    "df=pd.get_dummies(df)"
   ]
  },
  {
   "cell_type": "code",
   "execution_count": 44,
   "metadata": {},
   "outputs": [],
   "source": [
    "X=df.loc[:,('Age','EstimatedSalary','Gender_Female','Gender_Male')].values"
   ]
  },
  {
   "cell_type": "code",
   "execution_count": 45,
   "metadata": {},
   "outputs": [],
   "source": [
    "y=df.loc[:,'Purchased'].values"
   ]
  },
  {
   "cell_type": "code",
   "execution_count": 46,
   "metadata": {},
   "outputs": [],
   "source": [
    "from sklearn.preprocessing import StandardScaler"
   ]
  },
  {
   "cell_type": "code",
   "execution_count": 47,
   "metadata": {},
   "outputs": [],
   "source": [
    "sc=StandardScaler()"
   ]
  },
  {
   "cell_type": "code",
   "execution_count": 48,
   "metadata": {},
   "outputs": [],
   "source": [
    "X_new=sc.fit_transform(X.astype(float))"
   ]
  },
  {
   "cell_type": "code",
   "execution_count": 50,
   "metadata": {},
   "outputs": [],
   "source": [
    "from sklearn.model_selection import train_test_split\n",
    "from sklearn.neighbors import KNeighborsClassifier\n",
    "from sklearn.metrics import accuracy_score\n",
    "from sklearn.model_selection import cross_val_score\n"
   ]
  },
  {
   "cell_type": "code",
   "execution_count": 55,
   "metadata": {},
   "outputs": [],
   "source": [
    "dict={}\n",
    "for j in range(3,30):\n",
    "    knn=KNeighborsClassifier(n_neighbors=j)\n",
    "    pred_arr=cross_val_score(knn,X_new,y,cv=10,scoring='accuracy')\n",
    "    mean=pred_arr.mean()\n",
    "    dict[j]=mean"
   ]
  },
  {
   "cell_type": "code",
   "execution_count": 56,
   "metadata": {},
   "outputs": [
    {
     "data": {
      "text/plain": [
       "{3: 0.8971482176360226,\n",
       " 4: 0.8897091932457787,\n",
       " 5: 0.9073405253283301,\n",
       " 6: 0.8999624765478424,\n",
       " 7: 0.9073405253283303,\n",
       " 8: 0.89989837398374,\n",
       " 9: 0.9049015009380863,\n",
       " 10: 0.9099015009380864,\n",
       " 11: 0.9099015009380864,\n",
       " 12: 0.9074624765478424,\n",
       " 13: 0.9073373983739839,\n",
       " 14: 0.8927063789868669,\n",
       " 15: 0.8925813008130081,\n",
       " 16: 0.8829502814258913,\n",
       " 17: 0.8829502814258913,\n",
       " 18: 0.8803861788617887,\n",
       " 19: 0.8803861788617887,\n",
       " 20: 0.8779471544715447,\n",
       " 21: 0.8779471544715447,\n",
       " 22: 0.870254846779237,\n",
       " 23: 0.872693871169481,\n",
       " 24: 0.8653767979987492,\n",
       " 25: 0.8678158223889932,\n",
       " 26: 0.8626876172607881,\n",
       " 27: 0.8576844903064416,\n",
       " 28: 0.857559412132583,\n",
       " 29: 0.857559412132583}"
      ]
     },
     "execution_count": 56,
     "metadata": {},
     "output_type": "execute_result"
    }
   ],
   "source": [
    "dict"
   ]
  },
  {
   "cell_type": "code",
   "execution_count": 38,
   "metadata": {},
   "outputs": [],
   "source": []
  },
  {
   "cell_type": "code",
   "execution_count": 39,
   "metadata": {},
   "outputs": [
    {
     "data": {
      "text/plain": [
       "array([1.        , 0.82926829, 0.92682927, 0.975     , 0.925     ,\n",
       "       0.875     , 0.85      , 0.82051282, 0.87179487, 1.        ])"
      ]
     },
     "execution_count": 39,
     "metadata": {},
     "output_type": "execute_result"
    }
   ],
   "source": [
    "pred_arr"
   ]
  },
  {
   "cell_type": "code",
   "execution_count": 40,
   "metadata": {},
   "outputs": [
    {
     "data": {
      "text/plain": [
       "0.9073405253283303"
      ]
     },
     "execution_count": 40,
     "metadata": {},
     "output_type": "execute_result"
    }
   ],
   "source": [
    "pred_arr.mean()"
   ]
  },
  {
   "cell_type": "code",
   "execution_count": null,
   "metadata": {},
   "outputs": [],
   "source": []
  }
 ],
 "metadata": {
  "kernelspec": {
   "display_name": "Python 3",
   "language": "python",
   "name": "python3"
  },
  "language_info": {
   "codemirror_mode": {
    "name": "ipython",
    "version": 3
   },
   "file_extension": ".py",
   "mimetype": "text/x-python",
   "name": "python",
   "nbconvert_exporter": "python",
   "pygments_lexer": "ipython3",
   "version": "3.7.3"
  }
 },
 "nbformat": 4,
 "nbformat_minor": 2
}
