{
 "cells": [
  {
   "cell_type": "code",
   "execution_count": 3,
   "metadata": {},
   "outputs": [],
   "source": [
    "import cv2"
   ]
  },
  {
   "cell_type": "code",
   "execution_count": 4,
   "metadata": {},
   "outputs": [],
   "source": [
    "img=cv2.imread('e:/flag.jpg',cv2.IMREAD_COLOR)"
   ]
  },
  {
   "cell_type": "code",
   "execution_count": 11,
   "metadata": {},
   "outputs": [],
   "source": [
    "cv2.imshow('title',img)\n",
    "cv2.waitKey(0)\n",
    "#cv2.destroyWindow('title')\n",
    "cv2.destroyAllWindows()"
   ]
  },
  {
   "cell_type": "code",
   "execution_count": 14,
   "metadata": {},
   "outputs": [],
   "source": [
    "import cv2\n",
    "img=cv2.imread('e:/sachin.jpg',cv2.IMREAD_COLOR)\n",
    "gray_img=cv2.imread('e:/sachin.jpg',cv2.IMREAD_GRAYSCALE)\n",
    "new_img=cv2.resize(img,(300,300))\n",
    "cv2.imshow('window1',img)\n",
    "cv2.imshow('window2',new_img)\n",
    "cv2.imshow('window3',gray_img)\n",
    "cv2.waitKey(0)\n",
    "cv2.destroyAllWindows()"
   ]
  },
  {
   "cell_type": "code",
   "execution_count": 15,
   "metadata": {},
   "outputs": [],
   "source": [
    "import cv2\n",
    "img=cv2.imread('e:/flag.jpg',cv2.IMREAD_COLOR)\n",
    "gray_img=cv2.cvtColor(img,cv2.COLOR_BGR2GRAY)\n",
    "cv2.imshow('window1',img)\n",
    "cv2.imshow('window2',gray_img)\n",
    "cv2.waitKey(0)\n",
    "cv2.destroyAllWindows()"
   ]
  },
  {
   "cell_type": "code",
   "execution_count": 37,
   "metadata": {},
   "outputs": [],
   "source": [
    "import cv2\n",
    "img=cv2.imread('e:/sachin.jpg',cv2.IMREAD_COLOR)\n",
    "cv2.line(img,(10,10),(200,10),(0,0,255),4)\n",
    "cv2.rectangle(img,(10,20),(100,50),(255,0,0),2)\n",
    "cv2.circle(img,(250,230),100,(0,255,0),2)\n",
    "cv2.putText(img,'Sachin',(180,180),cv2.FONT_HERSHEY_SIMPLEX,1,(0,0,255),3)\n",
    "cv2.imshow('window1',img)\n",
    "cv2.waitKey(0)\n",
    "cv2.destroyAllWindows()"
   ]
  },
  {
   "cell_type": "code",
   "execution_count": null,
   "metadata": {},
   "outputs": [],
   "source": []
  }
 ],
 "metadata": {
  "kernelspec": {
   "display_name": "Python 3",
   "language": "python",
   "name": "python3"
  },
  "language_info": {
   "codemirror_mode": {
    "name": "ipython",
    "version": 3
   },
   "file_extension": ".py",
   "mimetype": "text/x-python",
   "name": "python",
   "nbconvert_exporter": "python",
   "pygments_lexer": "ipython3",
   "version": "3.7.3"
  }
 },
 "nbformat": 4,
 "nbformat_minor": 2
}
