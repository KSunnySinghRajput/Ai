{
 "cells": [
  {
   "cell_type": "markdown",
   "metadata": {},
   "source": [
    "\n",
    " # <center> Artificial Intelligence</center>\n",
    "\n",
    "A branch of Computer Science named Artificial Intelligence pursues creating the computers or machines as intelligent as human beings.\n",
    "\n",
    "### What is Artificial Intelligence?\n",
    "According to the father of Artificial Intelligence, John McCarthy, it is “The science and engineering of making intelligent machines, especially intelligent computer programs”.\n",
    "\n",
    "- Artificial Intelligence is a way of making a computer, a computer-Controlled robot, or a software think intelligently, in the similar manner the intelligent humans think.\n",
    "\n",
    "- AI is accomplished by studying how human brain thinks, and how humans learn, decide, and work while trying to solve a problem, and then using the outcomes of this study as a basis of developing intelligent software and systems.\n",
    "\n",
    "### Philosophy of AI\n",
    "While exploiting the power of the computer systems, the curiosity of human, lead him to wonder, “Can a machine think and behave like humans do?”\n",
    "\n",
    "Thus, the development of AI started with the intention of creating similar intelligence in machines that we find and regard high in humans.\n",
    "\n",
    "### Goals of AI\n",
    "**To Create Expert Systems** − The systems which exhibit intelligent behavior, learn, demonstrate, explain, and advice its users.\n",
    "\n",
    "**To Implement Human Intelligence in Machines** − Creating systems that understand, think, learn, and behave like humans."
   ]
  },
  {
   "cell_type": "markdown",
   "metadata": {},
   "source": [
    "<table>\n",
    "<tbody><tr>\n",
    "<th>Programming Without AI</th>\n",
    "<th >Programming With AI</th>\n",
    "</tr>\n",
    "<tr>\n",
    "<td>A computer program without AI can answer the <b>specific</b> questions it is meant to solve.</td>\n",
    "<td>A computer program with AI can answer the <b>generic</b> questions it is meant to solve.</td>\n",
    "</tr>\n",
    "<tr>\n",
    "<td>Modification in the program leads to change in its structure.</td>\n",
    "<td>AI programs can absorb new modifications by putting highly independent pieces of information together. Hence you can modify even a minute piece of information of program without affecting its structure.</td>\n",
    "</tr>\n",
    "<tr>\n",
    "<td>Modification is not quick and easy. It may lead to affecting the program adversely.</td>\n",
    "<td>Quick and Easy program modification.</td>\n",
    "</tr>\n",
    "</tbody></table>"
   ]
  },
  {
   "cell_type": "markdown",
   "metadata": {},
   "source": [
    "## What is AI Technique?\n",
    "In the real world, the knowledge has some unwelcomed properties −\n",
    "\n",
    "    - Its volume is huge, next to unimaginable.\n",
    "    - It is not well-organized or well-formatted.\n",
    "    - It keeps changing constantly.\n",
    "AI Technique is a manner to organize and use the knowledge efficiently in such a way that −\n",
    "\n",
    "    - It should be perceivable by the people who provide it.\n",
    "    - It should be easily modifiable to correct errors.\n",
    "    - It should be useful in many situations though it is incomplete or inaccurate.\n",
    "AI techniques elevate the speed of execution of the complex program it is equipped with.\n",
    "\n",
    "### Applications of AI\n",
    "AI has been dominant in various fields such as −\n",
    "\n",
    "**Gaming** \n",
    "− AI plays crucial role in strategic games such as chess, poker, tic-tac-toe, etc., where machine can think of large number of possible positions based on heuristic knowledge.\n",
    "\n",
    "**Natural Language Processing** \n",
    "− It is possible to interact with the computer that understands natural language spoken by humans.\n",
    "\n",
    "**Expert Systems** \n",
    "− There are some applications which integrate machine, software, and special information to impart reasoning and advising. They provide explanation and advice to the users.\n",
    "\n",
    "**Vision Systems** \n",
    "− These systems understand, interpret, and comprehend visual input on the computer. For example,\n",
    "\n",
    "  - A spying aeroplane takes photographs, which are used to figure out spatial information or map of the areas.\n",
    "\n",
    "  - Doctors use clinical expert system to diagnose the patient.\n",
    "\n",
    "  - Police use computer software that can recognize the face of criminal with the stored portrait made by forensic artist.\n",
    "\n",
    "**Speech Recognition** − Some intelligent systems are capable of hearing and comprehending the language in terms of sentences and their meanings while a human talks to it. It can handle different accents, slang words, noise in the background, change in human’s noise due to cold, etc.\n",
    "\n",
    "**Handwriting Recognition** − The handwriting recognition software reads the text written on paper by a pen or on screen by a stylus. It can recognize the shapes of the letters and convert it into editable text.\n",
    "\n",
    "**Intelligent Robots** − Robots are able to perform the tasks given by a human. They have sensors to detect physical data from the real world such as light, heat, temperature, movement, sound, bump, and pressure. They have efficient processors, multiple sensors and huge memory, to exhibit intelligence. In addition, they are capable of learning from their mistakes and they can adapt to the new environment."
   ]
  },
  {
   "cell_type": "markdown",
   "metadata": {},
   "source": []
  },
  {
   "cell_type": "code",
   "execution_count": null,
   "metadata": {},
   "outputs": [],
   "source": []
  }
 ],
 "metadata": {
  "kernelspec": {
   "display_name": "Python 3",
   "language": "python",
   "name": "python3"
  },
  "language_info": {
   "codemirror_mode": {
    "name": "ipython",
    "version": 3
   },
   "file_extension": ".py",
   "mimetype": "text/x-python",
   "name": "python",
   "nbconvert_exporter": "python",
   "pygments_lexer": "ipython3",
   "version": "3.7.8"
  }
 },
 "nbformat": 4,
 "nbformat_minor": 4
}
