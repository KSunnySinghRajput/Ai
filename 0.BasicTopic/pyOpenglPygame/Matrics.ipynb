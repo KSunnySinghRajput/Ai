{
 "cells": [
  {
   "cell_type": "markdown",
   "id": "described-cassette",
   "metadata": {},
   "source": [
    "# Operation"
   ]
  },
  {
   "cell_type": "markdown",
   "id": "closing-reynolds",
   "metadata": {},
   "source": [
    "$\\sqrt{x} = 5$"
   ]
  },
  {
   "cell_type": "markdown",
   "id": "directed-lesbian",
   "metadata": {},
   "source": [
    "$\\sum_{k=1}^n k^2$"
   ]
  },
  {
   "cell_type": "markdown",
   "id": "frank-guidance",
   "metadata": {},
   "source": [
    "$12\\cdot\\frac{1}{2}$"
   ]
  },
  {
   "cell_type": "markdown",
   "id": "skilled-eagle",
   "metadata": {},
   "source": [
    "$\\frac{x+y}{2}$"
   ]
  },
  {
   "cell_type": "markdown",
   "id": "specified-defensive",
   "metadata": {},
   "source": [
    "$\\sqrt[4]{x-y}$"
   ]
  },
  {
   "cell_type": "markdown",
   "id": "assured-sequence",
   "metadata": {},
   "source": [
    "$a_k$\n"
   ]
  },
  {
   "cell_type": "markdown",
   "id": "southeast-transport",
   "metadata": {},
   "source": [
    " $$x^{2015}$$"
   ]
  },
  {
   "cell_type": "markdown",
   "id": "instructional-yellow",
   "metadata": {},
   "source": [
    "$$(x+y)[z+w]$$"
   ]
  },
  {
   "cell_type": "markdown",
   "id": "initial-scanner",
   "metadata": {},
   "source": [
    " $$f(x) = \\pi\\left\\frac{\\sqrt{x}}{x-1}\\right\\$$"
   ]
  },
  {
   "cell_type": "markdown",
   "id": "chief-applicant",
   "metadata": {},
   "source": [
    "  $$n! = \\prod_{k=1}^n k$$\n",
    "  \n",
    "  \n",
    "  $$e commands >, <, \\geq, \\leq, and \\neq give us $>,$ $<,$ $\\geq,$ $\\leq,$ and $\\neq,$ respectively.$$"
   ]
  },
  {
   "cell_type": "code",
   "execution_count": 5,
   "id": "respected-falls",
   "metadata": {},
   "outputs": [
    {
     "ename": "SyntaxError",
     "evalue": "invalid syntax (<ipython-input-5-a4094d34e965>, line 1)",
     "output_type": "error",
     "traceback": [
      "\u001b[1;36m  File \u001b[1;32m\"<ipython-input-5-a4094d34e965>\"\u001b[1;36m, line \u001b[1;32m1\u001b[0m\n\u001b[1;33m    $x^{2015}\u001b[0m\n\u001b[1;37m    ^\u001b[0m\n\u001b[1;31mSyntaxError\u001b[0m\u001b[1;31m:\u001b[0m invalid syntax\n"
     ]
    }
   ],
   "source": [
    "$x^{2015}"
   ]
  },
  {
   "cell_type": "code",
   "execution_count": null,
   "id": "corporate-shanghai",
   "metadata": {},
   "outputs": [],
   "source": []
  },
  {
   "cell_type": "markdown",
   "id": "anonymous-alpha",
   "metadata": {},
   "source": [
    "# Equation"
   ]
  },
  {
   "cell_type": "markdown",
   "id": "thermal-article",
   "metadata": {},
   "source": [
    "\\begin{align*}\n",
    "ax + by &= 1 \\\\\n",
    "cx + dy &= 2 \\\\\n",
    "ex + fy &= 3.\n",
    "\\end{align*}"
   ]
  },
  {
   "cell_type": "markdown",
   "id": "diagnostic-private",
   "metadata": {},
   "source": [
    "\\begin{align}\n",
    "ax + by &= c \\\\\n",
    "dx + ey &= f \\\\\n",
    "gx + hy &= i\n",
    "\\end{align}"
   ]
  },
  {
   "cell_type": "markdown",
   "id": "careful-haiti",
   "metadata": {},
   "source": [
    "\\begin{align*}\n",
    "((2x+3)^3)' &= 3(2x+3)^2 \\cdot (2x+3)' \\\\\n",
    "&= 3(2x+3)^2 \\cdot 2 \\\\\n",
    "&= 6(2x+3)^2.\n",
    "\\end{align*}"
   ]
  },
  {
   "cell_type": "markdown",
   "id": "religious-diesel",
   "metadata": {},
   "source": [
    "$$"
   ]
  },
  {
   "cell_type": "markdown",
   "id": "assisted-violation",
   "metadata": {},
   "source": [
    "$$"
   ]
  },
  {
   "cell_type": "markdown",
   "id": "alpha-pacific",
   "metadata": {},
   "source": [
    "$$"
   ]
  },
  {
   "cell_type": "markdown",
   "id": "subjective-accident",
   "metadata": {},
   "source": [
    "$$"
   ]
  },
  {
   "cell_type": "markdown",
   "id": "reserved-scene",
   "metadata": {},
   "source": [
    "$$"
   ]
  },
  {
   "cell_type": "markdown",
   "id": "stretch-algorithm",
   "metadata": {},
   "source": [
    "$$"
   ]
  },
  {
   "cell_type": "markdown",
   "id": "numerical-acrobat",
   "metadata": {},
   "source": [
    "$$"
   ]
  },
  {
   "cell_type": "code",
   "execution_count": null,
   "id": "biblical-wrong",
   "metadata": {},
   "outputs": [],
   "source": []
  },
  {
   "cell_type": "code",
   "execution_count": null,
   "id": "outer-disclaimer",
   "metadata": {},
   "outputs": [],
   "source": []
  },
  {
   "cell_type": "markdown",
   "id": "falling-spirituality",
   "metadata": {},
   "source": [
    "# Matrics"
   ]
  },
  {
   "cell_type": "markdown",
   "id": "unnecessary-granny",
   "metadata": {},
   "source": [
    "$\\begin{equation*}\n",
    "A = \n",
    "\\begin{pmatrix}\n",
    "1 & 3 & 3 \\\\\n",
    "\\end{pmatrix}\n",
    "\\end{equation*}$\n",
    "$$\\begin{equation*}\n",
    "B = \n",
    "\\begin{bmatrix}\n",
    "1 & 3 \n",
    "\\end{bmatrix}\n",
    "\\end{equation*}$$\n",
    "\n",
    "$$\\begin{equation*}\n",
    "B = \n",
    "\\begin{bmatrix}\n",
    "1 , 3 \n",
    "\\end{bmatrix}\n",
    "\\end{equation*}$$\n",
    "\n",
    "\n",
    "$\\begin{equation*}\n",
    "B = \n",
    "\\begin{pmatrix}\n",
    "1 \\\\ 3 \\\\ 3 \\\\\n",
    "\\end{pmatrix}\n",
    "\\end{equation*}$\n",
    "\n",
    "$$\\begin{equation*}\n",
    "B = \n",
    "\\begin{bmatrix}\n",
    "1 \\\\ 3 \\\\ 3 \\\\\n",
    "\\end{bmatrix}\n",
    "\\end{equation*}$$"
   ]
  },
  {
   "cell_type": "markdown",
   "id": "derived-charter",
   "metadata": {},
   "source": [
    "$\\begin{equation*}\n",
    "A_{m,n} = \n",
    "\\begin{pmatrix}\n",
    "a_{1,1} & a_{1,2} & \\cdots & a_{1,n} \\\\\n",
    "a_{2,1} & a_{2,2} & \\cdots & a_{2,n} \\\\\n",
    "\\vdots  & \\vdots  & \\ddots & \\vdots  \\\\\n",
    "a_{m,1} & a_{m,2} & \\cdots & a_{m,n} \n",
    "\\end{pmatrix}\n",
    "\\end{equation*}$"
   ]
  },
  {
   "cell_type": "markdown",
   "id": "effective-fluid",
   "metadata": {},
   "source": [
    "$\\begin{equation*}\n",
    "A = \n",
    "\\begin{pmatrix}\n",
    "1 &  & 3 \\\\\n",
    "4 & 5 &  \\\\\n",
    "7 & 8 & 9\n",
    "\\end{pmatrix}\n",
    "\\end{equation*}$"
   ]
  },
  {
   "cell_type": "markdown",
   "id": "national-cursor",
   "metadata": {},
   "source": [
    "$\n",
    "\\begin{equation*}\n",
    "B = \n",
    "\\begin{bmatrix}\n",
    "a & b & c \\\\\n",
    "d & e & f \\\\\n",
    "g & h & i\n",
    "\\end{bmatrix}\n",
    "\\end{equation*}\n",
    "$"
   ]
  },
  {
   "cell_type": "markdown",
   "id": "running-terrorism",
   "metadata": {},
   "source": [
    "$\n",
    "\\begin{equation}\n",
    "   \\begin{matrix} \n",
    "   a_{11} & a_{12} & a_{13}  \\\\\n",
    "   a_{21} & a_{22} & a_{23}  \\\\\n",
    "   a_{31} & a_{32} & a_{33}  \\\\\n",
    "   \\end{matrix} \n",
    "\\end{equation}\n",
    "$"
   ]
  },
  {
   "cell_type": "markdown",
   "id": "intense-touch",
   "metadata": {},
   "source": [
    "$\n",
    "\\begin{equation}\n",
    "   \\begin{vmatrix} \n",
    "   a_{11} & a_{12} & a_{13}  \\\\\n",
    "   a_{21} & a_{22} & a_{23}  \\\\\n",
    "   a_{31} & a_{32} & a_{33}  \\\\\n",
    "   \\end{vmatrix} \n",
    "\\end{equation}\n",
    "$"
   ]
  },
  {
   "cell_type": "markdown",
   "id": "serious-association",
   "metadata": {},
   "source": [
    "$\\begin{equation}\n",
    "   \\begin{Bmatrix} \n",
    "   a_{11} & a_{12} & a_{13}  \\\\\n",
    "   a_{21} & a_{22} & a_{23}  \\\\\n",
    "   a_{31} & a_{32} & a_{33}  \\\\\n",
    "   \\end{Bmatrix} \n",
    "\\end{equation}\n",
    "$"
   ]
  },
  {
   "cell_type": "markdown",
   "id": "third-apache",
   "metadata": {},
   "source": [
    "$\n",
    "\\begin{equation}\n",
    "   \\begin{Vmatrix} \n",
    "   a_{11} & a_{12} & a_{13}  \\\\\n",
    "   a_{21} & a_{22} & a_{23}  \\\\\n",
    "   a_{31} & a_{32} & a_{33}  \\\\\n",
    "   \\end{Vmatrix} \n",
    "\\end{equation}\n",
    "$"
   ]
  },
  {
   "cell_type": "markdown",
   "id": "concrete-substitute",
   "metadata": {},
   "source": [
    "$\\begin{align*}\n",
    "\\begin{bmatrix}\n",
    "a & b & c \\\\\n",
    "d & e & f \\\\\n",
    "g & h & i\n",
    "\\end{bmatrix} + \\begin{bmatrix}\n",
    "a & b & c \\\\\n",
    "d & e & f \\\\\n",
    "g & h & i\n",
    "\\end{bmatrix} &= \\begin{bmatrix}\n",
    "a & b & c \\\\\n",
    "d & e & f \\\\\n",
    "g & h & i\n",
    "\\end{bmatrix}\n",
    "\\end{align*}$"
   ]
  },
  {
   "cell_type": "markdown",
   "id": "designed-leader",
   "metadata": {},
   "source": [
    "$$"
   ]
  },
  {
   "cell_type": "markdown",
   "id": "burning-parameter",
   "metadata": {},
   "source": [
    "$$$"
   ]
  },
  {
   "cell_type": "code",
   "execution_count": null,
   "id": "yellow-means",
   "metadata": {},
   "outputs": [],
   "source": []
  }
 ],
 "metadata": {
  "kernelspec": {
   "display_name": "Python 3",
   "language": "python",
   "name": "python3"
  },
  "language_info": {
   "codemirror_mode": {
    "name": "ipython",
    "version": 3
   },
   "file_extension": ".py",
   "mimetype": "text/x-python",
   "name": "python",
   "nbconvert_exporter": "python",
   "pygments_lexer": "ipython3",
   "version": "3.7.8"
  }
 },
 "nbformat": 4,
 "nbformat_minor": 5
}
