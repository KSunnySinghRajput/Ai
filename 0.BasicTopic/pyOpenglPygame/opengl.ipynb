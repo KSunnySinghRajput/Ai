{
 "cells": [
  {
   "cell_type": "markdown",
   "id": "german-asbestos",
   "metadata": {},
   "source": [
    " pip install PyGame\n",
    " pip install PyOpenGL"
   ]
  },
  {
   "cell_type": "code",
   "execution_count": 3,
   "id": "recognized-interim",
   "metadata": {},
   "outputs": [],
   "source": [
    "import pygame\n",
    "from pygame.locals import *"
   ]
  },
  {
   "cell_type": "code",
   "execution_count": 4,
   "id": "impossible-alloy",
   "metadata": {},
   "outputs": [],
   "source": [
    "import sys\n",
    "from OpenGL.GL import *\n",
    "from OpenGL.GLU import *\n",
    "from OpenGL.GLUT import *"
   ]
  },
  {
   "cell_type": "code",
   "execution_count": 5,
   "id": "objective-oregon",
   "metadata": {},
   "outputs": [
    {
     "ename": "NullFunctionError",
     "evalue": "Attempt to call an undefined function glutInit, check for bool(glutInit) before calling",
     "output_type": "error",
     "traceback": [
      "\u001b[1;31m---------------------------------------------------------------------------\u001b[0m",
      "\u001b[1;31mNullFunctionError\u001b[0m                         Traceback (most recent call last)",
      "\u001b[1;32m<ipython-input-5-c2a18a380ff8>\u001b[0m in \u001b[0;36m<module>\u001b[1;34m\u001b[0m\n\u001b[0;32m     11\u001b[0m     \u001b[0mglutSwapBuffers\u001b[0m\u001b[1;33m(\u001b[0m\u001b[1;33m)\u001b[0m\u001b[1;33m\u001b[0m\u001b[1;33m\u001b[0m\u001b[0m\n\u001b[0;32m     12\u001b[0m \u001b[1;33m\u001b[0m\u001b[0m\n\u001b[1;32m---> 13\u001b[1;33m \u001b[0mglutInit\u001b[0m\u001b[1;33m(\u001b[0m\u001b[0msys\u001b[0m\u001b[1;33m.\u001b[0m\u001b[0margv\u001b[0m\u001b[1;33m)\u001b[0m\u001b[1;33m\u001b[0m\u001b[1;33m\u001b[0m\u001b[0m\n\u001b[0m\u001b[0;32m     14\u001b[0m \u001b[1;33m\u001b[0m\u001b[0m\n\u001b[0;32m     15\u001b[0m \u001b[1;31m# Create a double-buffer RGBA window.   (Single-buffering is possible.\u001b[0m\u001b[1;33m\u001b[0m\u001b[1;33m\u001b[0m\u001b[1;33m\u001b[0m\u001b[0m\n",
      "\u001b[1;32md:\\pythonenv\\base3.7\\lib\\site-packages\\OpenGL\\GLUT\\special.py\u001b[0m in \u001b[0;36mglutInit\u001b[1;34m(*args)\u001b[0m\n\u001b[0;32m    331\u001b[0m     \u001b[1;32mtry\u001b[0m\u001b[1;33m:\u001b[0m\u001b[1;33m\u001b[0m\u001b[1;33m\u001b[0m\u001b[0m\n\u001b[0;32m    332\u001b[0m         \u001b[1;31m# XXX need to check for error condition here...\u001b[0m\u001b[1;33m\u001b[0m\u001b[1;33m\u001b[0m\u001b[1;33m\u001b[0m\u001b[0m\n\u001b[1;32m--> 333\u001b[1;33m         \u001b[0m_base_glutInit\u001b[0m\u001b[1;33m(\u001b[0m \u001b[0mctypes\u001b[0m\u001b[1;33m.\u001b[0m\u001b[0mbyref\u001b[0m\u001b[1;33m(\u001b[0m\u001b[0mcount\u001b[0m\u001b[1;33m)\u001b[0m\u001b[1;33m,\u001b[0m \u001b[0mholder\u001b[0m \u001b[1;33m)\u001b[0m\u001b[1;33m\u001b[0m\u001b[1;33m\u001b[0m\u001b[0m\n\u001b[0m\u001b[0;32m    334\u001b[0m     \u001b[1;32mfinally\u001b[0m\u001b[1;33m:\u001b[0m\u001b[1;33m\u001b[0m\u001b[1;33m\u001b[0m\u001b[0m\n\u001b[0;32m    335\u001b[0m         \u001b[0mos\u001b[0m\u001b[1;33m.\u001b[0m\u001b[0mchdir\u001b[0m\u001b[1;33m(\u001b[0m \u001b[0mcurrentDirectory\u001b[0m \u001b[1;33m)\u001b[0m\u001b[1;33m\u001b[0m\u001b[1;33m\u001b[0m\u001b[0m\n",
      "\u001b[1;32md:\\pythonenv\\base3.7\\lib\\site-packages\\OpenGL\\platform\\baseplatform.py\u001b[0m in \u001b[0;36m__call__\u001b[1;34m(self, *args, **named)\u001b[0m\n\u001b[0;32m    423\u001b[0m                 raise error.NullFunctionError(\n\u001b[0;32m    424\u001b[0m                     \"\"\"Attempt to call an undefined function %s, check for bool(%s) before calling\"\"\"%(\n\u001b[1;32m--> 425\u001b[1;33m                         \u001b[0mself\u001b[0m\u001b[1;33m.\u001b[0m\u001b[0m__name__\u001b[0m\u001b[1;33m,\u001b[0m \u001b[0mself\u001b[0m\u001b[1;33m.\u001b[0m\u001b[0m__name__\u001b[0m\u001b[1;33m,\u001b[0m\u001b[1;33m\u001b[0m\u001b[1;33m\u001b[0m\u001b[0m\n\u001b[0m\u001b[0;32m    426\u001b[0m                     )\n\u001b[0;32m    427\u001b[0m                 )\n",
      "\u001b[1;31mNullFunctionError\u001b[0m: Attempt to call an undefined function glutInit, check for bool(glutInit) before calling"
     ]
    }
   ],
   "source": [
    "\n",
    "\n",
    "\n",
    "# The display() method does all the work; it has to call the appropriate\n",
    "# OpenGL functions to actually display something.\n",
    "def display():\n",
    "    # Clear the color and depth buffers\n",
    "    glClear(GL_COLOR_BUFFER_BIT | GL_DEPTH_BUFFER_BIT)\n",
    "\n",
    "    # ... render stuff in here ...\n",
    "    # It will go to an off-screen frame buffer.\n",
    "\n",
    "    # Copy the off-screen buffer to the screen.\n",
    "    glutSwapBuffers()\n",
    "\n",
    "glutInit(sys.argv)\n",
    "\n",
    "# Create a double-buffer RGBA window.   (Single-buffering is possible.\n",
    "# So is creating an index-mode window.)\n",
    "glutInitDisplayMode(GLUT_RGBA | GLUT_DOUBLE | GLUT_DEPTH)\n",
    "\n",
    "# Create a window, setting its title\n",
    "glutCreateWindow('interactive')\n",
    "\n",
    "# Set the display callback.  You can set other callbacks for keyboard and\n",
    "# mouse events.\n",
    "glutDisplayFunc(display)\n",
    "\n",
    "# Run the GLUT main loop until the user closes the window.\n",
    "glutMainLoop()"
   ]
  },
  {
   "cell_type": "code",
   "execution_count": null,
   "id": "recreational-mixer",
   "metadata": {},
   "outputs": [],
   "source": []
  },
  {
   "cell_type": "code",
   "execution_count": null,
   "id": "direct-zoning",
   "metadata": {},
   "outputs": [],
   "source": []
  },
  {
   "cell_type": "code",
   "execution_count": null,
   "id": "adaptive-disposal",
   "metadata": {},
   "outputs": [],
   "source": []
  },
  {
   "cell_type": "code",
   "execution_count": null,
   "id": "silver-wells",
   "metadata": {},
   "outputs": [],
   "source": []
  },
  {
   "cell_type": "code",
   "execution_count": null,
   "id": "lonely-timothy",
   "metadata": {},
   "outputs": [],
   "source": []
  },
  {
   "cell_type": "code",
   "execution_count": 3,
   "id": "choice-brisbane",
   "metadata": {},
   "outputs": [],
   "source": [
    "#import matplotlib.cm\n",
    "#from vectors import *\n",
    "#from math import *"
   ]
  },
  {
   "cell_type": "code",
   "execution_count": null,
   "id": "overall-multiple",
   "metadata": {},
   "outputs": [],
   "source": []
  },
  {
   "cell_type": "code",
   "execution_count": null,
   "id": "scientific-marker",
   "metadata": {},
   "outputs": [],
   "source": [
    "gluPerspective(60, (display[0]/display[1]), 0.1, 100.0)"
   ]
  },
  {
   "cell_type": "code",
   "execution_count": null,
   "id": "single-illustration",
   "metadata": {},
   "outputs": [],
   "source": [
    "def main():\n",
    "    pygame.init()           #Initialization of all the PyGame modules - this function is a godsend\n",
    "    DisplaySize = (1920, 1080)      #Defining a fixed window size\n",
    "    pygame.display.set_mode(DisplaySize, DOUBLEBUF|OPENGL) # Here, we specify that we'll be using\n",
    "    clock = pygame.time.Clock()\n",
    "    \n",
    "    #GLU\n",
    "    #gluPerspective(GLdouble fovy, GLdouble aspect, GLdouble zNear, GLdouble zFar)\n",
    "    gluPerspective(60, (DisplaySize[0]/DisplaySize[1]), 0.1, 100.0)\n",
    "    \n",
    "    #GL\n",
    "    glTranslatef(0.0,0.0, -5)\n",
    "    glEnable(GL_CULL_FACE)\n",
    "    glEnable(GL_DEPTH_TEST)\n",
    "    glCullFace(GL_BACK)\n",
    "    \n",
    "    while True:\n",
    "        for event in pygame.event.get():\n",
    "            if event.type == pygame.QUIT:\n",
    "                pygame.quit()\n",
    "                quit()\n",
    "\n",
    "        clock.tick()\n",
    "        glClear(GL_COLOR_BUFFER_BIT|GL_DEPTH_BUFFER_BIT)\n",
    "        glBegin(GL_TRIANGLES)\n",
    "        for face in faces:\n",
    "            color = shade(face,blues,light)\n",
    "            for vertex in face:\n",
    "                glColor3fv((color[0], color[1], color[2]))\n",
    "                glVertex3fv(vertex)\n",
    "        glEnd()\n",
    "        pygame.display.flip()\n",
    "    \n",
    "\n",
    "main()"
   ]
  },
  {
   "cell_type": "code",
   "execution_count": null,
   "id": "electoral-latter",
   "metadata": {},
   "outputs": [],
   "source": [
    "A frustum is defined by 4 key parameters:\n",
    "\n",
    "    The FOV (Field of View): Angle in degrees\n",
    "    The Aspect Ratio: Defined as the ratio of the width and height\n",
    "    The z coordinate of the near Clipping Plane: The minimum draw distance\n",
    "    The z coordinate of the far Clipping Plane: The maximum draw distance"
   ]
  },
  {
   "cell_type": "code",
   "execution_count": 4,
   "id": "general-omaha",
   "metadata": {},
   "outputs": [],
   "source": [
    "def normal(face):\n",
    "    return(cross(subtract(face[1], face[0]), subtract(face[2], face[0])))\n",
    "  \n",
    "blues = matplotlib.cm.get_cmap('Blues')\n",
    "\n",
    "def shade(face,color_map=blues,light=(1,2,3)):\n",
    "    return color_map(1 - dot(unit(normal(face)), unit(light)))"
   ]
  },
  {
   "cell_type": "code",
   "execution_count": 5,
   "id": "velvet-vector",
   "metadata": {},
   "outputs": [],
   "source": [
    "light = (1,2,3)\n",
    "faces = [\n",
    "     [(1,0,0), (0,1,0), (0,0,1)],\n",
    "     [(1,0,0), (0,0,-1), (0,1,0)],\n",
    "     [(1,0,0), (0,0,1), (0,-1,0)],\n",
    "     [(1,0,0), (0,-1,0), (0,0,-1)],\n",
    "     [(-1,0,0), (0,0,1), (0,1,0)],\n",
    "     [(-1,0,0), (0,1,0), (0,0,-1)],\n",
    "     [(-1,0,0), (0,-1,0), (0,0,1)],\n",
    "     [(-1,0,0), (0,0,-1), (0,-1,0)],\n",
    "]"
   ]
  },
  {
   "cell_type": "markdown",
   "id": "figured-charlotte",
   "metadata": {},
   "source": [
    "gluPerspective(45, 1, 0.1, 50.0)\n",
    "glTranslatef(0.0,0.0, -5)\n",
    "glEnable(GL_CULL_FACE)\n",
    "glEnable(GL_DEPTH_TEST)\n",
    "glCullFace(GL_BACK)"
   ]
  },
  {
   "cell_type": "code",
   "execution_count": 6,
   "id": "abstract-smart",
   "metadata": {},
   "outputs": [
    {
     "ename": "NameError",
     "evalue": "name 'dot' is not defined",
     "output_type": "error",
     "traceback": [
      "\u001b[1;31m---------------------------------------------------------------------------\u001b[0m",
      "\u001b[1;31mNameError\u001b[0m                                 Traceback (most recent call last)",
      "\u001b[1;32m<ipython-input-6-c47bcb2335e0>\u001b[0m in \u001b[0;36m<module>\u001b[1;34m\u001b[0m\n\u001b[0;32m     27\u001b[0m \u001b[1;33m\u001b[0m\u001b[0m\n\u001b[0;32m     28\u001b[0m \u001b[1;33m\u001b[0m\u001b[0m\n\u001b[1;32m---> 29\u001b[1;33m \u001b[0mmain\u001b[0m\u001b[1;33m(\u001b[0m\u001b[1;33m)\u001b[0m\u001b[1;33m\u001b[0m\u001b[1;33m\u001b[0m\u001b[0m\n\u001b[0m",
      "\u001b[1;32m<ipython-input-6-c47bcb2335e0>\u001b[0m in \u001b[0;36mmain\u001b[1;34m()\u001b[0m\n\u001b[0;32m     19\u001b[0m         \u001b[0mglBegin\u001b[0m\u001b[1;33m(\u001b[0m\u001b[0mGL_TRIANGLES\u001b[0m\u001b[1;33m)\u001b[0m\u001b[1;33m\u001b[0m\u001b[1;33m\u001b[0m\u001b[0m\n\u001b[0;32m     20\u001b[0m         \u001b[1;32mfor\u001b[0m \u001b[0mface\u001b[0m \u001b[1;32min\u001b[0m \u001b[0mfaces\u001b[0m\u001b[1;33m:\u001b[0m\u001b[1;33m\u001b[0m\u001b[1;33m\u001b[0m\u001b[0m\n\u001b[1;32m---> 21\u001b[1;33m             \u001b[0mcolor\u001b[0m \u001b[1;33m=\u001b[0m \u001b[0mshade\u001b[0m\u001b[1;33m(\u001b[0m\u001b[0mface\u001b[0m\u001b[1;33m,\u001b[0m\u001b[0mblues\u001b[0m\u001b[1;33m,\u001b[0m\u001b[0mlight\u001b[0m\u001b[1;33m)\u001b[0m\u001b[1;33m\u001b[0m\u001b[1;33m\u001b[0m\u001b[0m\n\u001b[0m\u001b[0;32m     22\u001b[0m             \u001b[1;32mfor\u001b[0m \u001b[0mvertex\u001b[0m \u001b[1;32min\u001b[0m \u001b[0mface\u001b[0m\u001b[1;33m:\u001b[0m\u001b[1;33m\u001b[0m\u001b[1;33m\u001b[0m\u001b[0m\n\u001b[0;32m     23\u001b[0m                 \u001b[0mglColor3fv\u001b[0m\u001b[1;33m(\u001b[0m\u001b[1;33m(\u001b[0m\u001b[0mcolor\u001b[0m\u001b[1;33m[\u001b[0m\u001b[1;36m0\u001b[0m\u001b[1;33m]\u001b[0m\u001b[1;33m,\u001b[0m \u001b[0mcolor\u001b[0m\u001b[1;33m[\u001b[0m\u001b[1;36m1\u001b[0m\u001b[1;33m]\u001b[0m\u001b[1;33m,\u001b[0m \u001b[0mcolor\u001b[0m\u001b[1;33m[\u001b[0m\u001b[1;36m2\u001b[0m\u001b[1;33m]\u001b[0m\u001b[1;33m)\u001b[0m\u001b[1;33m)\u001b[0m\u001b[1;33m\u001b[0m\u001b[1;33m\u001b[0m\u001b[0m\n",
      "\u001b[1;32m<ipython-input-4-5458e250f6a7>\u001b[0m in \u001b[0;36mshade\u001b[1;34m(face, color_map, light)\u001b[0m\n\u001b[0;32m      5\u001b[0m \u001b[1;33m\u001b[0m\u001b[0m\n\u001b[0;32m      6\u001b[0m \u001b[1;32mdef\u001b[0m \u001b[0mshade\u001b[0m\u001b[1;33m(\u001b[0m\u001b[0mface\u001b[0m\u001b[1;33m,\u001b[0m\u001b[0mcolor_map\u001b[0m\u001b[1;33m=\u001b[0m\u001b[0mblues\u001b[0m\u001b[1;33m,\u001b[0m\u001b[0mlight\u001b[0m\u001b[1;33m=\u001b[0m\u001b[1;33m(\u001b[0m\u001b[1;36m1\u001b[0m\u001b[1;33m,\u001b[0m\u001b[1;36m2\u001b[0m\u001b[1;33m,\u001b[0m\u001b[1;36m3\u001b[0m\u001b[1;33m)\u001b[0m\u001b[1;33m)\u001b[0m\u001b[1;33m:\u001b[0m\u001b[1;33m\u001b[0m\u001b[1;33m\u001b[0m\u001b[0m\n\u001b[1;32m----> 7\u001b[1;33m     \u001b[1;32mreturn\u001b[0m \u001b[0mcolor_map\u001b[0m\u001b[1;33m(\u001b[0m\u001b[1;36m1\u001b[0m \u001b[1;33m-\u001b[0m \u001b[0mdot\u001b[0m\u001b[1;33m(\u001b[0m\u001b[0munit\u001b[0m\u001b[1;33m(\u001b[0m\u001b[0mnormal\u001b[0m\u001b[1;33m(\u001b[0m\u001b[0mface\u001b[0m\u001b[1;33m)\u001b[0m\u001b[1;33m)\u001b[0m\u001b[1;33m,\u001b[0m \u001b[0munit\u001b[0m\u001b[1;33m(\u001b[0m\u001b[0mlight\u001b[0m\u001b[1;33m)\u001b[0m\u001b[1;33m)\u001b[0m\u001b[1;33m)\u001b[0m\u001b[1;33m\u001b[0m\u001b[1;33m\u001b[0m\u001b[0m\n\u001b[0m",
      "\u001b[1;31mNameError\u001b[0m: name 'dot' is not defined"
     ]
    }
   ],
   "source": []
  },
  {
   "cell_type": "markdown",
   "id": "treated-discovery",
   "metadata": {},
   "source": [
    "# Cube"
   ]
  },
  {
   "cell_type": "code",
   "execution_count": 6,
   "id": "difficult-chicken",
   "metadata": {},
   "outputs": [],
   "source": [
    "verticies = (\n",
    "    (1, -1, -1),\n",
    "    (1, 1, -1),\n",
    "    (-1, 1, -1),\n",
    "    (-1, -1, -1),\n",
    "    (1, -1, 1),\n",
    "    (1, 1, 1),\n",
    "    (-1, -1, 1),\n",
    "    (-1, 1, 1)\n",
    "    )\n",
    "\n",
    "edges = (\n",
    "    (0,1),\n",
    "    (0,3),\n",
    "    (0,4),\n",
    "    (2,1),\n",
    "    (2,3),\n",
    "    (2,7),\n",
    "    (6,3),\n",
    "    (6,4),\n",
    "    (6,7),\n",
    "    (5,1),\n",
    "    (5,4),\n",
    "    (5,7)\n",
    "    )\n",
    "surfaces = (\n",
    "    (0,1,2,3),\n",
    "    (3,2,7,6),\n",
    "    (6,7,5,4),\n",
    "    (4,5,1,0),\n",
    "    (1,5,7,2),\n",
    "    (4,0,3,6)\n",
    "    )\n",
    "colors = (\n",
    "    (1,0,0),\n",
    "    (0,1,0),\n",
    "    (0,0,1),\n",
    "    (0,1,0),\n",
    "    (1,1,1),\n",
    "    (0,1,1),\n",
    "    (1,0,0),\n",
    "    (0,1,0),\n",
    "    (0,0,1),\n",
    "    (1,0,0),\n",
    "    (1,1,1),\n",
    "    (0,1,1),\n",
    "    )\n",
    "def Cube():\n",
    "    glBegin(GL_QUADS)\n",
    "    for surface in surfaces:\n",
    "        x = 0\n",
    "        for vertex in surface:\n",
    "            x+=1\n",
    "            glColor3fv(colors[x])\n",
    "            glVertex3fv(verticies[vertex])\n",
    "    glEnd()\n",
    "\n",
    "    glBegin(GL_LINES)\n",
    "    for edge in edges:\n",
    "        for vertex in edge:\n",
    "            glVertex3fv(verticies[vertex])\n",
    "    glEnd()"
   ]
  },
  {
   "cell_type": "code",
   "execution_count": 7,
   "id": "solar-rates",
   "metadata": {},
   "outputs": [
    {
     "ename": "GLError",
     "evalue": "GLError(\n\terr = 1282,\n\tdescription = b'invalid operation',\n\tbaseOperation = glRotatef,\n\tcArguments = (1, 3, 1, 1)\n)",
     "output_type": "error",
     "traceback": [
      "\u001b[1;31m---------------------------------------------------------------------------\u001b[0m",
      "\u001b[1;31mGLError\u001b[0m                                   Traceback (most recent call last)",
      "\u001b[1;32m<ipython-input-7-19a5118e22b9>\u001b[0m in \u001b[0;36m<module>\u001b[1;34m\u001b[0m\n\u001b[0;32m     19\u001b[0m         \u001b[0mpygame\u001b[0m\u001b[1;33m.\u001b[0m\u001b[0mdisplay\u001b[0m\u001b[1;33m.\u001b[0m\u001b[0mflip\u001b[0m\u001b[1;33m(\u001b[0m\u001b[1;33m)\u001b[0m\u001b[1;33m\u001b[0m\u001b[1;33m\u001b[0m\u001b[0m\n\u001b[0;32m     20\u001b[0m         \u001b[0mpygame\u001b[0m\u001b[1;33m.\u001b[0m\u001b[0mtime\u001b[0m\u001b[1;33m.\u001b[0m\u001b[0mwait\u001b[0m\u001b[1;33m(\u001b[0m\u001b[1;36m10\u001b[0m\u001b[1;33m)\u001b[0m\u001b[1;33m\u001b[0m\u001b[1;33m\u001b[0m\u001b[0m\n\u001b[1;32m---> 21\u001b[1;33m \u001b[0mmain\u001b[0m\u001b[1;33m(\u001b[0m\u001b[1;33m)\u001b[0m\u001b[1;33m\u001b[0m\u001b[1;33m\u001b[0m\u001b[0m\n\u001b[0m",
      "\u001b[1;32m<ipython-input-7-19a5118e22b9>\u001b[0m in \u001b[0;36mmain\u001b[1;34m()\u001b[0m\n\u001b[0;32m     14\u001b[0m                 \u001b[0mquit\u001b[0m\u001b[1;33m(\u001b[0m\u001b[1;33m)\u001b[0m\u001b[1;33m\u001b[0m\u001b[1;33m\u001b[0m\u001b[0m\n\u001b[0;32m     15\u001b[0m \u001b[1;33m\u001b[0m\u001b[0m\n\u001b[1;32m---> 16\u001b[1;33m         \u001b[0mglRotatef\u001b[0m\u001b[1;33m(\u001b[0m\u001b[1;36m1\u001b[0m\u001b[1;33m,\u001b[0m \u001b[1;36m3\u001b[0m\u001b[1;33m,\u001b[0m \u001b[1;36m1\u001b[0m\u001b[1;33m,\u001b[0m \u001b[1;36m1\u001b[0m\u001b[1;33m)\u001b[0m\u001b[1;33m\u001b[0m\u001b[1;33m\u001b[0m\u001b[0m\n\u001b[0m\u001b[0;32m     17\u001b[0m         \u001b[0mglClear\u001b[0m\u001b[1;33m(\u001b[0m\u001b[0mGL_COLOR_BUFFER_BIT\u001b[0m\u001b[1;33m|\u001b[0m\u001b[0mGL_DEPTH_BUFFER_BIT\u001b[0m\u001b[1;33m)\u001b[0m\u001b[1;33m\u001b[0m\u001b[1;33m\u001b[0m\u001b[0m\n\u001b[0;32m     18\u001b[0m         \u001b[0mCube\u001b[0m\u001b[1;33m(\u001b[0m\u001b[1;33m)\u001b[0m\u001b[1;33m\u001b[0m\u001b[1;33m\u001b[0m\u001b[0m\n",
      "\u001b[1;32md:\\pythonenv\\base3.7\\lib\\site-packages\\OpenGL\\error.py\u001b[0m in \u001b[0;36mglCheckError\u001b[1;34m(self, result, baseOperation, cArguments, *args)\u001b[0m\n\u001b[0;32m    232\u001b[0m                         \u001b[0mresult\u001b[0m\u001b[1;33m,\u001b[0m\u001b[1;33m\u001b[0m\u001b[1;33m\u001b[0m\u001b[0m\n\u001b[0;32m    233\u001b[0m                         \u001b[0mcArguments\u001b[0m \u001b[1;33m=\u001b[0m \u001b[0mcArguments\u001b[0m\u001b[1;33m,\u001b[0m\u001b[1;33m\u001b[0m\u001b[1;33m\u001b[0m\u001b[0m\n\u001b[1;32m--> 234\u001b[1;33m                         \u001b[0mbaseOperation\u001b[0m \u001b[1;33m=\u001b[0m \u001b[0mbaseOperation\u001b[0m\u001b[1;33m,\u001b[0m\u001b[1;33m\u001b[0m\u001b[1;33m\u001b[0m\u001b[0m\n\u001b[0m\u001b[0;32m    235\u001b[0m                     )\n\u001b[0;32m    236\u001b[0m                 \u001b[1;32mreturn\u001b[0m \u001b[0mresult\u001b[0m\u001b[1;33m\u001b[0m\u001b[1;33m\u001b[0m\u001b[0m\n",
      "\u001b[1;31mGLError\u001b[0m: GLError(\n\terr = 1282,\n\tdescription = b'invalid operation',\n\tbaseOperation = glRotatef,\n\tcArguments = (1, 3, 1, 1)\n)"
     ]
    }
   ],
   "source": [
    "def main():\n",
    "    pygame.init()\n",
    "    display = (800,600)\n",
    "    pygame.display.set_mode(display, DOUBLEBUF|OPENGL)\n",
    "\n",
    "    gluPerspective(45, (display[0]/display[1]), 0.1, 50.0)\n",
    "\n",
    "    glTranslatef(0.0,0.0, -5)\n",
    "\n",
    "    while True:\n",
    "        for event in pygame.event.get():\n",
    "            if event.type == pygame.QUIT:\n",
    "                pygame.quit()\n",
    "                quit()\n",
    "\n",
    "        glRotatef(1, 3, 1, 1)\n",
    "        glClear(GL_COLOR_BUFFER_BIT|GL_DEPTH_BUFFER_BIT)\n",
    "        Cube()\n",
    "        pygame.display.flip()\n",
    "        pygame.time.wait(10)\n",
    "main()"
   ]
  },
  {
   "cell_type": "code",
   "execution_count": null,
   "id": "laden-recipient",
   "metadata": {},
   "outputs": [],
   "source": []
  }
 ],
 "metadata": {
  "kernelspec": {
   "display_name": "Python 3",
   "language": "python",
   "name": "python3"
  },
  "language_info": {
   "codemirror_mode": {
    "name": "ipython",
    "version": 3
   },
   "file_extension": ".py",
   "mimetype": "text/x-python",
   "name": "python",
   "nbconvert_exporter": "python",
   "pygments_lexer": "ipython3",
   "version": "3.7.8"
  }
 },
 "nbformat": 4,
 "nbformat_minor": 5
}
