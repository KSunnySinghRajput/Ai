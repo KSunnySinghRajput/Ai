{
 "cells": [
  {
   "cell_type": "code",
   "execution_count": 3,
   "metadata": {},
   "outputs": [],
   "source": [
    "#pip install gTTS\n",
    "from gtts import gTTS"
   ]
  },
  {
   "cell_type": "code",
   "execution_count": 4,
   "metadata": {},
   "outputs": [
    {
     "name": "stdout",
     "output_type": "stream",
     "text": [
      "Hi, I'm Jonaid Sharif, from Chittagong. I was born and raised in Bangladeshi. I grew up in Karnafully city, but still living in Chittagong city. I'm originally from Chittagong. I'm pursuing BSc. In Computer Science from the International Islamic University Chittagong.\n",
      "\n",
      "I'm born in 02 January 1999. But still, I am in my twenties. My father is a farmer as well as a businessman and my mother is a housewife. Apart from studies, I'm very much involved in listening to music, creative graphic designer & WordPress theme & plugin customization. I have spent the past few years in dropout my studies. I work on the website in the marketing department. Now; I'm currently taking the course in creative graphic & WordPress development. I've 2 years of experience in the freelancer field. I have a dad & mum. I'm from a family of five members. I'm one of five siblings. I spend a lot of time working on the Computer. And I love spending time with my family.\n"
     ]
    }
   ],
   "source": [
    "def read(filename):\n",
    "    file=open(filename, 'r')\n",
    "    text = file.read()\n",
    "    return text\n",
    "text=read('text/text.txt')\n",
    "print(text)"
   ]
  },
  {
   "cell_type": "code",
   "execution_count": null,
   "metadata": {},
   "outputs": [],
   "source": [
    "#all text convert in to single audio file\n",
    "tts = gTTS(text)  \n",
    "tts.save('data/en/text.mp3')"
   ]
  },
  {
   "cell_type": "code",
   "execution_count": null,
   "metadata": {},
   "outputs": [],
   "source": [
    "word=text.split() #167\n",
    "word_set=set(text.split()) #106\n",
    "word_set=set(map(lambda st: str.lower(st), word)) #102"
   ]
  },
  {
   "cell_type": "code",
   "execution_count": null,
   "metadata": {},
   "outputs": [],
   "source": [
    "import os\n",
    "#dir word(file_name) set\n",
    "Text_dir=os.listdir('data/split_word')\n",
    "dir_set= set(map(lambda st: str.replace(st, \".mp3\", \"\"), Text_dir))\n",
    "\n",
    "#not present in dir \n",
    "diff_set = word_set.difference(dir_set)\n",
    "\n",
    "for a in diff_set:\n",
    "    print (a+\" File not exist\")\n",
    "    tts = gTTS(a)\n",
    "    tts.save(\"data/split_word/\"+a.lower()+\".mp3\")\n",
    "    #tts.save(\"data/split_word/\"+a.lower())"
   ]
  },
  {
   "cell_type": "code",
   "execution_count": null,
   "metadata": {},
   "outputs": [],
   "source": []
  },
  {
   "cell_type": "code",
   "execution_count": null,
   "metadata": {},
   "outputs": [],
   "source": []
  }
 ],
 "metadata": {
  "kernelspec": {
   "display_name": "Python 3",
   "language": "python",
   "name": "python3"
  },
  "language_info": {
   "codemirror_mode": {
    "name": "ipython",
    "version": 3
   },
   "file_extension": ".py",
   "mimetype": "text/x-python",
   "name": "python",
   "nbconvert_exporter": "python",
   "pygments_lexer": "ipython3",
   "version": "3.7.7"
  }
 },
 "nbformat": 4,
 "nbformat_minor": 4
}
